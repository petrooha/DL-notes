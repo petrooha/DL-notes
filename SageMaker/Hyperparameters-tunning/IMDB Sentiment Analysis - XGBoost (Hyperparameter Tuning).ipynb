{
 "cells": [
  {
   "cell_type": "markdown",
   "metadata": {},
   "source": [
    "# Sentiment Analysis\n",
    "\n",
    "## Using XGBoost in SageMaker\n",
    "\n",
    "_Deep Learning Nanodegree Program | Deployment_\n",
    "\n",
    "---\n",
    "\n",
    "In this example of using Amazon's SageMaker service we will construct a random tree model to predict the sentiment of a movie review. You may have seen a version of this example in a pervious lesson although it would have been done using the sklearn package. Instead, we will be using the XGBoost package as it is provided to us by Amazon.\n",
    "\n",
    "## Instructions\n",
    "\n",
    "Some template code has already been provided for you, and you will need to implement additional functionality to successfully complete this notebook. You will not need to modify the included code beyond what is requested. Sections that begin with '**TODO**' in the header indicate that you need to complete or implement some portion within them. Instructions will be provided for each section and the specifics of the implementation are marked in the code block with a `# TODO: ...` comment. Please be sure to read the instructions carefully!\n",
    "\n",
    "In addition to implementing code, there will be questions for you to answer which relate to the task and your implementation. Each section where you will answer a question is preceded by a '**Question:**' header. Carefully read each question and provide your answer below the '**Answer:**' header by editing the Markdown cell.\n",
    "\n",
    "> **Note**: Code and Markdown cells can be executed using the **Shift+Enter** keyboard shortcut. In addition, a cell can be edited by typically clicking it (double-click for Markdown cells) or by pressing **Enter** while it is highlighted."
   ]
  },
  {
   "cell_type": "code",
   "execution_count": 1,
   "metadata": {},
   "outputs": [
    {
     "name": "stdout",
     "output_type": "stream",
     "text": [
      "Collecting sagemaker==1.72.0\n",
      "  Downloading sagemaker-1.72.0.tar.gz (297 kB)\n",
      "\u001b[K     |████████████████████████████████| 297 kB 18.8 MB/s eta 0:00:01\n",
      "\u001b[?25hRequirement already satisfied: boto3>=1.14.12 in /home/ec2-user/anaconda3/envs/python3/lib/python3.6/site-packages (from sagemaker==1.72.0) (1.17.16)\n",
      "Requirement already satisfied: numpy>=1.9.0 in /home/ec2-user/anaconda3/envs/python3/lib/python3.6/site-packages (from sagemaker==1.72.0) (1.19.5)\n",
      "Requirement already satisfied: protobuf>=3.1 in /home/ec2-user/anaconda3/envs/python3/lib/python3.6/site-packages (from sagemaker==1.72.0) (3.11.4)\n",
      "Requirement already satisfied: scipy>=0.19.0 in /home/ec2-user/anaconda3/envs/python3/lib/python3.6/site-packages (from sagemaker==1.72.0) (1.4.1)\n",
      "Requirement already satisfied: protobuf3-to-dict>=0.1.5 in /home/ec2-user/anaconda3/envs/python3/lib/python3.6/site-packages (from sagemaker==1.72.0) (0.1.5)\n",
      "Collecting smdebug-rulesconfig==0.1.4\n",
      "  Downloading smdebug_rulesconfig-0.1.4-py2.py3-none-any.whl (10 kB)\n",
      "Requirement already satisfied: importlib-metadata>=1.4.0 in /home/ec2-user/anaconda3/envs/python3/lib/python3.6/site-packages (from sagemaker==1.72.0) (1.5.0)\n",
      "Requirement already satisfied: packaging>=20.0 in /home/ec2-user/anaconda3/envs/python3/lib/python3.6/site-packages (from sagemaker==1.72.0) (20.1)\n",
      "Requirement already satisfied: s3transfer<0.4.0,>=0.3.0 in /home/ec2-user/anaconda3/envs/python3/lib/python3.6/site-packages (from boto3>=1.14.12->sagemaker==1.72.0) (0.3.4)\n",
      "Requirement already satisfied: jmespath<1.0.0,>=0.7.1 in /home/ec2-user/anaconda3/envs/python3/lib/python3.6/site-packages (from boto3>=1.14.12->sagemaker==1.72.0) (0.10.0)\n",
      "Requirement already satisfied: botocore<1.21.0,>=1.20.16 in /home/ec2-user/anaconda3/envs/python3/lib/python3.6/site-packages (from boto3>=1.14.12->sagemaker==1.72.0) (1.20.16)\n",
      "Requirement already satisfied: urllib3<1.27,>=1.25.4 in /home/ec2-user/anaconda3/envs/python3/lib/python3.6/site-packages (from botocore<1.21.0,>=1.20.16->boto3>=1.14.12->sagemaker==1.72.0) (1.25.10)\n",
      "Requirement already satisfied: python-dateutil<3.0.0,>=2.1 in /home/ec2-user/anaconda3/envs/python3/lib/python3.6/site-packages (from botocore<1.21.0,>=1.20.16->boto3>=1.14.12->sagemaker==1.72.0) (2.8.1)\n",
      "Requirement already satisfied: zipp>=0.5 in /home/ec2-user/anaconda3/envs/python3/lib/python3.6/site-packages (from importlib-metadata>=1.4.0->sagemaker==1.72.0) (2.2.0)\n",
      "Requirement already satisfied: six in /home/ec2-user/anaconda3/envs/python3/lib/python3.6/site-packages (from packaging>=20.0->sagemaker==1.72.0) (1.14.0)\n",
      "Requirement already satisfied: pyparsing>=2.0.2 in /home/ec2-user/anaconda3/envs/python3/lib/python3.6/site-packages (from packaging>=20.0->sagemaker==1.72.0) (2.4.6)\n",
      "Requirement already satisfied: setuptools in /home/ec2-user/anaconda3/envs/python3/lib/python3.6/site-packages (from protobuf>=3.1->sagemaker==1.72.0) (53.0.0)\n",
      "Building wheels for collected packages: sagemaker\n",
      "  Building wheel for sagemaker (setup.py) ... \u001b[?25ldone\n",
      "\u001b[?25h  Created wheel for sagemaker: filename=sagemaker-1.72.0-py2.py3-none-any.whl size=386358 sha256=297781a22b336442a0d718c0e6cc235942890764d6a27949215c7094b3f2fd4f\n",
      "  Stored in directory: /home/ec2-user/.cache/pip/wheels/c3/58/70/85faf4437568bfaa4c419937569ba1fe54d44c5db42406bbd7\n",
      "Successfully built sagemaker\n",
      "Installing collected packages: smdebug-rulesconfig, sagemaker\n",
      "  Attempting uninstall: smdebug-rulesconfig\n",
      "    Found existing installation: smdebug-rulesconfig 1.0.1\n",
      "    Uninstalling smdebug-rulesconfig-1.0.1:\n",
      "      Successfully uninstalled smdebug-rulesconfig-1.0.1\n",
      "  Attempting uninstall: sagemaker\n",
      "    Found existing installation: sagemaker 2.25.2\n",
      "    Uninstalling sagemaker-2.25.2:\n",
      "      Successfully uninstalled sagemaker-2.25.2\n",
      "Successfully installed sagemaker-1.72.0 smdebug-rulesconfig-0.1.4\n"
     ]
    }
   ],
   "source": [
    "# Make sure that we use SageMaker 1.x\n",
    "!pip install sagemaker==1.72.0"
   ]
  },
  {
   "cell_type": "markdown",
   "metadata": {},
   "source": [
    "## Step 1: Downloading the data\n",
    "\n",
    "The dataset we are going to use is very popular among researchers in Natural Language Processing, usually referred to as the [IMDb dataset](http://ai.stanford.edu/~amaas/data/sentiment/). It consists of movie reviews from the website [imdb.com](http://www.imdb.com/), each labeled as either '**pos**itive', if the reviewer enjoyed the film, or '**neg**ative' otherwise.\n",
    "\n",
    "> Maas, Andrew L., et al. [Learning Word Vectors for Sentiment Analysis](http://ai.stanford.edu/~amaas/data/sentiment/). In _Proceedings of the 49th Annual Meeting of the Association for Computational Linguistics: Human Language Technologies_. Association for Computational Linguistics, 2011.\n",
    "\n",
    "We begin by using some Jupyter Notebook magic to download and extract the dataset."
   ]
  },
  {
   "cell_type": "code",
   "execution_count": 2,
   "metadata": {},
   "outputs": [
    {
     "name": "stdout",
     "output_type": "stream",
     "text": [
      "--2021-03-03 23:56:59--  http://ai.stanford.edu/~amaas/data/sentiment/aclImdb_v1.tar.gz\n",
      "Resolving ai.stanford.edu (ai.stanford.edu)... 171.64.68.10\n",
      "Connecting to ai.stanford.edu (ai.stanford.edu)|171.64.68.10|:80... connected.\n",
      "HTTP request sent, awaiting response... 200 OK\n",
      "Length: 84125825 (80M) [application/x-gzip]\n",
      "Saving to: ‘../data/aclImdb_v1.tar.gz’\n",
      "\n",
      "../data/aclImdb_v1. 100%[===================>]  80.23M  23.6MB/s    in 4.4s    \n",
      "\n",
      "2021-03-03 23:57:04 (18.2 MB/s) - ‘../data/aclImdb_v1.tar.gz’ saved [84125825/84125825]\n",
      "\n"
     ]
    }
   ],
   "source": [
    "%mkdir ../data\n",
    "!wget -O ../data/aclImdb_v1.tar.gz http://ai.stanford.edu/~amaas/data/sentiment/aclImdb_v1.tar.gz\n",
    "!tar -zxf ../data/aclImdb_v1.tar.gz -C ../data"
   ]
  },
  {
   "cell_type": "markdown",
   "metadata": {},
   "source": [
    "## Step 2: Preparing the data\n",
    "\n",
    "The data we have downloaded is split into various files, each of which contains a single review. It will be much easier going forward if we combine these individual files into two large files, one for training and one for testing."
   ]
  },
  {
   "cell_type": "code",
   "execution_count": 3,
   "metadata": {},
   "outputs": [],
   "source": [
    "import os\n",
    "import glob\n",
    "\n",
    "def read_imdb_data(data_dir='../data/aclImdb'):\n",
    "    data = {}\n",
    "    labels = {}\n",
    "    \n",
    "    for data_type in ['train', 'test']:\n",
    "        data[data_type] = {}\n",
    "        labels[data_type] = {}\n",
    "        \n",
    "        for sentiment in ['pos', 'neg']:\n",
    "            data[data_type][sentiment] = []\n",
    "            labels[data_type][sentiment] = []\n",
    "            \n",
    "            path = os.path.join(data_dir, data_type, sentiment, '*.txt')\n",
    "            files = glob.glob(path)\n",
    "            \n",
    "            for f in files:\n",
    "                with open(f) as review:\n",
    "                    data[data_type][sentiment].append(review.read())\n",
    "                    # Here we represent a positive review by '1' and a negative review by '0'\n",
    "                    labels[data_type][sentiment].append(1 if sentiment == 'pos' else 0)\n",
    "                    \n",
    "            assert len(data[data_type][sentiment]) == len(labels[data_type][sentiment]), \\\n",
    "                    \"{}/{} data size does not match labels size\".format(data_type, sentiment)\n",
    "                \n",
    "    return data, labels"
   ]
  },
  {
   "cell_type": "code",
   "execution_count": 4,
   "metadata": {},
   "outputs": [
    {
     "name": "stdout",
     "output_type": "stream",
     "text": [
      "IMDB reviews: train = 12500 pos / 12500 neg, test = 12500 pos / 12500 neg\n"
     ]
    }
   ],
   "source": [
    "data, labels = read_imdb_data()\n",
    "print(\"IMDB reviews: train = {} pos / {} neg, test = {} pos / {} neg\".format(\n",
    "            len(data['train']['pos']), len(data['train']['neg']),\n",
    "            len(data['test']['pos']), len(data['test']['neg'])))"
   ]
  },
  {
   "cell_type": "code",
   "execution_count": 5,
   "metadata": {},
   "outputs": [],
   "source": [
    "from sklearn.utils import shuffle\n",
    "\n",
    "def prepare_imdb_data(data, labels):\n",
    "    \"\"\"Prepare training and test sets from IMDb movie reviews.\"\"\"\n",
    "    \n",
    "    #Combine positive and negative reviews and labels\n",
    "    data_train = data['train']['pos'] + data['train']['neg']\n",
    "    data_test = data['test']['pos'] + data['test']['neg']\n",
    "    labels_train = labels['train']['pos'] + labels['train']['neg']\n",
    "    labels_test = labels['test']['pos'] + labels['test']['neg']\n",
    "    \n",
    "    #Shuffle reviews and corresponding labels within training and test sets\n",
    "    data_train, labels_train = shuffle(data_train, labels_train)\n",
    "    data_test, labels_test = shuffle(data_test, labels_test)\n",
    "    \n",
    "    # Return a unified training data, test data, training labels, test labets\n",
    "    return data_train, data_test, labels_train, labels_test"
   ]
  },
  {
   "cell_type": "code",
   "execution_count": 36,
   "metadata": {},
   "outputs": [
    {
     "name": "stdout",
     "output_type": "stream",
     "text": [
      "IMDb reviews (combined): train = 25000, test = 25000\n"
     ]
    }
   ],
   "source": [
    "train_X, test_X, train_y, test_y = prepare_imdb_data(data, labels)\n",
    "print(\"IMDb reviews (combined): train = {}, test = {}\".format(len(train_X), len(test_X)))"
   ]
  },
  {
   "cell_type": "code",
   "execution_count": 7,
   "metadata": {},
   "outputs": [
    {
     "data": {
      "text/plain": [
       "\"This movie is incredibly realistic and I feel does a great justice to the crime that many people do not understand because of a lack of experience. The many people who think they could fathom what goes through a victim's mind are arrogant. As a victim, I feel that Dawson did a fantastic job in her role of Maya. I agree that this is an incredibly brave film. This looks at rape from a different, more realistic standpoint than any other movie I've ever seen on the subject. The end did drag on a bit long, but I know that many victims imagine this kind of justice, since the chances of an attacker being sent to jail for their crime is around 1%. It's good to see a movie that sticks closer to reality than most would dare to.\""
      ]
     },
     "execution_count": 7,
     "metadata": {},
     "output_type": "execute_result"
    }
   ],
   "source": [
    "train_X[100]"
   ]
  },
  {
   "cell_type": "markdown",
   "metadata": {},
   "source": [
    "## Step 3: Processing the data\n",
    "\n",
    "Now that we have our training and testing datasets merged and ready to use, we need to start processing the raw data into something that will be useable by our machine learning algorithm. To begin with, we remove any html formatting that may appear in the reviews and perform some standard natural language processing in order to homogenize the data."
   ]
  },
  {
   "cell_type": "code",
   "execution_count": 8,
   "metadata": {},
   "outputs": [
    {
     "name": "stderr",
     "output_type": "stream",
     "text": [
      "[nltk_data] Downloading package stopwords to\n",
      "[nltk_data]     /home/ec2-user/nltk_data...\n",
      "[nltk_data]   Unzipping corpora/stopwords.zip.\n"
     ]
    }
   ],
   "source": [
    "import nltk\n",
    "nltk.download(\"stopwords\")\n",
    "from nltk.corpus import stopwords\n",
    "from nltk.stem.porter import *\n",
    "stemmer = PorterStemmer()"
   ]
  },
  {
   "cell_type": "code",
   "execution_count": 9,
   "metadata": {},
   "outputs": [],
   "source": [
    "import re\n",
    "from bs4 import BeautifulSoup\n",
    "\n",
    "def review_to_words(review):\n",
    "    text = BeautifulSoup(review, \"html.parser\").get_text() # Remove HTML tags\n",
    "    text = re.sub(r\"[^a-zA-Z0-9]\", \" \", text.lower()) # Convert to lower case\n",
    "    words = text.split() # Split string into words\n",
    "    words = [w for w in words if w not in stopwords.words(\"english\")] # Remove stopwords\n",
    "    words = [PorterStemmer().stem(w) for w in words] # stem\n",
    "    \n",
    "    return words"
   ]
  },
  {
   "cell_type": "code",
   "execution_count": 10,
   "metadata": {},
   "outputs": [],
   "source": [
    "import pickle\n",
    "\n",
    "cache_dir = os.path.join(\"../cache\", \"sentiment_analysis\")  # where to store cache files\n",
    "os.makedirs(cache_dir, exist_ok=True)  # ensure cache directory exists\n",
    "\n",
    "def preprocess_data(data_train, data_test, labels_train, labels_test,\n",
    "                    cache_dir=cache_dir, cache_file=\"preprocessed_data.pkl\"):\n",
    "    \"\"\"Convert each review to words; read from cache if available.\"\"\"\n",
    "\n",
    "    # If cache_file is not None, try to read from it first\n",
    "    cache_data = None\n",
    "    if cache_file is not None:\n",
    "        try:\n",
    "            with open(os.path.join(cache_dir, cache_file), \"rb\") as f:\n",
    "                cache_data = pickle.load(f)\n",
    "            print(\"Read preprocessed data from cache file:\", cache_file)\n",
    "        except:\n",
    "            pass  # unable to read from cache, but that's okay\n",
    "    \n",
    "    # If cache is missing, then do the heavy lifting\n",
    "    if cache_data is None:\n",
    "        # Preprocess training and test data to obtain words for each review\n",
    "        #words_train = list(map(review_to_words, data_train))\n",
    "        #words_test = list(map(review_to_words, data_test))\n",
    "        words_train = [review_to_words(review) for review in data_train]\n",
    "        words_test = [review_to_words(review) for review in data_test]\n",
    "        \n",
    "        # Write to cache file for future runs\n",
    "        if cache_file is not None:\n",
    "            cache_data = dict(words_train=words_train, words_test=words_test,\n",
    "                              labels_train=labels_train, labels_test=labels_test)\n",
    "            with open(os.path.join(cache_dir, cache_file), \"wb\") as f:\n",
    "                pickle.dump(cache_data, f)\n",
    "            print(\"Wrote preprocessed data to cache file:\", cache_file)\n",
    "    else:\n",
    "        # Unpack data loaded from cache file\n",
    "        words_train, words_test, labels_train, labels_test = (cache_data['words_train'],\n",
    "                cache_data['words_test'], cache_data['labels_train'], cache_data['labels_test'])\n",
    "    \n",
    "    return words_train, words_test, labels_train, labels_test"
   ]
  },
  {
   "cell_type": "code",
   "execution_count": 45,
   "metadata": {},
   "outputs": [
    {
     "name": "stdout",
     "output_type": "stream",
     "text": [
      "Read preprocessed data from cache file: preprocessed_data.pkl\n"
     ]
    }
   ],
   "source": [
    "# Preprocess data\n",
    "train_X, test_X, train_y, test_y = preprocess_data(train_X, test_X, train_y, test_y)"
   ]
  },
  {
   "cell_type": "markdown",
   "metadata": {},
   "source": [
    "### Extract Bag-of-Words features\n",
    "\n",
    "For the model we will be implementing, rather than using the reviews directly, we are going to transform each review into a Bag-of-Words feature representation. Keep in mind that 'in the wild' we will only have access to the training set so our transformer can only use the training set to construct a representation."
   ]
  },
  {
   "cell_type": "code",
   "execution_count": 46,
   "metadata": {},
   "outputs": [],
   "source": [
    "import numpy as np\n",
    "from sklearn.feature_extraction.text import CountVectorizer\n",
    "from sklearn.externals import joblib\n",
    "# joblib is an enhanced version of pickle that is more efficient for storing NumPy arrays\n",
    "\n",
    "def extract_BoW_features(words_train, words_test, vocabulary_size=5000,\n",
    "                         cache_dir=cache_dir, cache_file=\"bow_features.pkl\"):\n",
    "    \"\"\"Extract Bag-of-Words for a given set of documents, already preprocessed into words.\"\"\"\n",
    "    \n",
    "    # If cache_file is not None, try to read from it first\n",
    "    cache_data = None\n",
    "    if cache_file is not None:\n",
    "        try:\n",
    "            with open(os.path.join(cache_dir, cache_file), \"rb\") as f:\n",
    "                cache_data = joblib.load(f)\n",
    "            print(\"Read features from cache file:\", cache_file)\n",
    "        except:\n",
    "            pass  # unable to read from cache, but that's okay\n",
    "    \n",
    "    # If cache is missing, then do the heavy lifting\n",
    "    if cache_data is None:\n",
    "        # Fit a vectorizer to training documents and use it to transform them\n",
    "        # NOTE: Training documents have already been preprocessed and tokenized into words;\n",
    "        #       pass in dummy functions to skip those steps, e.g. preprocessor=lambda x: x\n",
    "        vectorizer = CountVectorizer(max_features=vocabulary_size,\n",
    "                preprocessor=lambda x: x, tokenizer=lambda x: x)  # already preprocessed\n",
    "        features_train = vectorizer.fit_transform(words_train).toarray()\n",
    "\n",
    "        # Apply the same vectorizer to transform the test documents (ignore unknown words)\n",
    "        features_test = vectorizer.transform(words_test).toarray()\n",
    "        \n",
    "        # NOTE: Remember to convert the features using .toarray() for a compact representation\n",
    "        \n",
    "        # Write to cache file for future runs (store vocabulary as well)\n",
    "        if cache_file is not None:\n",
    "            vocabulary = vectorizer.vocabulary_\n",
    "            cache_data = dict(features_train=features_train, features_test=features_test,\n",
    "                             vocabulary=vocabulary)\n",
    "            with open(os.path.join(cache_dir, cache_file), \"wb\") as f:\n",
    "                joblib.dump(cache_data, f)\n",
    "            print(\"Wrote features to cache file:\", cache_file)\n",
    "    else:\n",
    "        # Unpack data loaded from cache file\n",
    "        features_train, features_test, vocabulary = (cache_data['features_train'],\n",
    "                cache_data['features_test'], cache_data['vocabulary'])\n",
    "    \n",
    "    # Return both the extracted features as well as the vocabulary\n",
    "    return features_train, features_test, vocabulary"
   ]
  },
  {
   "cell_type": "code",
   "execution_count": 47,
   "metadata": {},
   "outputs": [
    {
     "name": "stdout",
     "output_type": "stream",
     "text": [
      "Read features from cache file: bow_features.pkl\n"
     ]
    }
   ],
   "source": [
    "# Extract Bag of Words features for both training and test datasets\n",
    "train_X, test_X, vocabulary = extract_BoW_features(train_X, test_X)"
   ]
  },
  {
   "cell_type": "markdown",
   "metadata": {},
   "source": [
    "## Step 4: Classification using XGBoost\n",
    "\n",
    "Now that we have created the feature representation of our training (and testing) data, it is time to start setting up and using the XGBoost classifier provided by SageMaker.\n",
    "\n",
    "### Writing the dataset\n",
    "\n",
    "The XGBoost classifier that we will be using requires the dataset to be written to a file and stored using Amazon S3. To do this, we will start by splitting the training dataset into two parts, the data we will train the model with and a validation set. Then, we will write those datasets to a file and upload the files to S3. In addition, we will write the test set input to a file and upload the file to S3. This is so that we can use SageMakers Batch Transform functionality to test our model once we've fit it."
   ]
  },
  {
   "cell_type": "code",
   "execution_count": 48,
   "metadata": {},
   "outputs": [],
   "source": [
    "import pandas as pd\n",
    "\n",
    "val_X = pd.DataFrame(train_X[:10000])\n",
    "train_X = pd.DataFrame(train_X[10000:])\n",
    "\n",
    "val_y = pd.DataFrame(train_y[:10000])\n",
    "train_y = pd.DataFrame(train_y[10000:])\n",
    "\n",
    "test_y = pd.DataFrame(test_y)\n",
    "test_X = pd.DataFrame(test_X)"
   ]
  },
  {
   "cell_type": "markdown",
   "metadata": {},
   "source": [
    "The documentation for the XGBoost algorithm in SageMaker requires that the saved datasets should contain no headers or index and that for the training and validation data, the label should occur first for each sample.\n",
    "\n",
    "For more information about this and other algorithms, the SageMaker developer documentation can be found on __[Amazon's website.](https://docs.aws.amazon.com/sagemaker/latest/dg/)__"
   ]
  },
  {
   "cell_type": "code",
   "execution_count": 49,
   "metadata": {},
   "outputs": [],
   "source": [
    "# First we make sure that the local directory in which we'd like to store the training and validation csv files exists.\n",
    "data_dir = '../data/xgboost'\n",
    "if not os.path.exists(data_dir):\n",
    "    os.makedirs(data_dir)"
   ]
  },
  {
   "cell_type": "code",
   "execution_count": 50,
   "metadata": {},
   "outputs": [],
   "source": [
    "# First, save the test data to test.csv in the data_dir directory. Note that we do not save the associated ground truth\n",
    "# labels, instead we will use them later to compare with our model output.\n",
    "\n",
    "pd.DataFrame(test_X).to_csv(os.path.join(data_dir, 'test.csv'), header=False, index=False)\n",
    "\n",
    "pd.concat([val_y, val_X], axis=1).to_csv(os.path.join(data_dir, 'validation.csv'), header=False, index=False)\n",
    "pd.concat([train_y, train_X], axis=1).to_csv(os.path.join(data_dir, 'train.csv'), header=False, index=False)"
   ]
  },
  {
   "cell_type": "code",
   "execution_count": 56,
   "metadata": {},
   "outputs": [],
   "source": [
    "# To save a bit of memory we can set text_X, train_X, val_X, train_y and val_y to None.\n",
    "\n",
    "train_X = val_X = train_y = val_y = None"
   ]
  },
  {
   "cell_type": "markdown",
   "metadata": {},
   "source": [
    "### Uploading Training / Validation files to S3\n",
    "\n",
    "Amazon's S3 service allows us to store files that can be access by both the built-in training models such as the XGBoost model we will be using as well as custom models such as the one we will see a little later.\n",
    "\n",
    "For this, and most other tasks we will be doing using SageMaker, there are two methods we could use. The first is to use the low level functionality of SageMaker which requires knowing each of the objects involved in the SageMaker environment. The second is to use the high level functionality in which certain choices have been made on the user's behalf. The low level approach benefits from allowing the user a great deal of flexibility while the high level approach makes development much quicker. For our purposes we will opt to use the high level approach although using the low-level approach is certainly an option.\n",
    "\n",
    "Recall the method `upload_data()` which is a member of object representing our current SageMaker session. What this method does is upload the data to the default bucket (which is created if it does not exist) into the path described by the key_prefix variable. To see this for yourself, once you have uploaded the data files, go to the S3 console and look to see where the files have been uploaded.\n",
    "\n",
    "For additional resources, see the __[SageMaker API documentation](http://sagemaker.readthedocs.io/en/latest/)__ and in addition the __[SageMaker Developer Guide.](https://docs.aws.amazon.com/sagemaker/latest/dg/)__"
   ]
  },
  {
   "cell_type": "code",
   "execution_count": 51,
   "metadata": {},
   "outputs": [],
   "source": [
    "import sagemaker\n",
    "\n",
    "session = sagemaker.Session() # Store the current SageMaker session\n",
    "\n",
    "# S3 prefix (which folder will we use)\n",
    "prefix = 'sentiment-xgboost'\n",
    "\n",
    "test_location = session.upload_data(os.path.join(data_dir, 'test.csv'), key_prefix=prefix)\n",
    "val_location = session.upload_data(os.path.join(data_dir, 'validation.csv'), key_prefix=prefix)\n",
    "train_location = session.upload_data(os.path.join(data_dir, 'train.csv'), key_prefix=prefix)"
   ]
  },
  {
   "cell_type": "markdown",
   "metadata": {},
   "source": [
    "### (TODO) Creating a hypertuned XGBoost model\n",
    "\n",
    "Now that the data has been uploaded it is time to create the XGBoost model. As in the Boston Housing notebook, the first step is to create an estimator object which will be used as the *base* of your hyperparameter tuning job."
   ]
  },
  {
   "cell_type": "code",
   "execution_count": 19,
   "metadata": {},
   "outputs": [],
   "source": [
    "from sagemaker import get_execution_role\n",
    "\n",
    "# Our current execution role is require when creating the model as the training\n",
    "# and inference code will need to access the model artifacts.\n",
    "role = get_execution_role()"
   ]
  },
  {
   "cell_type": "code",
   "execution_count": 20,
   "metadata": {},
   "outputs": [
    {
     "name": "stderr",
     "output_type": "stream",
     "text": [
      "'get_image_uri' method will be deprecated in favor of 'ImageURIProvider' class in SageMaker Python SDK v2.\n",
      "There is a more up to date SageMaker XGBoost image. To use the newer image, please set 'repo_version'='1.0-1'. For example:\n",
      "\tget_image_uri(region, 'xgboost', '1.0-1').\n"
     ]
    }
   ],
   "source": [
    "# We need to retrieve the location of the container which is provided by Amazon for using XGBoost.\n",
    "# As a matter of convenience, the training and inference code both use the same container.\n",
    "from sagemaker.amazon.amazon_estimator import get_image_uri\n",
    "\n",
    "container = get_image_uri(session.boto_region_name, 'xgboost')"
   ]
  },
  {
   "cell_type": "code",
   "execution_count": 21,
   "metadata": {},
   "outputs": [
    {
     "name": "stderr",
     "output_type": "stream",
     "text": [
      "Parameter image_name will be renamed to image_uri in SageMaker Python SDK v2.\n"
     ]
    }
   ],
   "source": [
    "# TODO: Create a SageMaker estimator using the container location determined in the previous cell.\n",
    "#       It is recommended that you use a single training instance of type ml.m4.xlarge. It is also\n",
    "#       recommended that you use 's3://{}/{}/output'.format(session.default_bucket(), prefix) as the\n",
    "#       output path.\n",
    "\n",
    "xgb = sagemaker.estimator.Estimator(container, role, train_instance_count=1, train_instance_type='ml.m4.xlarge',\n",
    "                                   output_path='s3://{}/{}/output'.format(session.default_bucket(), prefix),\n",
    "                                   sagemaker_session=session)\n",
    "\n",
    "# TODO: Set the XGBoost hyperparameters in the xgb object. Don't forget that in this case we have a binary\n",
    "#       label so we should be using the 'binary:logistic' objective.\n",
    "xgb.set_hyperparameters(max_depth=5,\n",
    "                        eta=0.2,\n",
    "                        gamma=4,\n",
    "                        min_child_weight=6,\n",
    "                        subsample=0.8,\n",
    "                        objective='binary:logistic',\n",
    "                        early_stopping_rounds=10,\n",
    "                        num_round=200)\n"
   ]
  },
  {
   "cell_type": "markdown",
   "metadata": {},
   "source": [
    "### (TODO) Create the hyperparameter tuner\n",
    "\n",
    "Now that the base estimator has been set up we need to construct a hyperparameter tuner object which we will use to request SageMaker construct a hyperparameter tuning job.\n",
    "\n",
    "**Note:** Training a single sentiment analysis XGBoost model takes longer than training a Boston Housing XGBoost model so if you don't want the hyperparameter tuning job to take too long, make sure to not set the total number of models (jobs) too high."
   ]
  },
  {
   "cell_type": "code",
   "execution_count": 25,
   "metadata": {},
   "outputs": [],
   "source": [
    "# First, make sure to import the relevant objects used to construct the tuner\n",
    "from sagemaker.tuner import IntegerParameter, ContinuousParameter, HyperparameterTuner\n",
    "\n",
    "# TODO: Create the hyperparameter tuner object\n",
    "\n",
    "xgb_hyperparameter_tuner = HyperparameterTuner(estimator=xgb, objective_metric_name='validation:rmse', \n",
    "                                               objective_type='Minimize', max_jobs=20, max_parallel_jobs=3, \n",
    "                                               hyperparameter_ranges = {'max_depth':IntegerParameter(3,12),\n",
    "                                                                      'eta':ContinuousParameter(0.05, 0.5),\n",
    "                                                                      'min_child_weight':IntegerParameter(2,8),\n",
    "                                                                      'subsample':ContinuousParameter(0.5, 0.9),\n",
    "                                                                      'gamma':ContinuousParameter(0, 10)})\n",
    "\n"
   ]
  },
  {
   "cell_type": "markdown",
   "metadata": {},
   "source": [
    "### Fit the hyperparameter tuner\n",
    "\n",
    "Now that the hyperparameter tuner object has been constructed, it is time to fit the various models and find the best performing model."
   ]
  },
  {
   "cell_type": "code",
   "execution_count": 26,
   "metadata": {},
   "outputs": [
    {
     "name": "stderr",
     "output_type": "stream",
     "text": [
      "'s3_input' class will be renamed to 'TrainingInput' in SageMaker Python SDK v2.\n",
      "'s3_input' class will be renamed to 'TrainingInput' in SageMaker Python SDK v2.\n"
     ]
    }
   ],
   "source": [
    "s3_input_train = sagemaker.s3_input(s3_data=train_location, content_type='csv')\n",
    "s3_input_validation = sagemaker.s3_input(s3_data=val_location, content_type='csv')"
   ]
  },
  {
   "cell_type": "code",
   "execution_count": 27,
   "metadata": {},
   "outputs": [],
   "source": [
    "xgb_hyperparameter_tuner.fit({'train': s3_input_train, 'validation': s3_input_validation})"
   ]
  },
  {
   "cell_type": "markdown",
   "metadata": {},
   "source": [
    "Remember that the tuning job is constructed and run in the background so if we want to see the progress of our training job we need to call the `wait()` method."
   ]
  },
  {
   "cell_type": "code",
   "execution_count": 28,
   "metadata": {},
   "outputs": [
    {
     "name": "stdout",
     "output_type": "stream",
     "text": [
      ".................................................................................................................................................................................................................................................................................................................................................................................................................................................................................................................................................................................................................................................................................................................................................................................................................................................................................................!\n"
     ]
    }
   ],
   "source": [
    "xgb_hyperparameter_tuner.wait()"
   ]
  },
  {
   "cell_type": "markdown",
   "metadata": {},
   "source": [
    "### (TODO) Testing the model\n",
    "\n",
    "Now that we've run our hyperparameter tuning job, it's time to see how well the best performing model actually performs. To do this we will use SageMaker's Batch Transform functionality. Batch Transform is a convenient way to perform inference on a large dataset in a way that is not realtime. That is, we don't necessarily need to use our model's results immediately and instead we can peform inference on a large number of samples. An example of this in industry might be peforming an end of month report. This method of inference can also be useful to us as it means to can perform inference on our entire test set. \n",
    "\n",
    "Remember that in order to create a transformer object to perform the batch transform job, we need a trained estimator object. We can do that using the `attach()` method, creating an estimator object which is attached to the best trained job."
   ]
  },
  {
   "cell_type": "code",
   "execution_count": 41,
   "metadata": {},
   "outputs": [
    {
     "name": "stderr",
     "output_type": "stream",
     "text": [
      "Parameter image_name will be renamed to image_uri in SageMaker Python SDK v2.\n"
     ]
    },
    {
     "name": "stdout",
     "output_type": "stream",
     "text": [
      "2021-03-04 02:02:03 Starting - Preparing the instances for training\n",
      "2021-03-04 02:02:03 Downloading - Downloading input data\n",
      "2021-03-04 02:02:03 Training - Training image download completed. Training in progress.\n",
      "2021-03-04 02:02:03 Uploading - Uploading generated training model\n",
      "2021-03-04 02:02:03 Completed - Training job completed\u001b[34mArguments: train\u001b[0m\n",
      "\u001b[34m[2021-03-04:01:55:27:INFO] Running standalone xgboost training.\u001b[0m\n",
      "\u001b[34m[2021-03-04:01:55:27:INFO] Setting up HPO optimized metric to be : rmse\u001b[0m\n",
      "\u001b[34m[2021-03-04:01:55:27:INFO] File size need to be processed in the node: 238.47mb. Available memory size in the node: 8439.29mb\u001b[0m\n",
      "\u001b[34m[2021-03-04:01:55:27:INFO] Determined delimiter of CSV input is ','\u001b[0m\n",
      "\u001b[34m[01:55:27] S3DistributionType set as FullyReplicated\u001b[0m\n",
      "\u001b[34m[01:55:29] 15000x5000 matrix with 75000000 entries loaded from /opt/ml/input/data/train?format=csv&label_column=0&delimiter=,\u001b[0m\n",
      "\u001b[34m[2021-03-04:01:55:29:INFO] Determined delimiter of CSV input is ','\u001b[0m\n",
      "\u001b[34m[01:55:29] S3DistributionType set as FullyReplicated\u001b[0m\n",
      "\u001b[34m[01:55:30] 10000x5000 matrix with 50000000 entries loaded from /opt/ml/input/data/validation?format=csv&label_column=0&delimiter=,\u001b[0m\n",
      "\u001b[34m[01:55:35] src/tree/updater_prune.cc:74: tree pruning end, 1 roots, 154 extra nodes, 14 pruned nodes, max_depth=8\u001b[0m\n",
      "\u001b[34m[0]#011train-rmse:0.467738#011validation-rmse:0.471967\u001b[0m\n",
      "\u001b[34mMultiple eval metrics have been passed: 'validation-rmse' will be used for early stopping.\n",
      "\u001b[0m\n",
      "\u001b[34mWill train until validation-rmse hasn't improved in 10 rounds.\u001b[0m\n",
      "\u001b[34m[01:55:37] src/tree/updater_prune.cc:74: tree pruning end, 1 roots, 140 extra nodes, 22 pruned nodes, max_depth=8\u001b[0m\n",
      "\u001b[34m[1]#011train-rmse:0.445838#011validation-rmse:0.454062\u001b[0m\n",
      "\u001b[34m[01:55:39] src/tree/updater_prune.cc:74: tree pruning end, 1 roots, 144 extra nodes, 20 pruned nodes, max_depth=8\u001b[0m\n",
      "\u001b[34m[2]#011train-rmse:0.430035#011validation-rmse:0.44137\u001b[0m\n",
      "\u001b[34m[01:55:41] src/tree/updater_prune.cc:74: tree pruning end, 1 roots, 112 extra nodes, 14 pruned nodes, max_depth=8\u001b[0m\n",
      "\u001b[34m[3]#011train-rmse:0.418375#011validation-rmse:0.431767\u001b[0m\n",
      "\u001b[34m[01:55:43] src/tree/updater_prune.cc:74: tree pruning end, 1 roots, 152 extra nodes, 24 pruned nodes, max_depth=8\u001b[0m\n",
      "\u001b[34m[4]#011train-rmse:0.406435#011validation-rmse:0.423479\u001b[0m\n",
      "\u001b[34m[01:55:45] src/tree/updater_prune.cc:74: tree pruning end, 1 roots, 88 extra nodes, 10 pruned nodes, max_depth=8\u001b[0m\n",
      "\u001b[34m[5]#011train-rmse:0.398336#011validation-rmse:0.417114\u001b[0m\n",
      "\u001b[34m[01:55:47] src/tree/updater_prune.cc:74: tree pruning end, 1 roots, 128 extra nodes, 12 pruned nodes, max_depth=8\u001b[0m\n",
      "\u001b[34m[6]#011train-rmse:0.389833#011validation-rmse:0.411603\u001b[0m\n",
      "\u001b[34m[01:55:49] src/tree/updater_prune.cc:74: tree pruning end, 1 roots, 108 extra nodes, 18 pruned nodes, max_depth=8\u001b[0m\n",
      "\u001b[34m[7]#011train-rmse:0.382324#011validation-rmse:0.406353\u001b[0m\n",
      "\u001b[34m[01:55:50] src/tree/updater_prune.cc:74: tree pruning end, 1 roots, 142 extra nodes, 24 pruned nodes, max_depth=8\u001b[0m\n",
      "\u001b[34m[8]#011train-rmse:0.374719#011validation-rmse:0.401465\u001b[0m\n",
      "\u001b[34m[01:55:52] src/tree/updater_prune.cc:74: tree pruning end, 1 roots, 96 extra nodes, 14 pruned nodes, max_depth=8\u001b[0m\n",
      "\u001b[34m[9]#011train-rmse:0.369027#011validation-rmse:0.397643\u001b[0m\n",
      "\u001b[34m[01:55:54] src/tree/updater_prune.cc:74: tree pruning end, 1 roots, 104 extra nodes, 30 pruned nodes, max_depth=8\u001b[0m\n",
      "\u001b[34m[10]#011train-rmse:0.36311#011validation-rmse:0.393783\u001b[0m\n",
      "\u001b[34m[01:55:56] src/tree/updater_prune.cc:74: tree pruning end, 1 roots, 90 extra nodes, 22 pruned nodes, max_depth=8\u001b[0m\n",
      "\u001b[34m[11]#011train-rmse:0.357945#011validation-rmse:0.389977\u001b[0m\n",
      "\u001b[34m[01:55:58] src/tree/updater_prune.cc:74: tree pruning end, 1 roots, 80 extra nodes, 22 pruned nodes, max_depth=8\u001b[0m\n",
      "\u001b[34m[12]#011train-rmse:0.353529#011validation-rmse:0.386722\u001b[0m\n",
      "\u001b[34m[01:56:00] src/tree/updater_prune.cc:74: tree pruning end, 1 roots, 112 extra nodes, 50 pruned nodes, max_depth=8\u001b[0m\n",
      "\u001b[34m[13]#011train-rmse:0.348887#011validation-rmse:0.38379\u001b[0m\n",
      "\u001b[34m[01:56:02] src/tree/updater_prune.cc:74: tree pruning end, 1 roots, 110 extra nodes, 22 pruned nodes, max_depth=8\u001b[0m\n",
      "\u001b[34m[14]#011train-rmse:0.34359#011validation-rmse:0.380489\u001b[0m\n",
      "\u001b[34m[01:56:04] src/tree/updater_prune.cc:74: tree pruning end, 1 roots, 66 extra nodes, 22 pruned nodes, max_depth=8\u001b[0m\n",
      "\u001b[34m[15]#011train-rmse:0.340134#011validation-rmse:0.378744\u001b[0m\n",
      "\u001b[34m[01:56:07] src/tree/updater_prune.cc:74: tree pruning end, 1 roots, 92 extra nodes, 42 pruned nodes, max_depth=8\u001b[0m\n",
      "\u001b[34m[16]#011train-rmse:0.336181#011validation-rmse:0.376535\u001b[0m\n",
      "\u001b[34m[01:56:08] src/tree/updater_prune.cc:74: tree pruning end, 1 roots, 126 extra nodes, 38 pruned nodes, max_depth=8\u001b[0m\n",
      "\u001b[34m[17]#011train-rmse:0.33147#011validation-rmse:0.374053\u001b[0m\n",
      "\u001b[34m[01:56:10] src/tree/updater_prune.cc:74: tree pruning end, 1 roots, 72 extra nodes, 18 pruned nodes, max_depth=8\u001b[0m\n",
      "\u001b[34m[18]#011train-rmse:0.328626#011validation-rmse:0.37192\u001b[0m\n",
      "\u001b[34m[01:56:12] src/tree/updater_prune.cc:74: tree pruning end, 1 roots, 104 extra nodes, 32 pruned nodes, max_depth=8\u001b[0m\n",
      "\u001b[34m[19]#011train-rmse:0.324842#011validation-rmse:0.370111\u001b[0m\n",
      "\u001b[34m[01:56:14] src/tree/updater_prune.cc:74: tree pruning end, 1 roots, 60 extra nodes, 28 pruned nodes, max_depth=8\u001b[0m\n",
      "\u001b[34m[20]#011train-rmse:0.32199#011validation-rmse:0.368553\u001b[0m\n",
      "\u001b[34m[01:56:16] src/tree/updater_prune.cc:74: tree pruning end, 1 roots, 96 extra nodes, 26 pruned nodes, max_depth=8\u001b[0m\n",
      "\u001b[34m[21]#011train-rmse:0.318996#011validation-rmse:0.366632\u001b[0m\n",
      "\u001b[34m[01:56:18] src/tree/updater_prune.cc:74: tree pruning end, 1 roots, 76 extra nodes, 30 pruned nodes, max_depth=8\u001b[0m\n",
      "\u001b[34m[22]#011train-rmse:0.316221#011validation-rmse:0.3649\u001b[0m\n",
      "\u001b[34m[01:56:20] src/tree/updater_prune.cc:74: tree pruning end, 1 roots, 46 extra nodes, 32 pruned nodes, max_depth=8\u001b[0m\n",
      "\u001b[34m[23]#011train-rmse:0.314076#011validation-rmse:0.363184\u001b[0m\n",
      "\u001b[34m[01:56:21] src/tree/updater_prune.cc:74: tree pruning end, 1 roots, 86 extra nodes, 30 pruned nodes, max_depth=8\u001b[0m\n",
      "\u001b[34m[24]#011train-rmse:0.311336#011validation-rmse:0.361559\u001b[0m\n",
      "\u001b[34m[01:56:23] src/tree/updater_prune.cc:74: tree pruning end, 1 roots, 84 extra nodes, 14 pruned nodes, max_depth=8\u001b[0m\n",
      "\u001b[34m[25]#011train-rmse:0.3085#011validation-rmse:0.360095\u001b[0m\n",
      "\u001b[34m[01:56:25] src/tree/updater_prune.cc:74: tree pruning end, 1 roots, 88 extra nodes, 22 pruned nodes, max_depth=8\u001b[0m\n",
      "\u001b[34m[26]#011train-rmse:0.305725#011validation-rmse:0.358712\u001b[0m\n",
      "\u001b[34m[01:56:27] src/tree/updater_prune.cc:74: tree pruning end, 1 roots, 78 extra nodes, 20 pruned nodes, max_depth=8\u001b[0m\n",
      "\u001b[34m[27]#011train-rmse:0.303223#011validation-rmse:0.357424\u001b[0m\n",
      "\u001b[34m[01:56:29] src/tree/updater_prune.cc:74: tree pruning end, 1 roots, 98 extra nodes, 44 pruned nodes, max_depth=8\u001b[0m\n",
      "\u001b[34m[28]#011train-rmse:0.300468#011validation-rmse:0.356101\u001b[0m\n",
      "\u001b[34m[01:56:31] src/tree/updater_prune.cc:74: tree pruning end, 1 roots, 58 extra nodes, 24 pruned nodes, max_depth=8\u001b[0m\n",
      "\u001b[34m[29]#011train-rmse:0.298402#011validation-rmse:0.354931\u001b[0m\n",
      "\u001b[34m[01:56:33] src/tree/updater_prune.cc:74: tree pruning end, 1 roots, 66 extra nodes, 30 pruned nodes, max_depth=8\u001b[0m\n",
      "\u001b[34m[30]#011train-rmse:0.296423#011validation-rmse:0.354054\u001b[0m\n",
      "\u001b[34m[01:56:35] src/tree/updater_prune.cc:74: tree pruning end, 1 roots, 60 extra nodes, 34 pruned nodes, max_depth=8\u001b[0m\n",
      "\u001b[34m[31]#011train-rmse:0.294288#011validation-rmse:0.353069\u001b[0m\n",
      "\u001b[34m[01:56:37] src/tree/updater_prune.cc:74: tree pruning end, 1 roots, 76 extra nodes, 20 pruned nodes, max_depth=8\u001b[0m\n",
      "\u001b[34m[32]#011train-rmse:0.291675#011validation-rmse:0.352057\u001b[0m\n",
      "\u001b[34m[01:56:38] src/tree/updater_prune.cc:74: tree pruning end, 1 roots, 58 extra nodes, 38 pruned nodes, max_depth=8\u001b[0m\n",
      "\u001b[34m[33]#011train-rmse:0.289954#011validation-rmse:0.351222\u001b[0m\n",
      "\u001b[34m[01:56:40] src/tree/updater_prune.cc:74: tree pruning end, 1 roots, 50 extra nodes, 22 pruned nodes, max_depth=8\u001b[0m\n",
      "\u001b[34m[34]#011train-rmse:0.288164#011validation-rmse:0.350233\u001b[0m\n",
      "\u001b[34m[01:56:42] src/tree/updater_prune.cc:74: tree pruning end, 1 roots, 52 extra nodes, 24 pruned nodes, max_depth=8\u001b[0m\n",
      "\u001b[34m[35]#011train-rmse:0.286566#011validation-rmse:0.349476\u001b[0m\n",
      "\u001b[34m[01:56:44] src/tree/updater_prune.cc:74: tree pruning end, 1 roots, 116 extra nodes, 48 pruned nodes, max_depth=8\u001b[0m\n",
      "\u001b[34m[36]#011train-rmse:0.283601#011validation-rmse:0.348943\u001b[0m\n",
      "\u001b[34m[01:56:46] src/tree/updater_prune.cc:74: tree pruning end, 1 roots, 74 extra nodes, 24 pruned nodes, max_depth=8\u001b[0m\n",
      "\u001b[34m[37]#011train-rmse:0.281538#011validation-rmse:0.348364\u001b[0m\n",
      "\u001b[34m[01:56:48] src/tree/updater_prune.cc:74: tree pruning end, 1 roots, 86 extra nodes, 46 pruned nodes, max_depth=8\u001b[0m\n",
      "\u001b[34m[38]#011train-rmse:0.278849#011validation-rmse:0.347379\u001b[0m\n",
      "\u001b[34m[01:56:50] src/tree/updater_prune.cc:74: tree pruning end, 1 roots, 40 extra nodes, 22 pruned nodes, max_depth=8\u001b[0m\n",
      "\u001b[34m[39]#011train-rmse:0.27746#011validation-rmse:0.346535\u001b[0m\n",
      "\u001b[34m[01:56:51] src/tree/updater_prune.cc:74: tree pruning end, 1 roots, 58 extra nodes, 30 pruned nodes, max_depth=8\u001b[0m\n",
      "\u001b[34m[40]#011train-rmse:0.275676#011validation-rmse:0.345323\u001b[0m\n",
      "\u001b[34m[01:56:53] src/tree/updater_prune.cc:74: tree pruning end, 1 roots, 72 extra nodes, 26 pruned nodes, max_depth=8\u001b[0m\n",
      "\u001b[34m[41]#011train-rmse:0.27404#011validation-rmse:0.344506\u001b[0m\n",
      "\u001b[34m[01:56:55] src/tree/updater_prune.cc:74: tree pruning end, 1 roots, 68 extra nodes, 34 pruned nodes, max_depth=8\u001b[0m\n",
      "\u001b[34m[42]#011train-rmse:0.272339#011validation-rmse:0.343643\u001b[0m\n",
      "\u001b[34m[01:56:57] src/tree/updater_prune.cc:74: tree pruning end, 1 roots, 58 extra nodes, 44 pruned nodes, max_depth=8\u001b[0m\n",
      "\u001b[34m[43]#011train-rmse:0.270764#011validation-rmse:0.342962\u001b[0m\n",
      "\u001b[34m[01:56:59] src/tree/updater_prune.cc:74: tree pruning end, 1 roots, 44 extra nodes, 26 pruned nodes, max_depth=8\u001b[0m\n",
      "\u001b[34m[44]#011train-rmse:0.269432#011validation-rmse:0.342107\u001b[0m\n",
      "\u001b[34m[01:57:01] src/tree/updater_prune.cc:74: tree pruning end, 1 roots, 46 extra nodes, 20 pruned nodes, max_depth=8\u001b[0m\n",
      "\u001b[34m[45]#011train-rmse:0.268033#011validation-rmse:0.3412\u001b[0m\n",
      "\u001b[34m[01:57:03] src/tree/updater_prune.cc:74: tree pruning end, 1 roots, 40 extra nodes, 26 pruned nodes, max_depth=8\u001b[0m\n",
      "\u001b[34m[46]#011train-rmse:0.267021#011validation-rmse:0.340794\u001b[0m\n",
      "\u001b[34m[01:57:06] src/tree/updater_prune.cc:74: tree pruning end, 1 roots, 42 extra nodes, 18 pruned nodes, max_depth=8\u001b[0m\n",
      "\u001b[34m[47]#011train-rmse:0.266004#011validation-rmse:0.340456\u001b[0m\n",
      "\u001b[34m[01:57:08] src/tree/updater_prune.cc:74: tree pruning end, 1 roots, 74 extra nodes, 30 pruned nodes, max_depth=8\u001b[0m\n",
      "\u001b[34m[48]#011train-rmse:0.264138#011validation-rmse:0.339932\u001b[0m\n",
      "\u001b[34m[01:57:10] src/tree/updater_prune.cc:74: tree pruning end, 1 roots, 70 extra nodes, 34 pruned nodes, max_depth=8\u001b[0m\n",
      "\u001b[34m[49]#011train-rmse:0.26251#011validation-rmse:0.339465\u001b[0m\n",
      "\u001b[34m[01:57:12] src/tree/updater_prune.cc:74: tree pruning end, 1 roots, 66 extra nodes, 46 pruned nodes, max_depth=8\u001b[0m\n",
      "\u001b[34m[50]#011train-rmse:0.260753#011validation-rmse:0.338534\u001b[0m\n",
      "\u001b[34m[01:57:14] src/tree/updater_prune.cc:74: tree pruning end, 1 roots, 44 extra nodes, 22 pruned nodes, max_depth=8\u001b[0m\n",
      "\u001b[34m[51]#011train-rmse:0.259649#011validation-rmse:0.337851\u001b[0m\n",
      "\u001b[34m[01:57:15] src/tree/updater_prune.cc:74: tree pruning end, 1 roots, 58 extra nodes, 32 pruned nodes, max_depth=8\u001b[0m\n",
      "\u001b[34m[52]#011train-rmse:0.258087#011validation-rmse:0.337248\u001b[0m\n",
      "\u001b[34m[01:57:17] src/tree/updater_prune.cc:74: tree pruning end, 1 roots, 32 extra nodes, 26 pruned nodes, max_depth=8\u001b[0m\n",
      "\u001b[34m[53]#011train-rmse:0.257199#011validation-rmse:0.336754\u001b[0m\n",
      "\u001b[34m[01:57:19] src/tree/updater_prune.cc:74: tree pruning end, 1 roots, 60 extra nodes, 20 pruned nodes, max_depth=8\u001b[0m\n",
      "\u001b[34m[54]#011train-rmse:0.255907#011validation-rmse:0.336449\u001b[0m\n",
      "\u001b[34m[01:57:21] src/tree/updater_prune.cc:74: tree pruning end, 1 roots, 36 extra nodes, 20 pruned nodes, max_depth=8\u001b[0m\n",
      "\u001b[34m[55]#011train-rmse:0.255092#011validation-rmse:0.336071\u001b[0m\n",
      "\u001b[34m[01:57:23] src/tree/updater_prune.cc:74: tree pruning end, 1 roots, 68 extra nodes, 28 pruned nodes, max_depth=8\u001b[0m\n",
      "\u001b[34m[56]#011train-rmse:0.253408#011validation-rmse:0.335399\u001b[0m\n",
      "\u001b[34m[01:57:25] src/tree/updater_prune.cc:74: tree pruning end, 1 roots, 48 extra nodes, 16 pruned nodes, max_depth=8\u001b[0m\n",
      "\u001b[34m[57]#011train-rmse:0.252416#011validation-rmse:0.335013\u001b[0m\n",
      "\u001b[34m[01:57:27] src/tree/updater_prune.cc:74: tree pruning end, 1 roots, 68 extra nodes, 46 pruned nodes, max_depth=8\u001b[0m\n",
      "\u001b[34m[58]#011train-rmse:0.250864#011validation-rmse:0.334701\u001b[0m\n",
      "\u001b[34m[01:57:29] src/tree/updater_prune.cc:74: tree pruning end, 1 roots, 66 extra nodes, 34 pruned nodes, max_depth=8\u001b[0m\n",
      "\u001b[34m[59]#011train-rmse:0.2495#011validation-rmse:0.334535\u001b[0m\n",
      "\u001b[34m[01:57:31] src/tree/updater_prune.cc:74: tree pruning end, 1 roots, 34 extra nodes, 32 pruned nodes, max_depth=8\u001b[0m\n",
      "\u001b[34m[60]#011train-rmse:0.248668#011validation-rmse:0.334114\u001b[0m\n",
      "\u001b[34m[01:57:32] src/tree/updater_prune.cc:74: tree pruning end, 1 roots, 58 extra nodes, 20 pruned nodes, max_depth=8\u001b[0m\n",
      "\u001b[34m[61]#011train-rmse:0.247398#011validation-rmse:0.33385\u001b[0m\n",
      "\u001b[34m[01:57:34] src/tree/updater_prune.cc:74: tree pruning end, 1 roots, 38 extra nodes, 26 pruned nodes, max_depth=8\u001b[0m\n",
      "\u001b[34m[62]#011train-rmse:0.246714#011validation-rmse:0.333434\u001b[0m\n",
      "\u001b[34m[01:57:36] src/tree/updater_prune.cc:74: tree pruning end, 1 roots, 54 extra nodes, 18 pruned nodes, max_depth=8\u001b[0m\n",
      "\u001b[34m[63]#011train-rmse:0.245213#011validation-rmse:0.333283\u001b[0m\n",
      "\u001b[34m[01:57:38] src/tree/updater_prune.cc:74: tree pruning end, 1 roots, 24 extra nodes, 12 pruned nodes, max_depth=8\u001b[0m\n",
      "\u001b[34m[64]#011train-rmse:0.244512#011validation-rmse:0.332875\u001b[0m\n",
      "\u001b[34m[01:57:40] src/tree/updater_prune.cc:74: tree pruning end, 1 roots, 38 extra nodes, 20 pruned nodes, max_depth=8\u001b[0m\n",
      "\u001b[34m[65]#011train-rmse:0.243538#011validation-rmse:0.332532\u001b[0m\n",
      "\u001b[34m[01:57:42] src/tree/updater_prune.cc:74: tree pruning end, 1 roots, 26 extra nodes, 24 pruned nodes, max_depth=8\u001b[0m\n",
      "\u001b[34m[66]#011train-rmse:0.242883#011validation-rmse:0.332381\u001b[0m\n",
      "\u001b[34m[01:57:44] src/tree/updater_prune.cc:74: tree pruning end, 1 roots, 50 extra nodes, 32 pruned nodes, max_depth=8\u001b[0m\n",
      "\u001b[34m[67]#011train-rmse:0.241978#011validation-rmse:0.331954\u001b[0m\n",
      "\u001b[34m[01:57:46] src/tree/updater_prune.cc:74: tree pruning end, 1 roots, 56 extra nodes, 36 pruned nodes, max_depth=8\u001b[0m\n",
      "\u001b[34m[68]#011train-rmse:0.240824#011validation-rmse:0.331608\u001b[0m\n",
      "\u001b[34m[01:57:48] src/tree/updater_prune.cc:74: tree pruning end, 1 roots, 40 extra nodes, 18 pruned nodes, max_depth=8\u001b[0m\n",
      "\u001b[34m[69]#011train-rmse:0.239875#011validation-rmse:0.331076\u001b[0m\n",
      "\u001b[34m[01:57:49] src/tree/updater_prune.cc:74: tree pruning end, 1 roots, 42 extra nodes, 40 pruned nodes, max_depth=8\u001b[0m\n",
      "\u001b[34m[70]#011train-rmse:0.238991#011validation-rmse:0.330986\u001b[0m\n",
      "\u001b[34m[01:57:51] src/tree/updater_prune.cc:74: tree pruning end, 1 roots, 28 extra nodes, 26 pruned nodes, max_depth=8\u001b[0m\n",
      "\u001b[34m[71]#011train-rmse:0.23834#011validation-rmse:0.330783\u001b[0m\n",
      "\u001b[34m[01:57:53] src/tree/updater_prune.cc:74: tree pruning end, 1 roots, 38 extra nodes, 32 pruned nodes, max_depth=8\u001b[0m\n",
      "\u001b[34m[72]#011train-rmse:0.237538#011validation-rmse:0.330362\u001b[0m\n",
      "\u001b[34m[01:57:55] src/tree/updater_prune.cc:74: tree pruning end, 1 roots, 28 extra nodes, 8 pruned nodes, max_depth=8\u001b[0m\n",
      "\u001b[34m[73]#011train-rmse:0.236917#011validation-rmse:0.329772\u001b[0m\n",
      "\u001b[34m[01:57:57] src/tree/updater_prune.cc:74: tree pruning end, 1 roots, 48 extra nodes, 42 pruned nodes, max_depth=8\u001b[0m\n",
      "\u001b[34m[74]#011train-rmse:0.235892#011validation-rmse:0.329508\u001b[0m\n",
      "\u001b[34m[01:57:59] src/tree/updater_prune.cc:74: tree pruning end, 1 roots, 42 extra nodes, 34 pruned nodes, max_depth=8\u001b[0m\n",
      "\u001b[34m[75]#011train-rmse:0.234913#011validation-rmse:0.329156\u001b[0m\n",
      "\u001b[34m[01:58:01] src/tree/updater_prune.cc:74: tree pruning end, 1 roots, 20 extra nodes, 14 pruned nodes, max_depth=8\u001b[0m\n",
      "\u001b[34m[76]#011train-rmse:0.234385#011validation-rmse:0.328893\u001b[0m\n",
      "\u001b[34m[01:58:03] src/tree/updater_prune.cc:74: tree pruning end, 1 roots, 32 extra nodes, 18 pruned nodes, max_depth=8\u001b[0m\n",
      "\u001b[34m[77]#011train-rmse:0.233626#011validation-rmse:0.328467\u001b[0m\n",
      "\u001b[34m[01:58:05] src/tree/updater_prune.cc:74: tree pruning end, 1 roots, 60 extra nodes, 34 pruned nodes, max_depth=8\u001b[0m\n",
      "\u001b[34m[78]#011train-rmse:0.232427#011validation-rmse:0.328098\u001b[0m\n",
      "\u001b[34m[01:58:07] src/tree/updater_prune.cc:74: tree pruning end, 1 roots, 48 extra nodes, 52 pruned nodes, max_depth=8\u001b[0m\n",
      "\u001b[34m[79]#011train-rmse:0.231355#011validation-rmse:0.327662\u001b[0m\n",
      "\u001b[34m[01:58:09] src/tree/updater_prune.cc:74: tree pruning end, 1 roots, 24 extra nodes, 22 pruned nodes, max_depth=8\u001b[0m\n",
      "\u001b[34m[80]#011train-rmse:0.230821#011validation-rmse:0.327431\u001b[0m\n",
      "\u001b[34m[01:58:11] src/tree/updater_prune.cc:74: tree pruning end, 1 roots, 22 extra nodes, 22 pruned nodes, max_depth=8\u001b[0m\n",
      "\u001b[34m[81]#011train-rmse:0.23029#011validation-rmse:0.327249\u001b[0m\n",
      "\u001b[34m[01:58:13] src/tree/updater_prune.cc:74: tree pruning end, 1 roots, 42 extra nodes, 26 pruned nodes, max_depth=8\u001b[0m\n",
      "\u001b[34m[82]#011train-rmse:0.22947#011validation-rmse:0.326915\u001b[0m\n",
      "\u001b[34m[01:58:15] src/tree/updater_prune.cc:74: tree pruning end, 1 roots, 42 extra nodes, 40 pruned nodes, max_depth=8\u001b[0m\n",
      "\u001b[34m[83]#011train-rmse:0.228656#011validation-rmse:0.326586\u001b[0m\n",
      "\u001b[34m[01:58:17] src/tree/updater_prune.cc:74: tree pruning end, 1 roots, 30 extra nodes, 24 pruned nodes, max_depth=8\u001b[0m\n",
      "\u001b[34m[84]#011train-rmse:0.228072#011validation-rmse:0.326189\u001b[0m\n",
      "\u001b[34m[01:58:19] src/tree/updater_prune.cc:74: tree pruning end, 1 roots, 36 extra nodes, 20 pruned nodes, max_depth=8\u001b[0m\n",
      "\u001b[34m[85]#011train-rmse:0.227201#011validation-rmse:0.325811\u001b[0m\n",
      "\u001b[34m[01:58:20] src/tree/updater_prune.cc:74: tree pruning end, 1 roots, 26 extra nodes, 42 pruned nodes, max_depth=8\u001b[0m\n",
      "\u001b[34m[86]#011train-rmse:0.226691#011validation-rmse:0.32579\u001b[0m\n",
      "\u001b[34m[01:58:22] src/tree/updater_prune.cc:74: tree pruning end, 1 roots, 24 extra nodes, 12 pruned nodes, max_depth=8\u001b[0m\n",
      "\u001b[34m[87]#011train-rmse:0.226209#011validation-rmse:0.325595\u001b[0m\n",
      "\u001b[34m[01:58:24] src/tree/updater_prune.cc:74: tree pruning end, 1 roots, 38 extra nodes, 32 pruned nodes, max_depth=8\u001b[0m\n",
      "\u001b[34m[88]#011train-rmse:0.225412#011validation-rmse:0.32524\u001b[0m\n",
      "\u001b[34m[01:58:26] src/tree/updater_prune.cc:74: tree pruning end, 1 roots, 42 extra nodes, 34 pruned nodes, max_depth=8\u001b[0m\n",
      "\u001b[34m[89]#011train-rmse:0.224523#011validation-rmse:0.324927\u001b[0m\n",
      "\u001b[34m[01:58:28] src/tree/updater_prune.cc:74: tree pruning end, 1 roots, 32 extra nodes, 26 pruned nodes, max_depth=8\u001b[0m\n",
      "\u001b[34m[90]#011train-rmse:0.223981#011validation-rmse:0.324793\u001b[0m\n",
      "\u001b[34m[01:58:30] src/tree/updater_prune.cc:74: tree pruning end, 1 roots, 28 extra nodes, 16 pruned nodes, max_depth=8\u001b[0m\n",
      "\u001b[34m[91]#011train-rmse:0.223455#011validation-rmse:0.324534\u001b[0m\n",
      "\u001b[34m[01:58:32] src/tree/updater_prune.cc:74: tree pruning end, 1 roots, 40 extra nodes, 20 pruned nodes, max_depth=8\u001b[0m\n",
      "\u001b[34m[92]#011train-rmse:0.222599#011validation-rmse:0.324007\u001b[0m\n",
      "\u001b[34m[01:58:34] src/tree/updater_prune.cc:74: tree pruning end, 1 roots, 42 extra nodes, 18 pruned nodes, max_depth=8\u001b[0m\n",
      "\u001b[34m[93]#011train-rmse:0.22193#011validation-rmse:0.323804\u001b[0m\n",
      "\u001b[34m[01:58:36] src/tree/updater_prune.cc:74: tree pruning end, 1 roots, 50 extra nodes, 16 pruned nodes, max_depth=8\u001b[0m\n",
      "\u001b[34m[94]#011train-rmse:0.220859#011validation-rmse:0.323582\u001b[0m\n",
      "\u001b[34m[01:58:38] src/tree/updater_prune.cc:74: tree pruning end, 1 roots, 56 extra nodes, 38 pruned nodes, max_depth=8\u001b[0m\n",
      "\u001b[34m[95]#011train-rmse:0.219808#011validation-rmse:0.323569\u001b[0m\n",
      "\u001b[34m[01:58:40] src/tree/updater_prune.cc:74: tree pruning end, 1 roots, 44 extra nodes, 50 pruned nodes, max_depth=8\u001b[0m\n",
      "\u001b[34m[96]#011train-rmse:0.218981#011validation-rmse:0.32339\u001b[0m\n",
      "\u001b[34m[01:58:41] src/tree/updater_prune.cc:74: tree pruning end, 1 roots, 32 extra nodes, 28 pruned nodes, max_depth=8\u001b[0m\n",
      "\u001b[34m[97]#011train-rmse:0.218239#011validation-rmse:0.323033\u001b[0m\n",
      "\u001b[34m[01:58:43] src/tree/updater_prune.cc:74: tree pruning end, 1 roots, 20 extra nodes, 28 pruned nodes, max_depth=8\u001b[0m\n",
      "\u001b[34m[98]#011train-rmse:0.21782#011validation-rmse:0.323008\u001b[0m\n",
      "\u001b[34m[01:58:45] src/tree/updater_prune.cc:74: tree pruning end, 1 roots, 26 extra nodes, 18 pruned nodes, max_depth=8\u001b[0m\n",
      "\u001b[34m[99]#011train-rmse:0.217185#011validation-rmse:0.322607\u001b[0m\n",
      "\u001b[34m[01:58:47] src/tree/updater_prune.cc:74: tree pruning end, 1 roots, 36 extra nodes, 30 pruned nodes, max_depth=8\u001b[0m\n",
      "\u001b[34m[100]#011train-rmse:0.216466#011validation-rmse:0.322542\u001b[0m\n",
      "\u001b[34m[01:58:49] src/tree/updater_prune.cc:74: tree pruning end, 1 roots, 46 extra nodes, 40 pruned nodes, max_depth=8\u001b[0m\n",
      "\u001b[34m[101]#011train-rmse:0.215392#011validation-rmse:0.322299\u001b[0m\n",
      "\u001b[34m[01:58:51] src/tree/updater_prune.cc:74: tree pruning end, 1 roots, 40 extra nodes, 42 pruned nodes, max_depth=8\u001b[0m\n",
      "\u001b[34m[102]#011train-rmse:0.214665#011validation-rmse:0.322083\u001b[0m\n",
      "\u001b[34m[01:58:53] src/tree/updater_prune.cc:74: tree pruning end, 1 roots, 54 extra nodes, 54 pruned nodes, max_depth=8\u001b[0m\n",
      "\u001b[34m[103]#011train-rmse:0.213631#011validation-rmse:0.322031\u001b[0m\n",
      "\u001b[34m[01:58:54] src/tree/updater_prune.cc:74: tree pruning end, 1 roots, 52 extra nodes, 26 pruned nodes, max_depth=8\u001b[0m\n",
      "\u001b[34m[104]#011train-rmse:0.212737#011validation-rmse:0.321802\u001b[0m\n",
      "\u001b[34m[01:58:56] src/tree/updater_prune.cc:74: tree pruning end, 1 roots, 30 extra nodes, 24 pruned nodes, max_depth=8\u001b[0m\n",
      "\u001b[34m[105]#011train-rmse:0.212142#011validation-rmse:0.32166\u001b[0m\n",
      "\u001b[34m[01:58:58] src/tree/updater_prune.cc:74: tree pruning end, 1 roots, 40 extra nodes, 50 pruned nodes, max_depth=8\u001b[0m\n",
      "\u001b[34m[106]#011train-rmse:0.211296#011validation-rmse:0.321581\u001b[0m\n",
      "\u001b[34m[01:59:00] src/tree/updater_prune.cc:74: tree pruning end, 1 roots, 24 extra nodes, 8 pruned nodes, max_depth=8\u001b[0m\n",
      "\u001b[34m[107]#011train-rmse:0.210856#011validation-rmse:0.321509\u001b[0m\n",
      "\u001b[34m[01:59:02] src/tree/updater_prune.cc:74: tree pruning end, 1 roots, 36 extra nodes, 28 pruned nodes, max_depth=8\u001b[0m\n",
      "\u001b[34m[108]#011train-rmse:0.210069#011validation-rmse:0.321447\u001b[0m\n",
      "\u001b[34m[01:59:05] src/tree/updater_prune.cc:74: tree pruning end, 1 roots, 60 extra nodes, 56 pruned nodes, max_depth=8\u001b[0m\n",
      "\u001b[34m[109]#011train-rmse:0.20877#011validation-rmse:0.321021\u001b[0m\n",
      "\u001b[34m[01:59:07] src/tree/updater_prune.cc:74: tree pruning end, 1 roots, 44 extra nodes, 26 pruned nodes, max_depth=8\u001b[0m\n",
      "\u001b[34m[110]#011train-rmse:0.207905#011validation-rmse:0.320903\u001b[0m\n",
      "\u001b[34m[01:59:09] src/tree/updater_prune.cc:74: tree pruning end, 1 roots, 20 extra nodes, 10 pruned nodes, max_depth=8\u001b[0m\n",
      "\u001b[34m[111]#011train-rmse:0.207501#011validation-rmse:0.320732\u001b[0m\n",
      "\u001b[34m[01:59:11] src/tree/updater_prune.cc:74: tree pruning end, 1 roots, 24 extra nodes, 16 pruned nodes, max_depth=8\u001b[0m\n",
      "\u001b[34m[112]#011train-rmse:0.207081#011validation-rmse:0.320574\u001b[0m\n",
      "\u001b[34m[01:59:12] src/tree/updater_prune.cc:74: tree pruning end, 1 roots, 20 extra nodes, 24 pruned nodes, max_depth=8\u001b[0m\n",
      "\u001b[34m[113]#011train-rmse:0.206784#011validation-rmse:0.320506\u001b[0m\n",
      "\u001b[34m[01:59:14] src/tree/updater_prune.cc:74: tree pruning end, 1 roots, 40 extra nodes, 26 pruned nodes, max_depth=8\u001b[0m\n",
      "\u001b[34m[114]#011train-rmse:0.206122#011validation-rmse:0.320265\u001b[0m\n",
      "\u001b[34m[01:59:16] src/tree/updater_prune.cc:74: tree pruning end, 1 roots, 46 extra nodes, 32 pruned nodes, max_depth=8\u001b[0m\n",
      "\u001b[34m[115]#011train-rmse:0.205465#011validation-rmse:0.319917\u001b[0m\n",
      "\u001b[34m[01:59:18] src/tree/updater_prune.cc:74: tree pruning end, 1 roots, 34 extra nodes, 14 pruned nodes, max_depth=8\u001b[0m\n",
      "\u001b[34m[116]#011train-rmse:0.204801#011validation-rmse:0.319697\u001b[0m\n",
      "\u001b[34m[01:59:20] src/tree/updater_prune.cc:74: tree pruning end, 1 roots, 36 extra nodes, 6 pruned nodes, max_depth=8\u001b[0m\n",
      "\u001b[34m[117]#011train-rmse:0.204263#011validation-rmse:0.319572\u001b[0m\n",
      "\u001b[34m[01:59:22] src/tree/updater_prune.cc:74: tree pruning end, 1 roots, 44 extra nodes, 30 pruned nodes, max_depth=8\u001b[0m\n",
      "\u001b[34m[118]#011train-rmse:0.203417#011validation-rmse:0.319525\u001b[0m\n",
      "\u001b[34m[01:59:24] src/tree/updater_prune.cc:74: tree pruning end, 1 roots, 20 extra nodes, 26 pruned nodes, max_depth=8\u001b[0m\n",
      "\u001b[34m[119]#011train-rmse:0.203028#011validation-rmse:0.319276\u001b[0m\n",
      "\u001b[34m[01:59:25] src/tree/updater_prune.cc:74: tree pruning end, 1 roots, 44 extra nodes, 40 pruned nodes, max_depth=8\u001b[0m\n",
      "\u001b[34m[120]#011train-rmse:0.201889#011validation-rmse:0.318671\u001b[0m\n",
      "\u001b[34m[01:59:27] src/tree/updater_prune.cc:74: tree pruning end, 1 roots, 28 extra nodes, 22 pruned nodes, max_depth=8\u001b[0m\n",
      "\u001b[34m[121]#011train-rmse:0.201403#011validation-rmse:0.318443\u001b[0m\n",
      "\u001b[34m[01:59:29] src/tree/updater_prune.cc:74: tree pruning end, 1 roots, 44 extra nodes, 46 pruned nodes, max_depth=8\u001b[0m\n",
      "\u001b[34m[122]#011train-rmse:0.200478#011validation-rmse:0.318182\u001b[0m\n",
      "\u001b[34m[01:59:31] src/tree/updater_prune.cc:74: tree pruning end, 1 roots, 38 extra nodes, 18 pruned nodes, max_depth=8\u001b[0m\n",
      "\u001b[34m[123]#011train-rmse:0.199805#011validation-rmse:0.317863\u001b[0m\n",
      "\u001b[34m[01:59:33] src/tree/updater_prune.cc:74: tree pruning end, 1 roots, 42 extra nodes, 32 pruned nodes, max_depth=8\u001b[0m\n",
      "\u001b[34m[124]#011train-rmse:0.199111#011validation-rmse:0.317738\u001b[0m\n",
      "\u001b[34m[01:59:35] src/tree/updater_prune.cc:74: tree pruning end, 1 roots, 30 extra nodes, 18 pruned nodes, max_depth=8\u001b[0m\n",
      "\u001b[34m[125]#011train-rmse:0.198612#011validation-rmse:0.317605\u001b[0m\n",
      "\u001b[34m[01:59:37] src/tree/updater_prune.cc:74: tree pruning end, 1 roots, 34 extra nodes, 60 pruned nodes, max_depth=8\u001b[0m\n",
      "\u001b[34m[126]#011train-rmse:0.197981#011validation-rmse:0.317526\u001b[0m\n",
      "\u001b[34m[01:59:39] src/tree/updater_prune.cc:74: tree pruning end, 1 roots, 26 extra nodes, 20 pruned nodes, max_depth=8\u001b[0m\n",
      "\u001b[34m[127]#011train-rmse:0.197583#011validation-rmse:0.317416\u001b[0m\n",
      "\u001b[34m[01:59:41] src/tree/updater_prune.cc:74: tree pruning end, 1 roots, 42 extra nodes, 34 pruned nodes, max_depth=8\u001b[0m\n",
      "\u001b[34m[128]#011train-rmse:0.196847#011validation-rmse:0.317379\u001b[0m\n",
      "\u001b[34m[01:59:42] src/tree/updater_prune.cc:74: tree pruning end, 1 roots, 24 extra nodes, 20 pruned nodes, max_depth=8\u001b[0m\n",
      "\u001b[34m[129]#011train-rmse:0.196525#011validation-rmse:0.317225\u001b[0m\n",
      "\u001b[34m[01:59:44] src/tree/updater_prune.cc:74: tree pruning end, 1 roots, 24 extra nodes, 48 pruned nodes, max_depth=8\u001b[0m\n",
      "\u001b[34m[130]#011train-rmse:0.196172#011validation-rmse:0.317078\u001b[0m\n",
      "\u001b[34m[01:59:46] src/tree/updater_prune.cc:74: tree pruning end, 1 roots, 22 extra nodes, 16 pruned nodes, max_depth=8\u001b[0m\n",
      "\u001b[34m[131]#011train-rmse:0.195849#011validation-rmse:0.317058\u001b[0m\n",
      "\u001b[34m[01:59:48] src/tree/updater_prune.cc:74: tree pruning end, 1 roots, 20 extra nodes, 12 pruned nodes, max_depth=8\u001b[0m\n",
      "\u001b[34m[132]#011train-rmse:0.195527#011validation-rmse:0.316945\u001b[0m\n",
      "\u001b[34m[01:59:50] src/tree/updater_prune.cc:74: tree pruning end, 1 roots, 28 extra nodes, 28 pruned nodes, max_depth=8\u001b[0m\n",
      "\u001b[34m[133]#011train-rmse:0.194976#011validation-rmse:0.316782\u001b[0m\n",
      "\u001b[34m[01:59:52] src/tree/updater_prune.cc:74: tree pruning end, 1 roots, 26 extra nodes, 30 pruned nodes, max_depth=8\u001b[0m\n",
      "\u001b[34m[134]#011train-rmse:0.194638#011validation-rmse:0.316606\u001b[0m\n",
      "\u001b[34m[01:59:54] src/tree/updater_prune.cc:74: tree pruning end, 1 roots, 48 extra nodes, 56 pruned nodes, max_depth=8\u001b[0m\n",
      "\u001b[34m[135]#011train-rmse:0.193733#011validation-rmse:0.316414\u001b[0m\n",
      "\u001b[34m[01:59:55] src/tree/updater_prune.cc:74: tree pruning end, 1 roots, 26 extra nodes, 20 pruned nodes, max_depth=8\u001b[0m\n",
      "\u001b[34m[136]#011train-rmse:0.193339#011validation-rmse:0.316154\u001b[0m\n",
      "\u001b[34m[01:59:57] src/tree/updater_prune.cc:74: tree pruning end, 1 roots, 18 extra nodes, 36 pruned nodes, max_depth=8\u001b[0m\n",
      "\u001b[34m[137]#011train-rmse:0.193114#011validation-rmse:0.316085\u001b[0m\n",
      "\u001b[34m[01:59:59] src/tree/updater_prune.cc:74: tree pruning end, 1 roots, 18 extra nodes, 26 pruned nodes, max_depth=8\u001b[0m\n",
      "\u001b[34m[138]#011train-rmse:0.192886#011validation-rmse:0.315945\u001b[0m\n",
      "\u001b[34m[02:00:01] src/tree/updater_prune.cc:74: tree pruning end, 1 roots, 22 extra nodes, 36 pruned nodes, max_depth=8\u001b[0m\n",
      "\u001b[34m[139]#011train-rmse:0.192503#011validation-rmse:0.315838\u001b[0m\n",
      "\u001b[34m[02:00:03] src/tree/updater_prune.cc:74: tree pruning end, 1 roots, 22 extra nodes, 26 pruned nodes, max_depth=8\u001b[0m\n",
      "\u001b[34m[140]#011train-rmse:0.192136#011validation-rmse:0.315671\u001b[0m\n",
      "\u001b[34m[02:00:06] src/tree/updater_prune.cc:74: tree pruning end, 1 roots, 44 extra nodes, 58 pruned nodes, max_depth=8\u001b[0m\n",
      "\u001b[34m[141]#011train-rmse:0.191291#011validation-rmse:0.315538\u001b[0m\n",
      "\u001b[34m[02:00:08] src/tree/updater_prune.cc:74: tree pruning end, 1 roots, 36 extra nodes, 52 pruned nodes, max_depth=8\u001b[0m\n",
      "\u001b[34m[142]#011train-rmse:0.190544#011validation-rmse:0.315555\u001b[0m\n",
      "\u001b[34m[02:00:09] src/tree/updater_prune.cc:74: tree pruning end, 1 roots, 38 extra nodes, 40 pruned nodes, max_depth=8\u001b[0m\n",
      "\u001b[34m[143]#011train-rmse:0.189786#011validation-rmse:0.315375\u001b[0m\n",
      "\u001b[34m[02:00:11] src/tree/updater_prune.cc:74: tree pruning end, 1 roots, 20 extra nodes, 28 pruned nodes, max_depth=8\u001b[0m\n",
      "\u001b[34m[144]#011train-rmse:0.189523#011validation-rmse:0.315244\u001b[0m\n",
      "\u001b[34m[02:00:13] src/tree/updater_prune.cc:74: tree pruning end, 1 roots, 18 extra nodes, 16 pruned nodes, max_depth=8\u001b[0m\n",
      "\u001b[34m[145]#011train-rmse:0.189256#011validation-rmse:0.315212\u001b[0m\n",
      "\u001b[34m[02:00:15] src/tree/updater_prune.cc:74: tree pruning end, 1 roots, 38 extra nodes, 24 pruned nodes, max_depth=8\u001b[0m\n",
      "\u001b[34m[146]#011train-rmse:0.188614#011validation-rmse:0.314928\u001b[0m\n",
      "\u001b[34m[02:00:17] src/tree/updater_prune.cc:74: tree pruning end, 1 roots, 18 extra nodes, 26 pruned nodes, max_depth=8\u001b[0m\n",
      "\u001b[34m[147]#011train-rmse:0.18838#011validation-rmse:0.314686\u001b[0m\n",
      "\u001b[34m[02:00:19] src/tree/updater_prune.cc:74: tree pruning end, 1 roots, 20 extra nodes, 22 pruned nodes, max_depth=8\u001b[0m\n",
      "\u001b[34m[148]#011train-rmse:0.188087#011validation-rmse:0.314617\u001b[0m\n",
      "\u001b[34m[02:00:21] src/tree/updater_prune.cc:74: tree pruning end, 1 roots, 32 extra nodes, 24 pruned nodes, max_depth=8\u001b[0m\n",
      "\u001b[34m[149]#011train-rmse:0.187577#011validation-rmse:0.314467\u001b[0m\n",
      "\u001b[34m[02:00:22] src/tree/updater_prune.cc:74: tree pruning end, 1 roots, 18 extra nodes, 10 pruned nodes, max_depth=8\u001b[0m\n",
      "\u001b[34m[150]#011train-rmse:0.187283#011validation-rmse:0.314284\u001b[0m\n",
      "\u001b[34m[02:00:24] src/tree/updater_prune.cc:74: tree pruning end, 1 roots, 16 extra nodes, 16 pruned nodes, max_depth=8\u001b[0m\n",
      "\u001b[34m[151]#011train-rmse:0.187005#011validation-rmse:0.314265\u001b[0m\n",
      "\u001b[34m[02:00:26] src/tree/updater_prune.cc:74: tree pruning end, 1 roots, 34 extra nodes, 40 pruned nodes, max_depth=8\u001b[0m\n",
      "\u001b[34m[152]#011train-rmse:0.186442#011validation-rmse:0.314148\u001b[0m\n",
      "\u001b[34m[02:00:28] src/tree/updater_prune.cc:74: tree pruning end, 1 roots, 16 extra nodes, 6 pruned nodes, max_depth=8\u001b[0m\n",
      "\u001b[34m[153]#011train-rmse:0.186221#011validation-rmse:0.313945\u001b[0m\n",
      "\u001b[34m[02:00:30] src/tree/updater_prune.cc:74: tree pruning end, 1 roots, 18 extra nodes, 12 pruned nodes, max_depth=8\u001b[0m\n",
      "\u001b[34m[154]#011train-rmse:0.185918#011validation-rmse:0.314048\u001b[0m\n",
      "\u001b[34m[02:00:32] src/tree/updater_prune.cc:74: tree pruning end, 1 roots, 26 extra nodes, 32 pruned nodes, max_depth=8\u001b[0m\n",
      "\u001b[34m[155]#011train-rmse:0.185571#011validation-rmse:0.313979\u001b[0m\n",
      "\u001b[34m[02:00:34] src/tree/updater_prune.cc:74: tree pruning end, 1 roots, 18 extra nodes, 24 pruned nodes, max_depth=8\u001b[0m\n",
      "\u001b[34m[156]#011train-rmse:0.185327#011validation-rmse:0.313923\u001b[0m\n",
      "\u001b[34m[02:00:36] src/tree/updater_prune.cc:74: tree pruning end, 1 roots, 20 extra nodes, 22 pruned nodes, max_depth=8\u001b[0m\n",
      "\u001b[34m[157]#011train-rmse:0.185#011validation-rmse:0.31374\u001b[0m\n",
      "\u001b[34m[02:00:37] src/tree/updater_prune.cc:74: tree pruning end, 1 roots, 30 extra nodes, 24 pruned nodes, max_depth=8\u001b[0m\n",
      "\u001b[34m[158]#011train-rmse:0.184616#011validation-rmse:0.313894\u001b[0m\n",
      "\u001b[34m[02:00:39] src/tree/updater_prune.cc:74: tree pruning end, 1 roots, 20 extra nodes, 22 pruned nodes, max_depth=8\u001b[0m\n",
      "\u001b[34m[159]#011train-rmse:0.184322#011validation-rmse:0.31379\u001b[0m\n",
      "\u001b[34m[02:00:41] src/tree/updater_prune.cc:74: tree pruning end, 1 roots, 22 extra nodes, 16 pruned nodes, max_depth=8\u001b[0m\n",
      "\u001b[34m[160]#011train-rmse:0.184015#011validation-rmse:0.313636\u001b[0m\n",
      "\u001b[34m[02:00:43] src/tree/updater_prune.cc:74: tree pruning end, 1 roots, 36 extra nodes, 48 pruned nodes, max_depth=8\u001b[0m\n",
      "\u001b[34m[161]#011train-rmse:0.183427#011validation-rmse:0.313529\u001b[0m\n",
      "\u001b[34m[02:00:45] src/tree/updater_prune.cc:74: tree pruning end, 1 roots, 44 extra nodes, 38 pruned nodes, max_depth=8\u001b[0m\n",
      "\u001b[34m[162]#011train-rmse:0.182615#011validation-rmse:0.313394\u001b[0m\n",
      "\u001b[34m[02:00:47] src/tree/updater_prune.cc:74: tree pruning end, 1 roots, 22 extra nodes, 30 pruned nodes, max_depth=8\u001b[0m\n",
      "\u001b[34m[163]#011train-rmse:0.182327#011validation-rmse:0.313378\u001b[0m\n",
      "\u001b[34m[02:00:49] src/tree/updater_prune.cc:74: tree pruning end, 1 roots, 18 extra nodes, 10 pruned nodes, max_depth=8\u001b[0m\n",
      "\u001b[34m[164]#011train-rmse:0.182049#011validation-rmse:0.313313\u001b[0m\n",
      "\u001b[34m[02:00:51] src/tree/updater_prune.cc:74: tree pruning end, 1 roots, 22 extra nodes, 6 pruned nodes, max_depth=8\u001b[0m\n",
      "\u001b[34m[165]#011train-rmse:0.181742#011validation-rmse:0.313228\u001b[0m\n",
      "\u001b[34m[02:00:52] src/tree/updater_prune.cc:74: tree pruning end, 1 roots, 20 extra nodes, 34 pruned nodes, max_depth=8\u001b[0m\n",
      "\u001b[34m[166]#011train-rmse:0.181459#011validation-rmse:0.313222\u001b[0m\n",
      "\u001b[34m[02:00:54] src/tree/updater_prune.cc:74: tree pruning end, 1 roots, 20 extra nodes, 18 pruned nodes, max_depth=8\u001b[0m\n",
      "\u001b[34m[167]#011train-rmse:0.181151#011validation-rmse:0.313129\u001b[0m\n",
      "\u001b[34m[02:00:56] src/tree/updater_prune.cc:74: tree pruning end, 1 roots, 28 extra nodes, 22 pruned nodes, max_depth=8\u001b[0m\n",
      "\u001b[34m[168]#011train-rmse:0.180663#011validation-rmse:0.313035\u001b[0m\n",
      "\u001b[34m[02:00:58] src/tree/updater_prune.cc:74: tree pruning end, 1 roots, 16 extra nodes, 40 pruned nodes, max_depth=8\u001b[0m\n",
      "\u001b[34m[169]#011train-rmse:0.180455#011validation-rmse:0.312909\u001b[0m\n",
      "\u001b[34m[02:01:00] src/tree/updater_prune.cc:74: tree pruning end, 1 roots, 26 extra nodes, 20 pruned nodes, max_depth=8\u001b[0m\n",
      "\u001b[34m[170]#011train-rmse:0.180103#011validation-rmse:0.312918\u001b[0m\n",
      "\u001b[34m[02:01:02] src/tree/updater_prune.cc:74: tree pruning end, 1 roots, 20 extra nodes, 44 pruned nodes, max_depth=8\u001b[0m\n",
      "\u001b[34m[171]#011train-rmse:0.179814#011validation-rmse:0.312863\u001b[0m\n",
      "\u001b[34m[02:01:04] src/tree/updater_prune.cc:74: tree pruning end, 1 roots, 16 extra nodes, 8 pruned nodes, max_depth=8\u001b[0m\n",
      "\u001b[34m[172]#011train-rmse:0.179667#011validation-rmse:0.312712\u001b[0m\n",
      "\u001b[34m[02:01:07] src/tree/updater_prune.cc:74: tree pruning end, 1 roots, 20 extra nodes, 10 pruned nodes, max_depth=8\u001b[0m\n",
      "\u001b[34m[173]#011train-rmse:0.179304#011validation-rmse:0.312651\u001b[0m\n",
      "\u001b[34m[02:01:08] src/tree/updater_prune.cc:74: tree pruning end, 1 roots, 18 extra nodes, 2 pruned nodes, max_depth=8\u001b[0m\n",
      "\u001b[34m[174]#011train-rmse:0.179088#011validation-rmse:0.312491\u001b[0m\n",
      "\u001b[34m[02:01:10] src/tree/updater_prune.cc:74: tree pruning end, 1 roots, 24 extra nodes, 20 pruned nodes, max_depth=8\u001b[0m\n",
      "\u001b[34m[175]#011train-rmse:0.178755#011validation-rmse:0.312474\u001b[0m\n",
      "\u001b[34m[02:01:12] src/tree/updater_prune.cc:74: tree pruning end, 1 roots, 18 extra nodes, 28 pruned nodes, max_depth=8\u001b[0m\n",
      "\u001b[34m[176]#011train-rmse:0.178503#011validation-rmse:0.312353\u001b[0m\n",
      "\u001b[34m[02:01:14] src/tree/updater_prune.cc:74: tree pruning end, 1 roots, 32 extra nodes, 60 pruned nodes, max_depth=8\u001b[0m\n",
      "\u001b[34m[177]#011train-rmse:0.177963#011validation-rmse:0.31221\u001b[0m\n",
      "\u001b[34m[02:01:16] src/tree/updater_prune.cc:74: tree pruning end, 1 roots, 28 extra nodes, 34 pruned nodes, max_depth=8\u001b[0m\n",
      "\u001b[34m[178]#011train-rmse:0.177559#011validation-rmse:0.312174\u001b[0m\n",
      "\u001b[34m[02:01:18] src/tree/updater_prune.cc:74: tree pruning end, 1 roots, 16 extra nodes, 12 pruned nodes, max_depth=8\u001b[0m\n",
      "\u001b[34m[179]#011train-rmse:0.177357#011validation-rmse:0.312045\u001b[0m\n",
      "\u001b[34m[02:01:20] src/tree/updater_prune.cc:74: tree pruning end, 1 roots, 22 extra nodes, 12 pruned nodes, max_depth=8\u001b[0m\n",
      "\u001b[34m[180]#011train-rmse:0.177107#011validation-rmse:0.312111\u001b[0m\n",
      "\u001b[34m[02:01:22] src/tree/updater_prune.cc:74: tree pruning end, 1 roots, 24 extra nodes, 20 pruned nodes, max_depth=8\u001b[0m\n",
      "\u001b[34m[181]#011train-rmse:0.176809#011validation-rmse:0.312075\u001b[0m\n",
      "\u001b[34m[02:01:24] src/tree/updater_prune.cc:74: tree pruning end, 1 roots, 22 extra nodes, 22 pruned nodes, max_depth=8\u001b[0m\n",
      "\u001b[34m[182]#011train-rmse:0.176431#011validation-rmse:0.311985\u001b[0m\n",
      "\u001b[34m[02:01:25] src/tree/updater_prune.cc:74: tree pruning end, 1 roots, 18 extra nodes, 42 pruned nodes, max_depth=8\u001b[0m\n",
      "\u001b[34m[183]#011train-rmse:0.176174#011validation-rmse:0.311904\u001b[0m\n",
      "\u001b[34m[02:01:27] src/tree/updater_prune.cc:74: tree pruning end, 1 roots, 20 extra nodes, 60 pruned nodes, max_depth=8\u001b[0m\n",
      "\u001b[34m[184]#011train-rmse:0.175942#011validation-rmse:0.311771\u001b[0m\n",
      "\u001b[34m[02:01:29] src/tree/updater_prune.cc:74: tree pruning end, 1 roots, 18 extra nodes, 4 pruned nodes, max_depth=8\u001b[0m\n",
      "\u001b[34m[185]#011train-rmse:0.17572#011validation-rmse:0.311675\u001b[0m\n",
      "\u001b[34m[02:01:31] src/tree/updater_prune.cc:74: tree pruning end, 1 roots, 24 extra nodes, 34 pruned nodes, max_depth=8\u001b[0m\n",
      "\u001b[34m[186]#011train-rmse:0.17537#011validation-rmse:0.311589\u001b[0m\n",
      "\u001b[34m[02:01:33] src/tree/updater_prune.cc:74: tree pruning end, 1 roots, 24 extra nodes, 24 pruned nodes, max_depth=8\u001b[0m\n",
      "\u001b[34m[187]#011train-rmse:0.174982#011validation-rmse:0.311519\u001b[0m\n",
      "\u001b[34m[02:01:35] src/tree/updater_prune.cc:74: tree pruning end, 1 roots, 18 extra nodes, 34 pruned nodes, max_depth=8\u001b[0m\n",
      "\u001b[34m[188]#011train-rmse:0.174787#011validation-rmse:0.311356\u001b[0m\n",
      "\u001b[34m[02:01:37] src/tree/updater_prune.cc:74: tree pruning end, 1 roots, 18 extra nodes, 26 pruned nodes, max_depth=8\u001b[0m\n",
      "\u001b[34m[189]#011train-rmse:0.17461#011validation-rmse:0.311235\u001b[0m\n",
      "\u001b[34m[02:01:39] src/tree/updater_prune.cc:74: tree pruning end, 1 roots, 22 extra nodes, 22 pruned nodes, max_depth=8\u001b[0m\n",
      "\u001b[34m[190]#011train-rmse:0.174281#011validation-rmse:0.311114\u001b[0m\n",
      "\u001b[34m[02:01:41] src/tree/updater_prune.cc:74: tree pruning end, 1 roots, 44 extra nodes, 30 pruned nodes, max_depth=8\u001b[0m\n",
      "\u001b[34m[191]#011train-rmse:0.173533#011validation-rmse:0.31116\u001b[0m\n",
      "\u001b[34m[02:01:42] src/tree/updater_prune.cc:74: tree pruning end, 1 roots, 20 extra nodes, 16 pruned nodes, max_depth=7\u001b[0m\n",
      "\u001b[34m[192]#011train-rmse:0.173219#011validation-rmse:0.311037\u001b[0m\n",
      "\u001b[34m[02:01:44] src/tree/updater_prune.cc:74: tree pruning end, 1 roots, 20 extra nodes, 16 pruned nodes, max_depth=8\u001b[0m\n",
      "\u001b[34m[193]#011train-rmse:0.173033#011validation-rmse:0.311128\u001b[0m\n",
      "\u001b[34m[02:01:46] src/tree/updater_prune.cc:74: tree pruning end, 1 roots, 20 extra nodes, 16 pruned nodes, max_depth=8\u001b[0m\n",
      "\u001b[34m[194]#011train-rmse:0.172821#011validation-rmse:0.311088\u001b[0m\n",
      "\u001b[34m[02:01:48] src/tree/updater_prune.cc:74: tree pruning end, 1 roots, 28 extra nodes, 30 pruned nodes, max_depth=8\u001b[0m\n",
      "\u001b[34m[195]#011train-rmse:0.172388#011validation-rmse:0.310974\u001b[0m\n",
      "\u001b[34m[02:01:50] src/tree/updater_prune.cc:74: tree pruning end, 1 roots, 36 extra nodes, 42 pruned nodes, max_depth=8\u001b[0m\n",
      "\u001b[34m[196]#011train-rmse:0.171807#011validation-rmse:0.310956\u001b[0m\n",
      "\u001b[34m[02:01:52] src/tree/updater_prune.cc:74: tree pruning end, 1 roots, 20 extra nodes, 14 pruned nodes, max_depth=7\u001b[0m\n",
      "\u001b[34m[197]#011train-rmse:0.171507#011validation-rmse:0.310905\u001b[0m\n",
      "\u001b[34m[02:01:54] src/tree/updater_prune.cc:74: tree pruning end, 1 roots, 18 extra nodes, 34 pruned nodes, max_depth=6\u001b[0m\n",
      "\u001b[34m[198]#011train-rmse:0.171243#011validation-rmse:0.310957\u001b[0m\n",
      "\u001b[34m[02:01:55] src/tree/updater_prune.cc:74: tree pruning end, 1 roots, 18 extra nodes, 16 pruned nodes, max_depth=8\u001b[0m\n",
      "\u001b[34m[199]#011train-rmse:0.171008#011validation-rmse:0.310972\u001b[0m\n",
      "Training seconds: 453\n",
      "Billable seconds: 453\n"
     ]
    }
   ],
   "source": [
    "# TODO: Create a new estimator object attached to the best training job found during hyperparameter tuning\n",
    "\n",
    "xgb_attached = sagemaker.estimator.Estimator.attach(xgb_hyperparameter_tuner.best_training_job())\n"
   ]
  },
  {
   "cell_type": "markdown",
   "metadata": {},
   "source": [
    "Now that we have an estimator object attached to the correct training job, we can proceed as we normally would and create a transformer object."
   ]
  },
  {
   "cell_type": "code",
   "execution_count": 30,
   "metadata": {},
   "outputs": [
    {
     "name": "stderr",
     "output_type": "stream",
     "text": [
      "Parameter image will be renamed to image_uri in SageMaker Python SDK v2.\n"
     ]
    }
   ],
   "source": [
    "# TODO: Create a transformer object from the attached estimator. Using an instance count of 1 and an instance type of ml.m4.xlarge\n",
    "#       should be more than enough.\n",
    "\n",
    "xgb_transformer = xgb_attached.transformer(instance_count=1, instance_type='ml.m4.xlarge')"
   ]
  },
  {
   "cell_type": "markdown",
   "metadata": {},
   "source": [
    "Next we actually perform the transform job. When doing so we need to make sure to specify the type of data we are sending so that it is serialized correctly in the background. In our case we are providing our model with csv data so we specify `text/csv`. Also, if the test data that we have provided is too large to process all at once then we need to specify how the data file should be split up. Since each line is a single entry in our data set we tell SageMaker that it can split the input on each line."
   ]
  },
  {
   "cell_type": "code",
   "execution_count": 53,
   "metadata": {},
   "outputs": [],
   "source": [
    "# TODO: Start the transform job. Make sure to specify the content type and the split type of the test data.\n",
    "xgb_transformer.transform(test_location, content_type='text/csv', split_type='Line')"
   ]
  },
  {
   "cell_type": "markdown",
   "metadata": {},
   "source": [
    "Currently the transform job is running but it is doing so in the background. Since we wish to wait until the transform job is done and we would like a bit of feedback we can run the `wait()` method."
   ]
  },
  {
   "cell_type": "code",
   "execution_count": 54,
   "metadata": {},
   "outputs": [
    {
     "name": "stdout",
     "output_type": "stream",
     "text": [
      "................................\u001b[34mArguments: serve\u001b[0m\n",
      "\u001b[35mArguments: serve\u001b[0m\n",
      "\u001b[34m[2021-03-04 03:12:28 +0000] [1] [INFO] Starting gunicorn 19.7.1\u001b[0m\n",
      "\u001b[34m[2021-03-04 03:12:28 +0000] [1] [INFO] Listening at: http://0.0.0.0:8080 (1)\u001b[0m\n",
      "\u001b[34m[2021-03-04 03:12:28 +0000] [1] [INFO] Using worker: gevent\u001b[0m\n",
      "\u001b[34m[2021-03-04 03:12:28 +0000] [36] [INFO] Booting worker with pid: 36\u001b[0m\n",
      "\u001b[34m[2021-03-04 03:12:28 +0000] [37] [INFO] Booting worker with pid: 37\u001b[0m\n",
      "\u001b[34m[2021-03-04:03:12:28:INFO] Model loaded successfully for worker : 36\u001b[0m\n",
      "\u001b[34m[2021-03-04 03:12:28 +0000] [38] [INFO] Booting worker with pid: 38\u001b[0m\n",
      "\u001b[34m[2021-03-04 03:12:28 +0000] [39] [INFO] Booting worker with pid: 39\u001b[0m\n",
      "\u001b[35m[2021-03-04 03:12:28 +0000] [1] [INFO] Starting gunicorn 19.7.1\u001b[0m\n",
      "\u001b[35m[2021-03-04 03:12:28 +0000] [1] [INFO] Listening at: http://0.0.0.0:8080 (1)\u001b[0m\n",
      "\u001b[35m[2021-03-04 03:12:28 +0000] [1] [INFO] Using worker: gevent\u001b[0m\n",
      "\u001b[35m[2021-03-04 03:12:28 +0000] [36] [INFO] Booting worker with pid: 36\u001b[0m\n",
      "\u001b[35m[2021-03-04 03:12:28 +0000] [37] [INFO] Booting worker with pid: 37\u001b[0m\n",
      "\u001b[35m[2021-03-04:03:12:28:INFO] Model loaded successfully for worker : 36\u001b[0m\n",
      "\u001b[35m[2021-03-04 03:12:28 +0000] [38] [INFO] Booting worker with pid: 38\u001b[0m\n",
      "\u001b[35m[2021-03-04 03:12:28 +0000] [39] [INFO] Booting worker with pid: 39\u001b[0m\n",
      "\u001b[34m[2021-03-04:03:12:28:INFO] Model loaded successfully for worker : 37\u001b[0m\n",
      "\u001b[34m[2021-03-04:03:12:28:INFO] Model loaded successfully for worker : 38\u001b[0m\n",
      "\u001b[34m[2021-03-04:03:12:28:INFO] Model loaded successfully for worker : 39\u001b[0m\n",
      "\u001b[35m[2021-03-04:03:12:28:INFO] Model loaded successfully for worker : 37\u001b[0m\n",
      "\u001b[35m[2021-03-04:03:12:28:INFO] Model loaded successfully for worker : 38\u001b[0m\n",
      "\u001b[35m[2021-03-04:03:12:28:INFO] Model loaded successfully for worker : 39\u001b[0m\n",
      "\u001b[34m[2021-03-04:03:12:28:INFO] Sniff delimiter as ','\u001b[0m\n",
      "\u001b[34m[2021-03-04:03:12:28:INFO] Determined delimiter of CSV input is ','\u001b[0m\n",
      "\u001b[34m[2021-03-04:03:12:28:INFO] Sniff delimiter as ','\u001b[0m\n",
      "\u001b[34m[2021-03-04:03:12:28:INFO] Determined delimiter of CSV input is ','\u001b[0m\n",
      "\u001b[34m[2021-03-04:03:12:28:INFO] Sniff delimiter as ','\u001b[0m\n",
      "\u001b[34m[2021-03-04:03:12:28:INFO] Determined delimiter of CSV input is ','\u001b[0m\n",
      "\u001b[34m[2021-03-04:03:12:28:INFO] Sniff delimiter as ','\u001b[0m\n",
      "\u001b[34m[2021-03-04:03:12:28:INFO] Determined delimiter of CSV input is ','\u001b[0m\n",
      "\u001b[35m[2021-03-04:03:12:28:INFO] Sniff delimiter as ','\u001b[0m\n",
      "\u001b[35m[2021-03-04:03:12:28:INFO] Determined delimiter of CSV input is ','\u001b[0m\n",
      "\u001b[35m[2021-03-04:03:12:28:INFO] Sniff delimiter as ','\u001b[0m\n",
      "\u001b[35m[2021-03-04:03:12:28:INFO] Determined delimiter of CSV input is ','\u001b[0m\n",
      "\u001b[35m[2021-03-04:03:12:28:INFO] Sniff delimiter as ','\u001b[0m\n",
      "\u001b[35m[2021-03-04:03:12:28:INFO] Determined delimiter of CSV input is ','\u001b[0m\n",
      "\u001b[35m[2021-03-04:03:12:28:INFO] Sniff delimiter as ','\u001b[0m\n",
      "\u001b[35m[2021-03-04:03:12:28:INFO] Determined delimiter of CSV input is ','\u001b[0m\n",
      "\u001b[34m[2021-03-04:03:12:31:INFO] Sniff delimiter as ','\u001b[0m\n",
      "\u001b[34m[2021-03-04:03:12:31:INFO] Determined delimiter of CSV input is ','\u001b[0m\n",
      "\u001b[34m[2021-03-04:03:12:31:INFO] Sniff delimiter as ','\u001b[0m\n",
      "\u001b[34m[2021-03-04:03:12:31:INFO] Determined delimiter of CSV input is ','\u001b[0m\n",
      "\u001b[34m[2021-03-04:03:12:31:INFO] Sniff delimiter as ','\u001b[0m\n",
      "\u001b[34m[2021-03-04:03:12:31:INFO] Determined delimiter of CSV input is ','\u001b[0m\n",
      "\u001b[35m[2021-03-04:03:12:31:INFO] Sniff delimiter as ','\u001b[0m\n",
      "\u001b[35m[2021-03-04:03:12:31:INFO] Determined delimiter of CSV input is ','\u001b[0m\n",
      "\u001b[35m[2021-03-04:03:12:31:INFO] Sniff delimiter as ','\u001b[0m\n",
      "\u001b[35m[2021-03-04:03:12:31:INFO] Determined delimiter of CSV input is ','\u001b[0m\n",
      "\u001b[35m[2021-03-04:03:12:31:INFO] Sniff delimiter as ','\u001b[0m\n",
      "\u001b[35m[2021-03-04:03:12:31:INFO] Determined delimiter of CSV input is ','\u001b[0m\n",
      "\u001b[34m[2021-03-04:03:12:31:INFO] Sniff delimiter as ','\u001b[0m\n",
      "\u001b[34m[2021-03-04:03:12:31:INFO] Determined delimiter of CSV input is ','\u001b[0m\n",
      "\u001b[35m[2021-03-04:03:12:31:INFO] Sniff delimiter as ','\u001b[0m\n",
      "\u001b[35m[2021-03-04:03:12:31:INFO] Determined delimiter of CSV input is ','\u001b[0m\n",
      "\u001b[32m2021-03-04T03:12:28.192:[sagemaker logs]: MaxConcurrentTransforms=4, MaxPayloadInMB=6, BatchStrategy=MULTI_RECORD\u001b[0m\n",
      "\u001b[34m[2021-03-04:03:12:33:INFO] Sniff delimiter as ','\u001b[0m\n",
      "\u001b[34m[2021-03-04:03:12:33:INFO] Determined delimiter of CSV input is ','\u001b[0m\n",
      "\u001b[34m[2021-03-04:03:12:33:INFO] Sniff delimiter as ','\u001b[0m\n",
      "\u001b[34m[2021-03-04:03:12:33:INFO] Determined delimiter of CSV input is ','\u001b[0m\n",
      "\u001b[34m[2021-03-04:03:12:33:INFO] Sniff delimiter as ','\u001b[0m\n",
      "\u001b[34m[2021-03-04:03:12:33:INFO] Determined delimiter of CSV input is ','\u001b[0m\n",
      "\u001b[34m[2021-03-04:03:12:34:INFO] Sniff delimiter as ','\u001b[0m\n",
      "\u001b[34m[2021-03-04:03:12:34:INFO] Determined delimiter of CSV input is ','\u001b[0m\n",
      "\u001b[35m[2021-03-04:03:12:33:INFO] Sniff delimiter as ','\u001b[0m\n",
      "\u001b[35m[2021-03-04:03:12:33:INFO] Determined delimiter of CSV input is ','\u001b[0m\n",
      "\u001b[35m[2021-03-04:03:12:33:INFO] Sniff delimiter as ','\u001b[0m\n",
      "\u001b[35m[2021-03-04:03:12:33:INFO] Determined delimiter of CSV input is ','\u001b[0m\n",
      "\u001b[35m[2021-03-04:03:12:33:INFO] Sniff delimiter as ','\u001b[0m\n",
      "\u001b[35m[2021-03-04:03:12:33:INFO] Determined delimiter of CSV input is ','\u001b[0m\n",
      "\u001b[35m[2021-03-04:03:12:34:INFO] Sniff delimiter as ','\u001b[0m\n",
      "\u001b[35m[2021-03-04:03:12:34:INFO] Determined delimiter of CSV input is ','\u001b[0m\n",
      "\u001b[34m[2021-03-04:03:12:36:INFO] Sniff delimiter as ','\u001b[0m\n",
      "\u001b[34m[2021-03-04:03:12:36:INFO] Determined delimiter of CSV input is ','\u001b[0m\n",
      "\u001b[34m[2021-03-04:03:12:36:INFO] Sniff delimiter as ','\u001b[0m\n",
      "\u001b[34m[2021-03-04:03:12:36:INFO] Determined delimiter of CSV input is ','\u001b[0m\n",
      "\u001b[34m[2021-03-04:03:12:36:INFO] Sniff delimiter as ','\u001b[0m\n",
      "\u001b[34m[2021-03-04:03:12:36:INFO] Determined delimiter of CSV input is ','\u001b[0m\n",
      "\u001b[35m[2021-03-04:03:12:36:INFO] Sniff delimiter as ','\u001b[0m\n",
      "\u001b[35m[2021-03-04:03:12:36:INFO] Determined delimiter of CSV input is ','\u001b[0m\n",
      "\u001b[35m[2021-03-04:03:12:36:INFO] Sniff delimiter as ','\u001b[0m\n",
      "\u001b[35m[2021-03-04:03:12:36:INFO] Determined delimiter of CSV input is ','\u001b[0m\n",
      "\u001b[35m[2021-03-04:03:12:36:INFO] Sniff delimiter as ','\u001b[0m\n",
      "\u001b[35m[2021-03-04:03:12:36:INFO] Determined delimiter of CSV input is ','\u001b[0m\n",
      "\u001b[34m[2021-03-04:03:12:38:INFO] Sniff delimiter as ','\u001b[0m\n",
      "\u001b[34m[2021-03-04:03:12:38:INFO] Determined delimiter of CSV input is ','\u001b[0m\n",
      "\u001b[34m[2021-03-04:03:12:39:INFO] Sniff delimiter as ','\u001b[0m\n",
      "\u001b[34m[2021-03-04:03:12:39:INFO] Determined delimiter of CSV input is ','\u001b[0m\n",
      "\u001b[35m[2021-03-04:03:12:38:INFO] Sniff delimiter as ','\u001b[0m\n",
      "\u001b[35m[2021-03-04:03:12:38:INFO] Determined delimiter of CSV input is ','\u001b[0m\n",
      "\u001b[35m[2021-03-04:03:12:39:INFO] Sniff delimiter as ','\u001b[0m\n",
      "\u001b[35m[2021-03-04:03:12:39:INFO] Determined delimiter of CSV input is ','\u001b[0m\n",
      "\u001b[34m[2021-03-04:03:12:41:INFO] Sniff delimiter as ','\u001b[0m\n",
      "\u001b[34m[2021-03-04:03:12:41:INFO] Determined delimiter of CSV input is ','\u001b[0m\n",
      "\u001b[34m[2021-03-04:03:12:41:INFO] Sniff delimiter as ','\u001b[0m\n",
      "\u001b[34m[2021-03-04:03:12:41:INFO] Determined delimiter of CSV input is ','\u001b[0m\n",
      "\u001b[34m[2021-03-04:03:12:41:INFO] Sniff delimiter as ','\u001b[0m\n",
      "\u001b[34m[2021-03-04:03:12:41:INFO] Determined delimiter of CSV input is ','\u001b[0m\n",
      "\u001b[35m[2021-03-04:03:12:41:INFO] Sniff delimiter as ','\u001b[0m\n",
      "\u001b[35m[2021-03-04:03:12:41:INFO] Determined delimiter of CSV input is ','\u001b[0m\n",
      "\u001b[35m[2021-03-04:03:12:41:INFO] Sniff delimiter as ','\u001b[0m\n",
      "\u001b[35m[2021-03-04:03:12:41:INFO] Determined delimiter of CSV input is ','\u001b[0m\n",
      "\u001b[35m[2021-03-04:03:12:41:INFO] Sniff delimiter as ','\u001b[0m\n",
      "\u001b[35m[2021-03-04:03:12:41:INFO] Determined delimiter of CSV input is ','\u001b[0m\n",
      "\u001b[34m[2021-03-04:03:12:41:INFO] Sniff delimiter as ','\u001b[0m\n",
      "\u001b[34m[2021-03-04:03:12:41:INFO] Determined delimiter of CSV input is ','\u001b[0m\n",
      "\u001b[35m[2021-03-04:03:12:41:INFO] Sniff delimiter as ','\u001b[0m\n",
      "\u001b[35m[2021-03-04:03:12:41:INFO] Determined delimiter of CSV input is ','\u001b[0m\n",
      "\u001b[34m[2021-03-04:03:12:43:INFO] Sniff delimiter as ','\u001b[0m\n",
      "\u001b[34m[2021-03-04:03:12:43:INFO] Determined delimiter of CSV input is ','\u001b[0m\n",
      "\u001b[34m[2021-03-04:03:12:43:INFO] Sniff delimiter as ','\u001b[0m\n",
      "\u001b[35m[2021-03-04:03:12:43:INFO] Sniff delimiter as ','\u001b[0m\n",
      "\u001b[35m[2021-03-04:03:12:43:INFO] Determined delimiter of CSV input is ','\u001b[0m\n",
      "\u001b[35m[2021-03-04:03:12:43:INFO] Sniff delimiter as ','\u001b[0m\n",
      "\u001b[34m[2021-03-04:03:12:43:INFO] Determined delimiter of CSV input is ','\u001b[0m\n",
      "\u001b[34m[2021-03-04:03:12:43:INFO] Sniff delimiter as ','\u001b[0m\n",
      "\u001b[34m[2021-03-04:03:12:43:INFO] Determined delimiter of CSV input is ','\u001b[0m\n",
      "\u001b[34m[2021-03-04:03:12:44:INFO] Sniff delimiter as ','\u001b[0m\n",
      "\u001b[34m[2021-03-04:03:12:44:INFO] Determined delimiter of CSV input is ','\u001b[0m\n",
      "\u001b[35m[2021-03-04:03:12:43:INFO] Determined delimiter of CSV input is ','\u001b[0m\n",
      "\u001b[35m[2021-03-04:03:12:43:INFO] Sniff delimiter as ','\u001b[0m\n",
      "\u001b[35m[2021-03-04:03:12:43:INFO] Determined delimiter of CSV input is ','\u001b[0m\n",
      "\u001b[35m[2021-03-04:03:12:44:INFO] Sniff delimiter as ','\u001b[0m\n",
      "\u001b[35m[2021-03-04:03:12:44:INFO] Determined delimiter of CSV input is ','\u001b[0m\n",
      "\u001b[34m[2021-03-04:03:12:45:INFO] Sniff delimiter as ','\u001b[0m\n",
      "\u001b[35m[2021-03-04:03:12:45:INFO] Sniff delimiter as ','\u001b[0m\n",
      "\u001b[34m[2021-03-04:03:12:45:INFO] Determined delimiter of CSV input is ','\u001b[0m\n",
      "\u001b[34m[2021-03-04:03:12:46:INFO] Sniff delimiter as ','\u001b[0m\n",
      "\u001b[34m[2021-03-04:03:12:46:INFO] Determined delimiter of CSV input is ','\u001b[0m\n",
      "\u001b[34m[2021-03-04:03:12:46:INFO] Sniff delimiter as ','\u001b[0m\n",
      "\u001b[34m[2021-03-04:03:12:46:INFO] Determined delimiter of CSV input is ','\u001b[0m\n",
      "\u001b[34m[2021-03-04:03:12:46:INFO] Sniff delimiter as ','\u001b[0m\n",
      "\u001b[34m[2021-03-04:03:12:46:INFO] Determined delimiter of CSV input is ','\u001b[0m\n",
      "\u001b[35m[2021-03-04:03:12:45:INFO] Determined delimiter of CSV input is ','\u001b[0m\n",
      "\u001b[35m[2021-03-04:03:12:46:INFO] Sniff delimiter as ','\u001b[0m\n",
      "\u001b[35m[2021-03-04:03:12:46:INFO] Determined delimiter of CSV input is ','\u001b[0m\n",
      "\u001b[35m[2021-03-04:03:12:46:INFO] Sniff delimiter as ','\u001b[0m\n",
      "\u001b[35m[2021-03-04:03:12:46:INFO] Determined delimiter of CSV input is ','\u001b[0m\n",
      "\u001b[35m[2021-03-04:03:12:46:INFO] Sniff delimiter as ','\u001b[0m\n",
      "\u001b[35m[2021-03-04:03:12:46:INFO] Determined delimiter of CSV input is ','\u001b[0m\n",
      "\u001b[34m[2021-03-04:03:12:48:INFO] Determined delimiter of CSV input is ','\u001b[0m\n",
      "\u001b[35m[2021-03-04:03:12:48:INFO] Determined delimiter of CSV input is ','\u001b[0m\n",
      "\u001b[34m[2021-03-04:03:12:50:INFO] Sniff delimiter as ','\u001b[0m\n",
      "\u001b[34m[2021-03-04:03:12:50:INFO] Determined delimiter of CSV input is ','\u001b[0m\n",
      "\u001b[34m[2021-03-04:03:12:50:INFO] Sniff delimiter as ','\u001b[0m\n",
      "\u001b[34m[2021-03-04:03:12:50:INFO] Determined delimiter of CSV input is ','\u001b[0m\n",
      "\u001b[34m[2021-03-04:03:12:51:INFO] Sniff delimiter as ','\u001b[0m\n",
      "\u001b[34m[2021-03-04:03:12:51:INFO] Determined delimiter of CSV input is ','\u001b[0m\n",
      "\u001b[34m[2021-03-04:03:12:51:INFO] Sniff delimiter as ','\u001b[0m\n",
      "\u001b[34m[2021-03-04:03:12:51:INFO] Determined delimiter of CSV input is ','\u001b[0m\n",
      "\u001b[35m[2021-03-04:03:12:50:INFO] Sniff delimiter as ','\u001b[0m\n",
      "\u001b[35m[2021-03-04:03:12:50:INFO] Determined delimiter of CSV input is ','\u001b[0m\n",
      "\u001b[35m[2021-03-04:03:12:50:INFO] Sniff delimiter as ','\u001b[0m\n",
      "\u001b[35m[2021-03-04:03:12:50:INFO] Determined delimiter of CSV input is ','\u001b[0m\n",
      "\u001b[35m[2021-03-04:03:12:51:INFO] Sniff delimiter as ','\u001b[0m\n",
      "\u001b[35m[2021-03-04:03:12:51:INFO] Determined delimiter of CSV input is ','\u001b[0m\n",
      "\u001b[35m[2021-03-04:03:12:51:INFO] Sniff delimiter as ','\u001b[0m\n",
      "\u001b[35m[2021-03-04:03:12:51:INFO] Determined delimiter of CSV input is ','\u001b[0m\n",
      "\n"
     ]
    }
   ],
   "source": [
    "xgb_transformer.wait()"
   ]
  },
  {
   "cell_type": "markdown",
   "metadata": {},
   "source": [
    "Now the transform job has executed and the result, the estimated sentiment of each review, has been saved on S3. Since we would rather work on this file locally we can perform a bit of notebook magic to copy the file to the `data_dir`."
   ]
  },
  {
   "cell_type": "code",
   "execution_count": 57,
   "metadata": {},
   "outputs": [
    {
     "name": "stdout",
     "output_type": "stream",
     "text": [
      "download: s3://sagemaker-us-east-1-047997999670/xgboost-210304-0049-020-d706b8e6-2021-03-04-03-07-16-743/test.csv.out to ../data/xgboost/test.csv.out\r\n"
     ]
    }
   ],
   "source": [
    "!aws s3 cp --recursive $xgb_transformer.output_path $data_dir"
   ]
  },
  {
   "cell_type": "markdown",
   "metadata": {},
   "source": [
    "The last step is now to read in the output from our model, convert the output to something a little more usable, in this case we want the sentiment to be either `1` (positive) or `0` (negative), and then compare to the ground truth labels."
   ]
  },
  {
   "cell_type": "code",
   "execution_count": 58,
   "metadata": {},
   "outputs": [],
   "source": [
    "predictions = pd.read_csv(os.path.join(data_dir, 'test.csv.out'), header=None)\n",
    "predictions = [round(num) for num in predictions.squeeze().values]"
   ]
  },
  {
   "cell_type": "code",
   "execution_count": 59,
   "metadata": {},
   "outputs": [
    {
     "data": {
      "text/plain": [
       "0.86584"
      ]
     },
     "execution_count": 59,
     "metadata": {},
     "output_type": "execute_result"
    }
   ],
   "source": [
    "from sklearn.metrics import accuracy_score\n",
    "accuracy_score(test_y, predictions)"
   ]
  },
  {
   "cell_type": "markdown",
   "metadata": {},
   "source": [
    "## Optional: Clean up\n",
    "\n",
    "The default notebook instance on SageMaker doesn't have a lot of excess disk space available. As you continue to complete and execute notebooks you will eventually fill up this disk space, leading to errors which can be difficult to diagnose. Once you are completely finished using a notebook it is a good idea to remove the files that you created along the way. Of course, you can do this from the terminal or from the notebook hub if you would like. The cell below contains some commands to clean up the created files from within the notebook."
   ]
  },
  {
   "cell_type": "code",
   "execution_count": 60,
   "metadata": {},
   "outputs": [],
   "source": [
    "# First we will remove all of the files contained in the data_dir directory\n",
    "!rm $data_dir/*\n",
    "\n",
    "# And then we delete the directory itself\n",
    "!rmdir $data_dir\n",
    "\n",
    "# Similarly we will remove the files in the cache_dir directory and the directory itself\n",
    "!rm $cache_dir/*\n",
    "!rmdir $cache_dir"
   ]
  },
  {
   "cell_type": "code",
   "execution_count": null,
   "metadata": {},
   "outputs": [],
   "source": []
  }
 ],
 "metadata": {
  "kernelspec": {
   "display_name": "conda_python3",
   "language": "python",
   "name": "conda_python3"
  },
  "language_info": {
   "codemirror_mode": {
    "name": "ipython",
    "version": 3
   },
   "file_extension": ".py",
   "mimetype": "text/x-python",
   "name": "python",
   "nbconvert_exporter": "python",
   "pygments_lexer": "ipython3",
   "version": "3.6.10"
  }
 },
 "nbformat": 4,
 "nbformat_minor": 2
}
