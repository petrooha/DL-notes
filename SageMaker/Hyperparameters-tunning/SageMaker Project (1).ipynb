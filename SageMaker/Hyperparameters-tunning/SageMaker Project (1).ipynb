{
 "cells": [
  {
   "cell_type": "markdown",
   "metadata": {},
   "source": [
    "# Creating a Sentiment Analysis Web App\n",
    "## Using PyTorch and SageMaker\n",
    "\n",
    "_Deep Learning Nanodegree Program | Deployment_\n",
    "\n",
    "---\n",
    "\n",
    "Now that we have a basic understanding of how SageMaker works we will try to use it to construct a complete project from end to end. Our goal will be to have a simple web page which a user can use to enter a movie review. The web page will then send the review off to our deployed model which will predict the sentiment of the entered review.\n",
    "\n",
    "## Instructions\n",
    "\n",
    "Some template code has already been provided for you, and you will need to implement additional functionality to successfully complete this notebook. You will not need to modify the included code beyond what is requested. Sections that begin with '**TODO**' in the header indicate that you need to complete or implement some portion within them. Instructions will be provided for each section and the specifics of the implementation are marked in the code block with a `# TODO: ...` comment. Please be sure to read the instructions carefully!\n",
    "\n",
    "In addition to implementing code, there will be questions for you to answer which relate to the task and your implementation. Each section where you will answer a question is preceded by a '**Question:**' header. Carefully read each question and provide your answer below the '**Answer:**' header by editing the Markdown cell.\n",
    "\n",
    "> **Note**: Code and Markdown cells can be executed using the **Shift+Enter** keyboard shortcut. In addition, a cell can be edited by typically clicking it (double-click for Markdown cells) or by pressing **Enter** while it is highlighted.\n",
    "\n",
    "## General Outline\n",
    "\n",
    "Recall the general outline for SageMaker projects using a notebook instance.\n",
    "\n",
    "1. Download or otherwise retrieve the data.\n",
    "2. Process / Prepare the data.\n",
    "3. Upload the processed data to S3.\n",
    "4. Train a chosen model.\n",
    "5. Test the trained model (typically using a batch transform job).\n",
    "6. Deploy the trained model.\n",
    "7. Use the deployed model.\n",
    "\n",
    "For this project, you will be following the steps in the general outline with some modifications. \n",
    "\n",
    "First, you will not be testing the model in its own step. You will still be testing the model, however, you will do it by deploying your model and then using the deployed model by sending the test data to it. One of the reasons for doing this is so that you can make sure that your deployed model is working correctly before moving forward.\n",
    "\n",
    "In addition, you will deploy and use your trained model a second time. In the second iteration you will customize the way that your trained model is deployed by including some of your own code. In addition, your newly deployed model will be used in the sentiment analysis web app."
   ]
  },
  {
   "cell_type": "code",
   "execution_count": 118,
   "metadata": {},
   "outputs": [
    {
     "name": "stdout",
     "output_type": "stream",
     "text": [
      "Requirement already satisfied: sagemaker==1.72.0 in /home/ec2-user/anaconda3/envs/pytorch_p36/lib/python3.6/site-packages (1.72.0)\n",
      "Requirement already satisfied: protobuf3-to-dict>=0.1.5 in /home/ec2-user/anaconda3/envs/pytorch_p36/lib/python3.6/site-packages (from sagemaker==1.72.0) (0.1.5)\n",
      "Requirement already satisfied: smdebug-rulesconfig==0.1.4 in /home/ec2-user/anaconda3/envs/pytorch_p36/lib/python3.6/site-packages (from sagemaker==1.72.0) (0.1.4)\n",
      "Requirement already satisfied: packaging>=20.0 in /home/ec2-user/anaconda3/envs/pytorch_p36/lib/python3.6/site-packages (from sagemaker==1.72.0) (20.1)\n",
      "Requirement already satisfied: scipy>=0.19.0 in /home/ec2-user/anaconda3/envs/pytorch_p36/lib/python3.6/site-packages (from sagemaker==1.72.0) (1.4.1)\n",
      "Requirement already satisfied: numpy>=1.9.0 in /home/ec2-user/anaconda3/envs/pytorch_p36/lib/python3.6/site-packages (from sagemaker==1.72.0) (1.18.1)\n",
      "Requirement already satisfied: boto3>=1.14.12 in /home/ec2-user/anaconda3/envs/pytorch_p36/lib/python3.6/site-packages (from sagemaker==1.72.0) (1.17.16)\n",
      "Requirement already satisfied: protobuf>=3.1 in /home/ec2-user/anaconda3/envs/pytorch_p36/lib/python3.6/site-packages (from sagemaker==1.72.0) (3.11.4)\n",
      "Requirement already satisfied: importlib-metadata>=1.4.0 in /home/ec2-user/anaconda3/envs/pytorch_p36/lib/python3.6/site-packages (from sagemaker==1.72.0) (3.4.0)\n",
      "Requirement already satisfied: s3transfer<0.4.0,>=0.3.0 in /home/ec2-user/anaconda3/envs/pytorch_p36/lib/python3.6/site-packages (from boto3>=1.14.12->sagemaker==1.72.0) (0.3.4)\n",
      "Requirement already satisfied: jmespath<1.0.0,>=0.7.1 in /home/ec2-user/anaconda3/envs/pytorch_p36/lib/python3.6/site-packages (from boto3>=1.14.12->sagemaker==1.72.0) (0.10.0)\n",
      "Requirement already satisfied: botocore<1.21.0,>=1.20.16 in /home/ec2-user/anaconda3/envs/pytorch_p36/lib/python3.6/site-packages (from boto3>=1.14.12->sagemaker==1.72.0) (1.20.16)\n",
      "Requirement already satisfied: python-dateutil<3.0.0,>=2.1 in /home/ec2-user/anaconda3/envs/pytorch_p36/lib/python3.6/site-packages (from botocore<1.21.0,>=1.20.16->boto3>=1.14.12->sagemaker==1.72.0) (2.8.1)\n",
      "Requirement already satisfied: urllib3<1.27,>=1.25.4 in /home/ec2-user/anaconda3/envs/pytorch_p36/lib/python3.6/site-packages (from botocore<1.21.0,>=1.20.16->boto3>=1.14.12->sagemaker==1.72.0) (1.25.10)\n",
      "Requirement already satisfied: zipp>=0.5 in /home/ec2-user/anaconda3/envs/pytorch_p36/lib/python3.6/site-packages (from importlib-metadata>=1.4.0->sagemaker==1.72.0) (2.2.0)\n",
      "Requirement already satisfied: typing-extensions>=3.6.4 in /home/ec2-user/anaconda3/envs/pytorch_p36/lib/python3.6/site-packages (from importlib-metadata>=1.4.0->sagemaker==1.72.0) (3.7.4.3)\n",
      "Requirement already satisfied: pyparsing>=2.0.2 in /home/ec2-user/anaconda3/envs/pytorch_p36/lib/python3.6/site-packages (from packaging>=20.0->sagemaker==1.72.0) (2.4.6)\n",
      "Requirement already satisfied: six in /home/ec2-user/anaconda3/envs/pytorch_p36/lib/python3.6/site-packages (from packaging>=20.0->sagemaker==1.72.0) (1.14.0)\n",
      "Requirement already satisfied: setuptools in /home/ec2-user/anaconda3/envs/pytorch_p36/lib/python3.6/site-packages (from protobuf>=3.1->sagemaker==1.72.0) (45.2.0.post20200210)\n"
     ]
    }
   ],
   "source": [
    "# Make sure that we use SageMaker 1.x\n",
    "!pip install sagemaker==1.72.0"
   ]
  },
  {
   "cell_type": "markdown",
   "metadata": {},
   "source": [
    "## Step 1: Downloading the data\n",
    "\n",
    "As in the XGBoost in SageMaker notebook, we will be using the [IMDb dataset](http://ai.stanford.edu/~amaas/data/sentiment/)\n",
    "\n",
    "> Maas, Andrew L., et al. [Learning Word Vectors for Sentiment Analysis](http://ai.stanford.edu/~amaas/data/sentiment/). In _Proceedings of the 49th Annual Meeting of the Association for Computational Linguistics: Human Language Technologies_. Association for Computational Linguistics, 2011."
   ]
  },
  {
   "cell_type": "code",
   "execution_count": 119,
   "metadata": {},
   "outputs": [
    {
     "name": "stdout",
     "output_type": "stream",
     "text": [
      "mkdir: cannot create directory ‘../data’: File exists\n",
      "--2021-03-08 20:27:08--  http://ai.stanford.edu/~amaas/data/sentiment/aclImdb_v1.tar.gz\n",
      "Resolving ai.stanford.edu (ai.stanford.edu)... 171.64.68.10\n",
      "Connecting to ai.stanford.edu (ai.stanford.edu)|171.64.68.10|:80... connected.\n",
      "HTTP request sent, awaiting response... 200 OK\n",
      "Length: 84125825 (80M) [application/x-gzip]\n",
      "Saving to: ‘../data/aclImdb_v1.tar.gz’\n",
      "\n",
      "../data/aclImdb_v1. 100%[===================>]  80.23M  23.8MB/s    in 4.3s    \n",
      "\n",
      "2021-03-08 20:27:12 (18.6 MB/s) - ‘../data/aclImdb_v1.tar.gz’ saved [84125825/84125825]\n",
      "\n"
     ]
    }
   ],
   "source": [
    "%mkdir ../data\n",
    "!wget -O ../data/aclImdb_v1.tar.gz http://ai.stanford.edu/~amaas/data/sentiment/aclImdb_v1.tar.gz\n",
    "!tar -zxf ../data/aclImdb_v1.tar.gz -C ../data"
   ]
  },
  {
   "cell_type": "markdown",
   "metadata": {},
   "source": [
    "## Step 2: Preparing and Processing the data\n",
    "\n",
    "Also, as in the XGBoost notebook, we will be doing some initial data processing. The first few steps are the same as in the XGBoost example. To begin with, we will read in each of the reviews and combine them into a single input structure. Then, we will split the dataset into a training set and a testing set."
   ]
  },
  {
   "cell_type": "code",
   "execution_count": 120,
   "metadata": {},
   "outputs": [],
   "source": [
    "import os\n",
    "import glob\n",
    "\n",
    "def read_imdb_data(data_dir='../data/aclImdb'):\n",
    "    data = {}\n",
    "    labels = {}\n",
    "    \n",
    "    for data_type in ['train', 'test']:\n",
    "        data[data_type] = {}\n",
    "        labels[data_type] = {}\n",
    "        \n",
    "        for sentiment in ['pos', 'neg']:\n",
    "            data[data_type][sentiment] = []\n",
    "            labels[data_type][sentiment] = []\n",
    "            \n",
    "            path = os.path.join(data_dir, data_type, sentiment, '*.txt')\n",
    "            files = glob.glob(path)\n",
    "            \n",
    "            for f in files:\n",
    "                with open(f) as review:\n",
    "                    data[data_type][sentiment].append(review.read())\n",
    "                    # Here we represent a positive review by '1' and a negative review by '0'\n",
    "                    labels[data_type][sentiment].append(1 if sentiment == 'pos' else 0)\n",
    "                    \n",
    "            assert len(data[data_type][sentiment]) == len(labels[data_type][sentiment]), \\\n",
    "                    \"{}/{} data size does not match labels size\".format(data_type, sentiment)\n",
    "                \n",
    "    return data, labels"
   ]
  },
  {
   "cell_type": "code",
   "execution_count": 121,
   "metadata": {},
   "outputs": [
    {
     "name": "stdout",
     "output_type": "stream",
     "text": [
      "IMDB reviews: train = 12500 pos / 12500 neg, test = 12500 pos / 12500 neg\n"
     ]
    }
   ],
   "source": [
    "data, labels = read_imdb_data()\n",
    "print(\"IMDB reviews: train = {} pos / {} neg, test = {} pos / {} neg\".format(\n",
    "            len(data['train']['pos']), len(data['train']['neg']),\n",
    "            len(data['test']['pos']), len(data['test']['neg'])))"
   ]
  },
  {
   "cell_type": "markdown",
   "metadata": {},
   "source": [
    "Now that we've read the raw training and testing data from the downloaded dataset, we will combine the positive and negative reviews and shuffle the resulting records."
   ]
  },
  {
   "cell_type": "code",
   "execution_count": 122,
   "metadata": {},
   "outputs": [],
   "source": [
    "from sklearn.utils import shuffle\n",
    "\n",
    "def prepare_imdb_data(data, labels):\n",
    "    \"\"\"Prepare training and test sets from IMDb movie reviews.\"\"\"\n",
    "    \n",
    "    #Combine positive and negative reviews and labels\n",
    "    data_train = data['train']['pos'] + data['train']['neg']\n",
    "    data_test = data['test']['pos'] + data['test']['neg']\n",
    "    labels_train = labels['train']['pos'] + labels['train']['neg']\n",
    "    labels_test = labels['test']['pos'] + labels['test']['neg']\n",
    "    \n",
    "    #Shuffle reviews and corresponding labels within training and test sets\n",
    "    data_train, labels_train = shuffle(data_train, labels_train)\n",
    "    data_test, labels_test = shuffle(data_test, labels_test)\n",
    "    \n",
    "    # Return a unified training data, test data, training labels, test labets\n",
    "    return data_train, data_test, labels_train, labels_test"
   ]
  },
  {
   "cell_type": "code",
   "execution_count": 123,
   "metadata": {},
   "outputs": [
    {
     "name": "stdout",
     "output_type": "stream",
     "text": [
      "IMDb reviews (combined): train = 25000, test = 25000\n"
     ]
    }
   ],
   "source": [
    "train_X, test_X, train_y, test_y = prepare_imdb_data(data, labels)\n",
    "print(\"IMDb reviews (combined): train = {}, test = {}\".format(len(train_X), len(test_X)))"
   ]
  },
  {
   "cell_type": "markdown",
   "metadata": {},
   "source": [
    "Now that we have our training and testing sets unified and prepared, we should do a quick check and see an example of the data our model will be trained on. This is generally a good idea as it allows you to see how each of the further processing steps affects the reviews and it also ensures that the data has been loaded correctly."
   ]
  },
  {
   "cell_type": "code",
   "execution_count": 124,
   "metadata": {},
   "outputs": [
    {
     "name": "stdout",
     "output_type": "stream",
     "text": [
      "Based on Tom Wolfe's satirical novel that was praised by all (i have not read it yet) Tom Hanks stars as a wall streeter who accidentally kills a black boy while lost in a bad part of NYC Willis stars as the reporter who starts Hanks on his downward spiral.. The characters are very thin and there seems to be no empathy for anyone in this movie and for a comedy or a satire there arent a lot of laughs either..Melanie Griffith had her breasts done during filming so a fun thing to do is to see if her boobs change size during different parts of the film..This will keep your mind off other things like the lack of script or humor.. On a scale of one to ten..3\n",
      "0\n"
     ]
    }
   ],
   "source": [
    "print(train_X[100])\n",
    "print(train_y[100])"
   ]
  },
  {
   "cell_type": "markdown",
   "metadata": {},
   "source": [
    "The first step in processing the reviews is to make sure that any html tags that appear should be removed. In addition we wish to tokenize our input, that way words such as *entertained* and *entertaining* are considered the same with regard to sentiment analysis."
   ]
  },
  {
   "cell_type": "code",
   "execution_count": 125,
   "metadata": {},
   "outputs": [],
   "source": [
    "import nltk\n",
    "from nltk.corpus import stopwords\n",
    "from nltk.stem.porter import *\n",
    "\n",
    "import re\n",
    "from bs4 import BeautifulSoup\n",
    "\n",
    "def review_to_words(review):\n",
    "    nltk.download(\"stopwords\", quiet=True)\n",
    "    stemmer = PorterStemmer()\n",
    "    \n",
    "    text = BeautifulSoup(review, \"html.parser\").get_text() # Remove HTML tags\n",
    "    text = re.sub(r\"[^a-zA-Z0-9]\", \" \", text.lower()) # Convert to lower case\n",
    "    words = text.split() # Split string into words\n",
    "    words = [w for w in words if w not in stopwords.words(\"english\")] # Remove stopwords\n",
    "    words = [PorterStemmer().stem(w) for w in words] # stem\n",
    "    \n",
    "    return words"
   ]
  },
  {
   "cell_type": "markdown",
   "metadata": {},
   "source": [
    "The `review_to_words` method defined above uses `BeautifulSoup` to remove any html tags that appear and uses the `nltk` package to tokenize the reviews. As a check to ensure we know how everything is working, try applying `review_to_words` to one of the reviews in the training set."
   ]
  },
  {
   "cell_type": "code",
   "execution_count": 126,
   "metadata": {},
   "outputs": [
    {
     "data": {
      "text/plain": [
       "['base',\n",
       " 'tom',\n",
       " 'wolf',\n",
       " 'satir',\n",
       " 'novel',\n",
       " 'prais',\n",
       " 'read',\n",
       " 'yet',\n",
       " 'tom',\n",
       " 'hank',\n",
       " 'star',\n",
       " 'wall',\n",
       " 'streeter',\n",
       " 'accident',\n",
       " 'kill',\n",
       " 'black',\n",
       " 'boy',\n",
       " 'lost',\n",
       " 'bad',\n",
       " 'part',\n",
       " 'nyc',\n",
       " 'willi',\n",
       " 'star',\n",
       " 'report',\n",
       " 'start',\n",
       " 'hank',\n",
       " 'downward',\n",
       " 'spiral',\n",
       " 'charact',\n",
       " 'thin',\n",
       " 'seem',\n",
       " 'empathi',\n",
       " 'anyon',\n",
       " 'movi',\n",
       " 'comedi',\n",
       " 'satir',\n",
       " 'arent',\n",
       " 'lot',\n",
       " 'laugh',\n",
       " 'either',\n",
       " 'melani',\n",
       " 'griffith',\n",
       " 'breast',\n",
       " 'done',\n",
       " 'film',\n",
       " 'fun',\n",
       " 'thing',\n",
       " 'see',\n",
       " 'boob',\n",
       " 'chang',\n",
       " 'size',\n",
       " 'differ',\n",
       " 'part',\n",
       " 'film',\n",
       " 'keep',\n",
       " 'mind',\n",
       " 'thing',\n",
       " 'like',\n",
       " 'lack',\n",
       " 'script',\n",
       " 'humor',\n",
       " 'scale',\n",
       " 'one',\n",
       " 'ten',\n",
       " '3']"
      ]
     },
     "execution_count": 126,
     "metadata": {},
     "output_type": "execute_result"
    }
   ],
   "source": [
    "# TODO: Apply review_to_words to a review (train_X[100] or any other review)\n",
    "review_to_words(train_X[100])"
   ]
  },
  {
   "cell_type": "markdown",
   "metadata": {},
   "source": [
    "**Question:** Above we mentioned that `review_to_words` method removes html formatting and allows us to tokenize the words found in a review, for example, converting *entertained* and *entertaining* into *entertain* so that they are treated as though they are the same word. What else, if anything, does this method do to the input?"
   ]
  },
  {
   "cell_type": "markdown",
   "metadata": {},
   "source": [
    "**Answer:**"
   ]
  },
  {
   "cell_type": "markdown",
   "metadata": {},
   "source": [
    "The method below applies the `review_to_words` method to each of the reviews in the training and testing datasets. In addition it caches the results. This is because performing this processing step can take a long time. This way if you are unable to complete the notebook in the current session, you can come back without needing to process the data a second time."
   ]
  },
  {
   "cell_type": "code",
   "execution_count": 127,
   "metadata": {},
   "outputs": [],
   "source": [
    "import pickle\n",
    "\n",
    "cache_dir = os.path.join(\"../cache\", \"sentiment_analysis\")  # where to store cache files\n",
    "os.makedirs(cache_dir, exist_ok=True)  # ensure cache directory exists\n",
    "\n",
    "def preprocess_data(data_train, data_test, labels_train, labels_test,\n",
    "                    cache_dir=cache_dir, cache_file=\"preprocessed_data.pkl\"):\n",
    "    \"\"\"Convert each review to words; read from cache if available.\"\"\"\n",
    "\n",
    "    # If cache_file is not None, try to read from it first\n",
    "    cache_data = None\n",
    "    if cache_file is not None:\n",
    "        try:\n",
    "            with open(os.path.join(cache_dir, cache_file), \"rb\") as f:\n",
    "                cache_data = pickle.load(f)\n",
    "            print(\"Read preprocessed data from cache file:\", cache_file)\n",
    "        except:\n",
    "            pass  # unable to read from cache, but that's okay\n",
    "    \n",
    "    # If cache is missing, then do the heavy lifting\n",
    "    if cache_data is None:\n",
    "        # Preprocess training and test data to obtain words for each review\n",
    "        #words_train = list(map(review_to_words, data_train))\n",
    "        #words_test = list(map(review_to_words, data_test))\n",
    "        words_train = [review_to_words(review) for review in data_train]\n",
    "        words_test = [review_to_words(review) for review in data_test]\n",
    "        \n",
    "        # Write to cache file for future runs\n",
    "        if cache_file is not None:\n",
    "            cache_data = dict(words_train=words_train, words_test=words_test,\n",
    "                              labels_train=labels_train, labels_test=labels_test)\n",
    "            with open(os.path.join(cache_dir, cache_file), \"wb\") as f:\n",
    "                pickle.dump(cache_data, f)\n",
    "            print(\"Wrote preprocessed data to cache file:\", cache_file)\n",
    "    else:\n",
    "        # Unpack data loaded from cache file\n",
    "        words_train, words_test, labels_train, labels_test = (cache_data['words_train'],\n",
    "                cache_data['words_test'], cache_data['labels_train'], cache_data['labels_test'])\n",
    "    \n",
    "    return words_train, words_test, labels_train, labels_test"
   ]
  },
  {
   "cell_type": "code",
   "execution_count": 128,
   "metadata": {},
   "outputs": [
    {
     "name": "stdout",
     "output_type": "stream",
     "text": [
      "Read preprocessed data from cache file: preprocessed_data.pkl\n"
     ]
    }
   ],
   "source": [
    "# Preprocess data\n",
    "train_X, test_X, train_y, test_y = preprocess_data(train_X, test_X, train_y, test_y)"
   ]
  },
  {
   "cell_type": "markdown",
   "metadata": {},
   "source": [
    "## Transform the data\n",
    "\n",
    "In the XGBoost notebook we transformed the data from its word representation to a bag-of-words feature representation. For the model we are going to construct in this notebook we will construct a feature representation which is very similar. To start, we will represent each word as an integer. Of course, some of the words that appear in the reviews occur very infrequently and so likely don't contain much information for the purposes of sentiment analysis. The way we will deal with this problem is that we will fix the size of our working vocabulary and we will only include the words that appear most frequently. We will then combine all of the infrequent words into a single category and, in our case, we will label it as `1`.\n",
    "\n",
    "Since we will be using a recurrent neural network, it will be convenient if the length of each review is the same. To do this, we will fix a size for our reviews and then pad short reviews with the category 'no word' (which we will label `0`) and truncate long reviews."
   ]
  },
  {
   "cell_type": "markdown",
   "metadata": {},
   "source": [
    "### (TODO) Create a word dictionary\n",
    "\n",
    "To begin with, we need to construct a way to map words that appear in the reviews to integers. Here we fix the size of our vocabulary (including the 'no word' and 'infrequent' categories) to be `5000` but you may wish to change this to see how it affects the model.\n",
    "\n",
    "> **TODO:** Complete the implementation for the `build_dict()` method below. Note that even though the vocab_size is set to `5000`, we only want to construct a mapping for the most frequently appearing `4998` words. This is because we want to reserve the special labels `0` for 'no word' and `1` for 'infrequent word'."
   ]
  },
  {
   "cell_type": "code",
   "execution_count": 129,
   "metadata": {},
   "outputs": [],
   "source": [
    "import numpy as np\n",
    "from collections import Counter\n",
    "\n",
    "def build_dict(data, vocab_size = 5000):\n",
    "    \"\"\"Construct and return a dictionary mapping each of the most frequently appearing words to a unique integer.\"\"\"\n",
    "    \n",
    "    # TODO: Determine how often each word appears in `data`. Note that `data` is a list of sentences and that a\n",
    "    #       sentence is a list of words.\n",
    "    all_words = []\n",
    "    for review in data:\n",
    "        for word in review:\n",
    "            all_words.append(word)\n",
    "    \n",
    "    word_count = Counter(all_words) # A dict storing the words that appear in the reviews along with how often they occur\n",
    "    \n",
    "    # TODO: Sort the words found in `data` so that sorted_words[0] is the most frequently appearing word and\n",
    "    #       sorted_words[-1] is the least frequently appearing word.\n",
    "    sorted_words = sorted(word_count, key=word_count.get, reverse=True)\n",
    "    #sorted_words = None\n",
    "    \n",
    "    word_dict = {} # This is what we are building, a dictionary that translates words into integers\n",
    "    for idx, word in enumerate(sorted_words[:vocab_size - 2]): # The -2 is so that we save room for the 'no word'\n",
    "        word_dict[word] = idx + 2                              # 'infrequent' labels\n",
    "        \n",
    "    return word_dict"
   ]
  },
  {
   "cell_type": "code",
   "execution_count": 130,
   "metadata": {},
   "outputs": [],
   "source": [
    "word_dict = build_dict(train_X)"
   ]
  },
  {
   "cell_type": "markdown",
   "metadata": {},
   "source": [
    "**Question:** What are the five most frequently appearing (tokenized) words in the training set? Does it makes sense that these words appear frequently in the training set?"
   ]
  },
  {
   "cell_type": "markdown",
   "metadata": {},
   "source": [
    "**Answer:**\n",
    "Words \"movi\", \"film\", \"one\", \"like\" and \"time\" are 5 most common words in the reviews dataset, and yes, it does makes sense that those words are frequent"
   ]
  },
  {
   "cell_type": "code",
   "execution_count": 131,
   "metadata": {},
   "outputs": [
    {
     "name": "stdout",
     "output_type": "stream",
     "text": [
      "{'movi': 2, 'film': 3, 'one': 4, 'like': 5, 'time': 6, 'good': 7, 'make': 8, 'charact': 9, 'get': 10, 'see': 11, 'watch': 12, 'stori': 13, 'even': 14, 'would': 15, 'realli': 16, 'well': 17, 'scene': 18, 'look': 19, 'show': 20, 'much': 21, 'end': 22, 'peopl': 23, 'bad': 24, 'go': 25, 'great': 26, 'also': 27, 'first': 28, 'love': 29, 'think': 30, 'way': 31, 'act': 32, 'play': 33, 'made': 34, 'thing': 35, 'could': 36, 'know': 37, 'say': 38, 'seem': 39, 'work': 40, 'plot': 41, 'two': 42, 'actor': 43, 'year': 44, 'come': 45, 'mani': 46, 'seen': 47, 'take': 48, 'life': 49, 'want': 50, 'never': 51, 'littl': 52, 'best': 53, 'tri': 54, 'man': 55, 'ever': 56, 'give': 57, 'better': 58, 'still': 59, 'perform': 60, 'find': 61, 'feel': 62, 'part': 63, 'back': 64, 'use': 65, 'someth': 66, 'director': 67, 'actual': 68, 'interest': 69, 'lot': 70, 'real': 71, 'old': 72, 'cast': 73, 'though': 74, 'live': 75, 'star': 76, 'enjoy': 77, 'guy': 78, 'anoth': 79, 'new': 80, 'role': 81, 'noth': 82, '10': 83, 'funni': 84, 'music': 85, 'point': 86, 'start': 87, 'set': 88, 'girl': 89, 'origin': 90, 'day': 91, 'world': 92, 'everi': 93, 'believ': 94, 'turn': 95, 'quit': 96, 'direct': 97, 'us': 98, 'thought': 99, 'fact': 100, 'minut': 101, 'horror': 102, 'kill': 103, 'action': 104, 'comedi': 105, 'pretti': 106, 'young': 107, 'wonder': 108, 'happen': 109, 'around': 110, 'got': 111, 'effect': 112, 'right': 113, 'long': 114, 'howev': 115, 'big': 116, 'line': 117, 'famili': 118, 'enough': 119, 'seri': 120, 'may': 121, 'need': 122, 'fan': 123, 'bit': 124, 'script': 125, 'beauti': 126, 'person': 127, 'becom': 128, 'without': 129, 'must': 130, 'alway': 131, 'friend': 132, 'tell': 133, 'reason': 134, 'saw': 135, 'last': 136, 'final': 137, 'kid': 138, 'almost': 139, 'put': 140, 'least': 141, 'sure': 142, 'done': 143, 'whole': 144, 'place': 145, 'complet': 146, 'kind': 147, 'differ': 148, 'expect': 149, 'shot': 150, 'far': 151, 'mean': 152, 'anyth': 153, 'book': 154, 'laugh': 155, 'might': 156, 'name': 157, 'sinc': 158, 'begin': 159, '2': 160, 'probabl': 161, 'woman': 162, 'help': 163, 'entertain': 164, 'let': 165, 'screen': 166, 'call': 167, 'tv': 168, 'moment': 169, 'away': 170, 'read': 171, 'yet': 172, 'rather': 173, 'worst': 174, 'run': 175, 'fun': 176, 'lead': 177, 'hard': 178, 'audienc': 179, 'idea': 180, 'anyon': 181, 'episod': 182, 'american': 183, 'found': 184, 'appear': 185, 'bore': 186, 'especi': 187, 'although': 188, 'hope': 189, 'keep': 190, 'cours': 191, 'anim': 192, 'job': 193, 'goe': 194, 'move': 195, 'sens': 196, 'version': 197, 'dvd': 198, 'war': 199, 'money': 200, 'someon': 201, 'mind': 202, 'mayb': 203, 'problem': 204, 'true': 205, 'hous': 206, 'everyth': 207, 'nice': 208, 'second': 209, 'rate': 210, 'three': 211, 'night': 212, 'face': 213, 'follow': 214, 'recommend': 215, 'product': 216, 'main': 217, 'worth': 218, 'leav': 219, 'human': 220, 'special': 221, 'excel': 222, 'togeth': 223, 'wast': 224, 'everyon': 225, 'sound': 226, 'john': 227, 'hand': 228, '1': 229, 'father': 230, 'later': 231, 'eye': 232, 'said': 233, 'view': 234, 'instead': 235, 'review': 236, 'boy': 237, 'high': 238, 'hour': 239, 'miss': 240, 'talk': 241, 'classic': 242, 'wife': 243, 'understand': 244, 'left': 245, 'care': 246, 'black': 247, 'death': 248, 'open': 249, 'murder': 250, 'write': 251, 'half': 252, 'head': 253, 'rememb': 254, 'chang': 255, 'viewer': 256, 'fight': 257, 'gener': 258, 'surpris': 259, 'includ': 260, 'short': 261, 'die': 262, 'fall': 263, 'less': 264, 'els': 265, 'entir': 266, 'piec': 267, 'involv': 268, 'pictur': 269, 'simpli': 270, 'power': 271, 'top': 272, 'home': 273, 'total': 274, 'usual': 275, 'budget': 276, 'attempt': 277, 'suppos': 278, 'releas': 279, 'hollywood': 280, 'terribl': 281, 'song': 282, 'men': 283, 'possibl': 284, 'featur': 285, 'portray': 286, 'disappoint': 287, 'poor': 288, '3': 289, 'coupl': 290, 'stupid': 291, 'camera': 292, 'dead': 293, 'wrong': 294, 'produc': 295, 'low': 296, 'video': 297, 'either': 298, 'aw': 299, 'definit': 300, 'except': 301, 'rest': 302, 'given': 303, 'absolut': 304, 'women': 305, 'lack': 306, 'word': 307, 'writer': 308, 'titl': 309, 'talent': 310, 'decid': 311, 'full': 312, 'perfect': 313, 'along': 314, 'style': 315, 'close': 316, 'truli': 317, 'school': 318, 'save': 319, 'emot': 320, 'age': 321, 'sex': 322, 'next': 323, 'bring': 324, 'mr': 325, 'case': 326, 'killer': 327, 'heart': 328, 'comment': 329, 'sort': 330, 'creat': 331, 'perhap': 332, 'came': 333, 'brother': 334, 'sever': 335, 'joke': 336, 'art': 337, 'dialogu': 338, 'game': 339, 'small': 340, 'base': 341, 'flick': 342, 'written': 343, 'sequenc': 344, 'meet': 345, 'earli': 346, 'often': 347, 'other': 348, 'mother': 349, 'develop': 350, 'humor': 351, 'actress': 352, 'consid': 353, 'dark': 354, 'guess': 355, 'amaz': 356, 'unfortun': 357, 'light': 358, 'lost': 359, 'exampl': 360, 'cinema': 361, 'drama': 362, 'ye': 363, 'white': 364, 'experi': 365, 'imagin': 366, 'mention': 367, 'stop': 368, 'natur': 369, 'forc': 370, 'manag': 371, 'felt': 372, 'cut': 373, 'present': 374, 'children': 375, 'fail': 376, 'son': 377, 'car': 378, 'support': 379, 'qualiti': 380, 'ask': 381, 'hit': 382, 'side': 383, 'voic': 384, 'extrem': 385, 'impress': 386, 'evil': 387, 'wors': 388, 'stand': 389, 'went': 390, 'certainli': 391, 'basic': 392, 'oh': 393, 'overal': 394, 'favorit': 395, 'horribl': 396, 'mysteri': 397, 'number': 398, 'type': 399, 'danc': 400, 'wait': 401, 'hero': 402, 'alreadi': 403, '5': 404, 'learn': 405, 'matter': 406, '4': 407, 'michael': 408, 'genr': 409, 'fine': 410, 'despit': 411, 'throughout': 412, 'walk': 413, 'success': 414, 'histori': 415, 'question': 416, 'zombi': 417, 'town': 418, 'realiz': 419, 'relationship': 420, 'child': 421, 'past': 422, 'daughter': 423, 'late': 424, 'b': 425, 'wish': 426, 'hate': 427, 'credit': 428, 'event': 429, 'theme': 430, 'touch': 431, 'citi': 432, 'today': 433, 'sometim': 434, 'behind': 435, 'god': 436, 'twist': 437, 'sit': 438, 'deal': 439, 'annoy': 440, 'stay': 441, 'abl': 442, 'rent': 443, 'pleas': 444, 'edit': 445, 'blood': 446, 'deserv': 447, 'comic': 448, 'anyway': 449, 'appar': 450, 'soon': 451, 'gave': 452, 'etc': 453, 'level': 454, 'slow': 455, 'chanc': 456, 'score': 457, 'bodi': 458, 'brilliant': 459, 'incred': 460, 'figur': 461, 'situat': 462, 'major': 463, 'self': 464, 'stuff': 465, 'decent': 466, 'element': 467, 'dream': 468, 'return': 469, 'obvious': 470, 'continu': 471, 'order': 472, 'pace': 473, 'ridicul': 474, 'happi': 475, 'add': 476, 'group': 477, 'highli': 478, 'thank': 479, 'ladi': 480, 'novel': 481, 'speak': 482, 'pain': 483, 'career': 484, 'shoot': 485, 'strang': 486, 'heard': 487, 'sad': 488, 'husband': 489, 'polic': 490, 'import': 491, 'break': 492, 'took': 493, 'strong': 494, 'cannot': 495, 'robert': 496, 'predict': 497, 'violenc': 498, 'hilari': 499, 'recent': 500, 'countri': 501, 'known': 502, 'particularli': 503, 'pick': 504, 'documentari': 505, 'season': 506, 'critic': 507, 'jame': 508, 'compar': 509, 'obviou': 510, 'alon': 511, 'told': 512, 'state': 513, 'visual': 514, 'rock': 515, 'theater': 516, 'offer': 517, 'exist': 518, 'opinion': 519, 'gore': 520, 'crap': 521, 'hold': 522, 'result': 523, 'room': 524, 'hear': 525, 'realiti': 526, 'effort': 527, 'clich': 528, 'thriller': 529, 'caus': 530, 'explain': 531, 'sequel': 532, 'serious': 533, 'king': 534, 'local': 535, 'ago': 536, 'none': 537, 'hell': 538, 'note': 539, 'allow': 540, 'sister': 541, 'david': 542, 'simpl': 543, 'femal': 544, 'deliv': 545, 'ok': 546, 'convinc': 547, 'class': 548, 'check': 549, 'suspens': 550, 'win': 551, 'oscar': 552, 'buy': 553, 'huge': 554, 'valu': 555, 'sexual': 556, 'cool': 557, 'scari': 558, 'similar': 559, 'excit': 560, 'provid': 561, 'exactli': 562, 'apart': 563, 'avoid': 564, 'shown': 565, 'seriou': 566, 'english': 567, 'taken': 568, 'whose': 569, 'cinematographi': 570, 'shock': 571, 'polit': 572, 'spoiler': 573, 'offic': 574, 'across': 575, 'middl': 576, 'pass': 577, 'street': 578, 'messag': 579, 'charm': 580, 'silli': 581, 'somewhat': 582, 'modern': 583, 'filmmak': 584, 'confus': 585, 'form': 586, 'tale': 587, 'singl': 588, 'jack': 589, 'mostli': 590, 'carri': 591, 'attent': 592, 'william': 593, 'sing': 594, 'five': 595, 'subject': 596, 'prove': 597, 'richard': 598, 'team': 599, 'stage': 600, 'cop': 601, 'unlik': 602, 'georg': 603, 'monster': 604, 'televis': 605, 'earth': 606, 'cover': 607, 'villain': 608, 'pay': 609, 'marri': 610, 'toward': 611, 'build': 612, 'parent': 613, 'pull': 614, 'due': 615, 'fill': 616, 'respect': 617, 'dialog': 618, 'four': 619, 'remind': 620, 'futur': 621, 'typic': 622, 'weak': 623, '7': 624, 'cheap': 625, 'intellig': 626, 'british': 627, 'atmospher': 628, 'clearli': 629, '80': 630, 'paul': 631, 'dog': 632, 'non': 633, 'fast': 634, 'artist': 635, 'knew': 636, '8': 637, 'crime': 638, 'easili': 639, 'escap': 640, 'adult': 641, 'doubt': 642, 'detail': 643, 'date': 644, 'romant': 645, 'fire': 646, 'member': 647, 'gun': 648, 'drive': 649, 'straight': 650, 'beyond': 651, 'fit': 652, 'attack': 653, 'imag': 654, 'upon': 655, 'posit': 656, 'whether': 657, 'peter': 658, 'fantast': 659, 'captur': 660, 'appreci': 661, 'aspect': 662, 'ten': 663, 'plan': 664, 'discov': 665, 'remain': 666, 'near': 667, 'period': 668, 'air': 669, 'realist': 670, 'mark': 671, 'red': 672, 'dull': 673, 'adapt': 674, 'within': 675, 'lose': 676, 'spend': 677, 'materi': 678, 'color': 679, 'chase': 680, 'mari': 681, 'storylin': 682, 'forget': 683, 'bunch': 684, 'clear': 685, 'lee': 686, 'victim': 687, 'nearli': 688, 'box': 689, 'york': 690, 'inspir': 691, 'match': 692, 'mess': 693, 'finish': 694, 'standard': 695, 'easi': 696, 'truth': 697, 'suffer': 698, 'busi': 699, 'space': 700, 'bill': 701, 'dramat': 702, 'western': 703, 'e': 704, 'list': 705, 'battl': 706, 'notic': 707, 'de': 708, 'french': 709, 'ad': 710, '9': 711, 'tom': 712, 'larg': 713, 'among': 714, 'eventu': 715, 'accept': 716, 'train': 717, 'agre': 718, 'spirit': 719, 'soundtrack': 720, 'third': 721, 'teenag': 722, 'adventur': 723, 'soldier': 724, 'sorri': 725, 'famou': 726, 'suggest': 727, 'drug': 728, 'cri': 729, 'normal': 730, 'babi': 731, 'troubl': 732, 'ultim': 733, 'contain': 734, 'certain': 735, 'cultur': 736, 'romanc': 737, 'rare': 738, 'lame': 739, 'somehow': 740, 'mix': 741, 'disney': 742, 'gone': 743, 'cartoon': 744, 'student': 745, 'fear': 746, 'reveal': 747, 'suck': 748, 'kept': 749, 'attract': 750, 'appeal': 751, 'premis': 752, 'greatest': 753, 'secret': 754, 'design': 755, 'shame': 756, 'throw': 757, 'scare': 758, 'copi': 759, 'wit': 760, 'america': 761, 'admit': 762, 'brought': 763, 'relat': 764, 'particular': 765, 'screenplay': 766, 'whatev': 767, 'pure': 768, '70': 769, 'averag': 770, 'harri': 771, 'master': 772, 'describ': 773, 'male': 774, 'treat': 775, '20': 776, 'fantasi': 777, 'issu': 778, 'warn': 779, 'inde': 780, 'forward': 781, 'background': 782, 'project': 783, 'free': 784, 'japanes': 785, 'memor': 786, 'poorli': 787, 'award': 788, 'locat': 789, 'potenti': 790, 'amus': 791, 'struggl': 792, 'magic': 793, 'weird': 794, 'societi': 795, 'okay': 796, 'imdb': 797, 'doctor': 798, 'accent': 799, 'hot': 800, 'water': 801, 'dr': 802, 'alien': 803, 'express': 804, '30': 805, 'odd': 806, 'crazi': 807, 'choic': 808, 'studio': 809, 'fiction': 810, 'becam': 811, 'control': 812, 'masterpiec': 813, 'fli': 814, 'difficult': 815, 'joe': 816, 'scream': 817, 'costum': 818, 'lover': 819, 'refer': 820, 'uniqu': 821, 'remak': 822, 'girlfriend': 823, 'vampir': 824, 'prison': 825, 'execut': 826, 'wear': 827, 'jump': 828, 'unless': 829, 'wood': 830, 'creepi': 831, 'cheesi': 832, 'superb': 833, 'otherwis': 834, 'parti': 835, 'roll': 836, 'ghost': 837, 'public': 838, 'mad': 839, 'depict': 840, 'earlier': 841, 'badli': 842, 'week': 843, 'moral': 844, 'jane': 845, 'fi': 846, 'dumb': 847, 'flaw': 848, 'grow': 849, 'sci': 850, 'deep': 851, 'cat': 852, 'maker': 853, 'connect': 854, 'older': 855, 'footag': 856, 'bother': 857, 'plenti': 858, 'outsid': 859, 'stick': 860, 'gay': 861, 'catch': 862, 'plu': 863, 'co': 864, 'popular': 865, 'equal': 866, 'social': 867, 'quickli': 868, 'disturb': 869, 'perfectli': 870, 'dress': 871, '90': 872, 'era': 873, 'mistak': 874, 'lie': 875, 'previou': 876, 'ride': 877, 'combin': 878, 'concept': 879, 'band': 880, 'rich': 881, 'answer': 882, 'surviv': 883, 'front': 884, 'sweet': 885, 'christma': 886, 'insid': 887, 'concern': 888, 'eat': 889, 'bare': 890, 'beat': 891, 'listen': 892, 'ben': 893, 'c': 894, 'serv': 895, 'term': 896, 'german': 897, 'la': 898, 'meant': 899, 'stereotyp': 900, 'hardli': 901, 'innoc': 902, 'law': 903, 'desper': 904, 'memori': 905, 'promis': 906, 'intent': 907, 'cute': 908, 'steal': 909, 'variou': 910, 'inform': 911, 'brain': 912, 'post': 913, 'tone': 914, 'island': 915, 'amount': 916, 'track': 917, 'compani': 918, 'nuditi': 919, 'store': 920, 'claim': 921, 'flat': 922, '50': 923, 'hair': 924, 'land': 925, 'univers': 926, 'kick': 927, 'danger': 928, 'scott': 929, 'fairli': 930, 'player': 931, 'crew': 932, 'step': 933, 'plain': 934, 'toni': 935, 'share': 936, 'tast': 937, 'centuri': 938, 'engag': 939, 'achiev': 940, 'travel': 941, 'cold': 942, 'suit': 943, 'record': 944, 'rip': 945, 'sadli': 946, 'manner': 947, 'spot': 948, 'wrote': 949, 'tension': 950, 'intens': 951, 'fascin': 952, 'familiar': 953, 'remark': 954, 'burn': 955, 'depth': 956, 'destroy': 957, 'histor': 958, 'sleep': 959, 'purpos': 960, 'languag': 961, 'ruin': 962, 'ignor': 963, 'delight': 964, 'unbeliev': 965, 'italian': 966, 'soul': 967, 'collect': 968, 'abil': 969, 'detect': 970, 'clever': 971, 'violent': 972, 'rape': 973, 'reach': 974, 'door': 975, 'liter': 976, 'scienc': 977, 'trash': 978, 'commun': 979, 'caught': 980, 'reveng': 981, 'creatur': 982, 'trip': 983, 'approach': 984, 'fashion': 985, 'intrigu': 986, 'skill': 987, 'introduc': 988, 'paint': 989, 'complex': 990, 'channel': 991, 'camp': 992, 'christian': 993, 'hole': 994, 'extra': 995, 'immedi': 996, 'limit': 997, 'mental': 998, 'ann': 999, 'million': 1000, 'slightli': 1001, 'mere': 1002, 'comput': 1003, '6': 1004, 'conclus': 1005, 'slasher': 1006, 'suddenli': 1007, 'imposs': 1008, 'teen': 1009, 'neither': 1010, 'crimin': 1011, 'spent': 1012, 'physic': 1013, 'nation': 1014, 'respons': 1015, 'planet': 1016, 'receiv': 1017, 'fake': 1018, 'sick': 1019, 'blue': 1020, 'bizarr': 1021, 'embarrass': 1022, 'indian': 1023, '15': 1024, 'ring': 1025, 'drop': 1026, 'pop': 1027, 'drag': 1028, 'haunt': 1029, 'suspect': 1030, 'pointless': 1031, 'edg': 1032, 'search': 1033, 'handl': 1034, 'biggest': 1035, 'common': 1036, 'hurt': 1037, 'faith': 1038, 'arriv': 1039, 'technic': 1040, 'angel': 1041, 'dad': 1042, 'genuin': 1043, 'f': 1044, 'awesom': 1045, 'solid': 1046, 'focu': 1047, 'former': 1048, 'van': 1049, 'colleg': 1050, 'count': 1051, 'tear': 1052, 'heavi': 1053, 'rais': 1054, 'wall': 1055, 'visit': 1056, 'laughabl': 1057, 'younger': 1058, 'sign': 1059, 'fair': 1060, 'excus': 1061, 'cult': 1062, 'motion': 1063, 'tough': 1064, 'key': 1065, 'super': 1066, 'desir': 1067, 'addit': 1068, 'stun': 1069, 'cloth': 1070, 'exploit': 1071, 'tortur': 1072, 'smith': 1073, 'race': 1074, 'davi': 1075, 'author': 1076, 'cross': 1077, 'jim': 1078, 'minor': 1079, 'compel': 1080, 'consist': 1081, 'focus': 1082, 'pathet': 1083, 'chemistri': 1084, 'commit': 1085, 'park': 1086, 'tradit': 1087, 'obsess': 1088, 'frank': 1089, 'grade': 1090, 'asid': 1091, '60': 1092, 'brutal': 1093, 'somewher': 1094, 'steve': 1095, 'rule': 1096, 'depress': 1097, 'u': 1098, 'explor': 1099, 'opportun': 1100, 'grant': 1101, 'honest': 1102, 'besid': 1103, 'dub': 1104, 'anti': 1105, 'trailer': 1106, 'intend': 1107, 'bar': 1108, 'regard': 1109, 'west': 1110, 'longer': 1111, 'scientist': 1112, 'judg': 1113, 'decad': 1114, 'silent': 1115, 'creativ': 1116, 'armi': 1117, 'wild': 1118, 'g': 1119, 'stewart': 1120, 'south': 1121, 'draw': 1122, 'road': 1123, 'govern': 1124, 'ex': 1125, 'boss': 1126, 'practic': 1127, 'festiv': 1128, 'surprisingli': 1129, 'motiv': 1130, 'gang': 1131, 'club': 1132, 'page': 1133, 'green': 1134, 'redeem': 1135, 'london': 1136, 'militari': 1137, 'display': 1138, 'idiot': 1139, 'machin': 1140, 'aliv': 1141, 'repeat': 1142, 'thrill': 1143, 'yeah': 1144, '100': 1145, 'folk': 1146, 'nobodi': 1147, '40': 1148, 'journey': 1149, 'garbag': 1150, 'smile': 1151, 'tire': 1152, 'ground': 1153, 'bought': 1154, 'mood': 1155, 'sam': 1156, 'stone': 1157, 'cost': 1158, 'mouth': 1159, 'noir': 1160, 'agent': 1161, 'terrif': 1162, 'utterli': 1163, 'requir': 1164, 'area': 1165, 'sexi': 1166, 'honestli': 1167, 'geniu': 1168, 'report': 1169, 'enter': 1170, 'humour': 1171, 'investig': 1172, 'glad': 1173, 'serial': 1174, 'passion': 1175, 'narr': 1176, 'occasion': 1177, 'marriag': 1178, 'climax': 1179, 'industri': 1180, 'studi': 1181, 'center': 1182, 'ship': 1183, 'nowher': 1184, 'demon': 1185, 'charli': 1186, 'bear': 1187, 'loos': 1188, 'hors': 1189, 'wow': 1190, 'hang': 1191, 'graphic': 1192, 'giant': 1193, 'admir': 1194, 'send': 1195, 'loud': 1196, 'damn': 1197, 'rel': 1198, 'profession': 1199, 'subtl': 1200, 'nake': 1201, 'blow': 1202, 'bottom': 1203, 'batman': 1204, 'insult': 1205, 'boyfriend': 1206, 'r': 1207, 'doubl': 1208, 'kelli': 1209, 'initi': 1210, 'frame': 1211, 'opera': 1212, 'gem': 1213, 'affect': 1214, 'drawn': 1215, 'cinemat': 1216, 'church': 1217, 'challeng': 1218, 'fulli': 1219, 'j': 1220, 'evid': 1221, 'seek': 1222, 'l': 1223, 'nightmar': 1224, 'arm': 1225, 'conflict': 1226, 'essenti': 1227, 'grace': 1228, 'christoph': 1229, 'wind': 1230, 'henri': 1231, 'witch': 1232, 'narrat': 1233, 'assum': 1234, 'push': 1235, 'hunt': 1236, 'wise': 1237, 'chri': 1238, 'repres': 1239, 'nomin': 1240, 'month': 1241, 'sceneri': 1242, 'hide': 1243, 'affair': 1244, 'avail': 1245, 'smart': 1246, 'thu': 1247, 'justic': 1248, 'bond': 1249, 'outstand': 1250, 'flashback': 1251, 'interview': 1252, 'satisfi': 1253, 'presenc': 1254, 'constantli': 1255, 'central': 1256, 'bed': 1257, 'content': 1258, 'iron': 1259, 'sell': 1260, 'gag': 1261, 'everybodi': 1262, 'slowli': 1263, 'hotel': 1264, 'hire': 1265, 'system': 1266, 'hey': 1267, 'charl': 1268, 'adam': 1269, 'thrown': 1270, 'individu': 1271, 'jone': 1272, 'mediocr': 1273, 'allen': 1274, 'ray': 1275, 'billi': 1276, 'lesson': 1277, 'photographi': 1278, 'cameo': 1279, 'fellow': 1280, 'pari': 1281, 'strike': 1282, 'brief': 1283, 'independ': 1284, 'absurd': 1285, 'rise': 1286, 'neg': 1287, 'phone': 1288, 'impact': 1289, 'ill': 1290, 'model': 1291, 'born': 1292, 'fresh': 1293, 'spoil': 1294, 'angl': 1295, 'likabl': 1296, 'abus': 1297, 'discuss': 1298, 'hill': 1299, 'ahead': 1300, 'sight': 1301, 'photograph': 1302, 'sent': 1303, 'occur': 1304, 'blame': 1305, 'logic': 1306, 'shine': 1307, 'mainli': 1308, 'bruce': 1309, 'forev': 1310, 'skip': 1311, 'commerci': 1312, 'teacher': 1313, 'held': 1314, 'surround': 1315, 'segment': 1316, 'blond': 1317, 'zero': 1318, 'satir': 1319, 'resembl': 1320, 'trap': 1321, 'summer': 1322, 'six': 1323, 'ball': 1324, 'queen': 1325, 'fool': 1326, 'sub': 1327, 'twice': 1328, 'tragedi': 1329, 'pack': 1330, 'reaction': 1331, 'bomb': 1332, 'will': 1333, 'hospit': 1334, 'protagonist': 1335, 'mile': 1336, 'sport': 1337, 'mom': 1338, 'trust': 1339, 'drink': 1340, 'jerri': 1341, 'vote': 1342, 'encount': 1343, 'plane': 1344, 'station': 1345, 'program': 1346, 'al': 1347, 'current': 1348, 'celebr': 1349, 'martin': 1350, 'choos': 1351, 'join': 1352, 'lord': 1353, 'favourit': 1354, 'round': 1355, 'field': 1356, 'tragic': 1357, 'vision': 1358, 'robot': 1359, 'jean': 1360, 'arthur': 1361, 'tie': 1362, 'fortun': 1363, 'random': 1364, 'roger': 1365, 'psycholog': 1366, 'intern': 1367, 'dread': 1368, 'prefer': 1369, 'improv': 1370, 'epic': 1371, 'nonsens': 1372, 'highlight': 1373, 'formula': 1374, 'pleasur': 1375, 'legend': 1376, 'dollar': 1377, '11': 1378, 'tape': 1379, 'porn': 1380, 'wide': 1381, 'fox': 1382, 'thin': 1383, 'object': 1384, 'gorgeou': 1385, 'buddi': 1386, 'ugli': 1387, 'influenc': 1388, 'prepar': 1389, 'ii': 1390, 'nasti': 1391, 'warm': 1392, 'progress': 1393, 'supposedli': 1394, 'reflect': 1395, 'worthi': 1396, 'youth': 1397, 'length': 1398, 'latter': 1399, 'unusu': 1400, 'crash': 1401, 'shop': 1402, 'seven': 1403, 'childhood': 1404, 'superior': 1405, 'theatr': 1406, 'remot': 1407, 'paid': 1408, 'pilot': 1409, 'funniest': 1410, 'disgust': 1411, 'trick': 1412, 'fell': 1413, 'convers': 1414, 'castl': 1415, 'establish': 1416, 'gangster': 1417, 'rob': 1418, 'disast': 1419, 'disappear': 1420, 'heaven': 1421, 'suicid': 1422, 'mine': 1423, 'ident': 1424, 'decis': 1425, 'tend': 1426, 'heroin': 1427, 'singer': 1428, 'forgotten': 1429, 'mask': 1430, 'brian': 1431, 'partner': 1432, 'alan': 1433, 'desert': 1434, 'recogn': 1435, 'stuck': 1436, 'thoroughli': 1437, 'sky': 1438, 'p': 1439, 'ms': 1440, 'replac': 1441, 'accur': 1442, 'market': 1443, 'eddi': 1444, 'clue': 1445, 'uncl': 1446, 'seemingli': 1447, 'danni': 1448, 'commentari': 1449, 'andi': 1450, 'jackson': 1451, 'devil': 1452, 'therefor': 1453, 'pair': 1454, 'that': 1455, 'refus': 1456, 'ed': 1457, 'accid': 1458, 'unit': 1459, 'fault': 1460, 'river': 1461, 'fate': 1462, 'tune': 1463, 'afraid': 1464, 'russian': 1465, 'stephen': 1466, 'hidden': 1467, 'clean': 1468, 'irrit': 1469, 'quick': 1470, 'test': 1471, 'captain': 1472, 'readi': 1473, 'convey': 1474, 'instanc': 1475, 'european': 1476, 'insan': 1477, 'daniel': 1478, 'frustrat': 1479, 'food': 1480, 'rescu': 1481, 'wed': 1482, '1950': 1483, 'chines': 1484, 'lock': 1485, 'angri': 1486, 'dirti': 1487, 'joy': 1488, 'price': 1489, 'steven': 1490, 'bland': 1491, 'cage': 1492, 'rang': 1493, 'anymor': 1494, 'wooden': 1495, 'rush': 1496, 'n': 1497, 'jason': 1498, 'news': 1499, '12': 1500, 'worri': 1501, 'twenti': 1502, 'led': 1503, 'board': 1504, 'martial': 1505, 'hunter': 1506, 'transform': 1507, 'symbol': 1508, 'cgi': 1509, 'piti': 1510, 'johnni': 1511, 'invent': 1512, 'x': 1513, 'sentiment': 1514, 'onto': 1515, 'process': 1516, 'attitud': 1517, 'explan': 1518, 'owner': 1519, 'awar': 1520, 'aim': 1521, 'floor': 1522, 'favor': 1523, 'necessari': 1524, 'target': 1525, 'energi': 1526, 'religi': 1527, 'opposit': 1528, 'blind': 1529, 'window': 1530, 'chick': 1531, 'insight': 1532, 'movement': 1533, 'mountain': 1534, 'research': 1535, 'deepli': 1536, 'comparison': 1537, 'possess': 1538, 'comed': 1539, 'grand': 1540, 'whatsoev': 1541, 'rain': 1542, 'shadow': 1543, 'began': 1544, 'bank': 1545, 'mid': 1546, 'princ': 1547, 'parodi': 1548, 'weapon': 1549, 'credibl': 1550, 'friendship': 1551, 'taylor': 1552, 'pre': 1553, 'teach': 1554, 'dougla': 1555, 'flesh': 1556, 'terror': 1557, 'protect': 1558, 'hint': 1559, 'bloodi': 1560, 'marvel': 1561, 'accord': 1562, 'superman': 1563, 'drunk': 1564, 'leader': 1565, 'anybodi': 1566, 'load': 1567, 'watchabl': 1568, 'brown': 1569, 'freddi': 1570, 'tim': 1571, 'jeff': 1572, 'appropri': 1573, 'seat': 1574, 'hitler': 1575, 'charg': 1576, 'unknown': 1577, 'keaton': 1578, 'knock': 1579, 'villag': 1580, 'media': 1581, 'unnecessari': 1582, 'empti': 1583, 'enemi': 1584, 'england': 1585, 'utter': 1586, 'buck': 1587, 'wave': 1588, 'craft': 1589, 'strength': 1590, 'dare': 1591, 'perspect': 1592, 'ford': 1593, 'kiss': 1594, 'contrast': 1595, 'correct': 1596, 'nativ': 1597, 'knowledg': 1598, 'distract': 1599, 'speed': 1600, 'anywher': 1601, 'soap': 1602, 'magnific': 1603, 'chill': 1604, 'nazi': 1605, 'mission': 1606, 'ice': 1607, 'breath': 1608, '1980': 1609, 'fred': 1610, 'moon': 1611, 'crowd': 1612, 'joan': 1613, 'jr': 1614, '000': 1615, 'soft': 1616, 'kate': 1617, 'frighten': 1618, 'dick': 1619, 'dan': 1620, 'nick': 1621, 'hundr': 1622, 'radio': 1623, 'dozen': 1624, 'somebodi': 1625, 'simon': 1626, 'andrew': 1627, 'loss': 1628, 'academi': 1629, 'thousand': 1630, 'shakespear': 1631, 'quot': 1632, 'vehicl': 1633, 'account': 1634, 'root': 1635, 'sum': 1636, 'leg': 1637, '1970': 1638, 'convent': 1639, 'behavior': 1640, 'gold': 1641, 'regular': 1642, 'pretenti': 1643, 'compet': 1644, 'worker': 1645, 'demand': 1646, 'stretch': 1647, 'privat': 1648, 'candi': 1649, 'lynch': 1650, 'explos': 1651, 'notabl': 1652, 'japan': 1653, 'interpret': 1654, 'debut': 1655, 'constant': 1656, 'tarzan': 1657, 'translat': 1658, 'revolv': 1659, 'sea': 1660, 'spi': 1661, 'prais': 1662, 'failur': 1663, 'franc': 1664, 'technolog': 1665, 'quiet': 1666, 'ass': 1667, 'sat': 1668, 'threaten': 1669, 'jesu': 1670, 'toy': 1671, 'punch': 1672, 'aid': 1673, 'kevin': 1674, 'higher': 1675, 'met': 1676, 'abandon': 1677, 'interact': 1678, 'vh': 1679, 'mike': 1680, 'confront': 1681, 'bet': 1682, 'command': 1683, 'separ': 1684, 'site': 1685, 'servic': 1686, 'belong': 1687, 'techniqu': 1688, 'recal': 1689, 'stunt': 1690, 'gotten': 1691, 'freak': 1692, 'foot': 1693, 'cabl': 1694, 'bug': 1695, 'capabl': 1696, 'bright': 1697, 'fu': 1698, 'jimmi': 1699, 'african': 1700, 'succeed': 1701, 'fat': 1702, 'clark': 1703, 'presid': 1704, 'boat': 1705, 'stock': 1706, 'spanish': 1707, 'structur': 1708, 'gene': 1709, 'kidnap': 1710, 'paper': 1711, 'factor': 1712, 'belief': 1713, 'whilst': 1714, 'educ': 1715, 'attend': 1716, 'bob': 1717, 'realis': 1718, 'witti': 1719, 'complic': 1720, 'tree': 1721, 'realism': 1722, 'assist': 1723, 'santa': 1724, 'finest': 1725, 'broken': 1726, 'up': 1727, 'determin': 1728, 'v': 1729, 'observ': 1730, 'depart': 1731, 'smoke': 1732, 'domin': 1733, 'oper': 1734, 'routin': 1735, 'hat': 1736, 'fame': 1737, 'rubbish': 1738, 'lewi': 1739, 'safe': 1740, 'hook': 1741, 'morgan': 1742, 'kinda': 1743, 'foreign': 1744, 'lone': 1745, 'advanc': 1746, 'rank': 1747, 'numer': 1748, 'rose': 1749, 'civil': 1750, 'shape': 1751, 'shallow': 1752, 'vs': 1753, 'washington': 1754, 'werewolf': 1755, 'gari': 1756, 'morn': 1757, 'accomplish': 1758, 'winner': 1759, 'ordinari': 1760, 'kong': 1761, 'peac': 1762, 'whenev': 1763, 'grab': 1764, 'virtual': 1765, 'h': 1766, 'offens': 1767, 'luck': 1768, 'complain': 1769, 'patient': 1770, 'contriv': 1771, 'bigger': 1772, 'activ': 1773, 'unfunni': 1774, 'welcom': 1775, 'con': 1776, 'trek': 1777, 'pretend': 1778, 'dimension': 1779, 'wake': 1780, 'lesbian': 1781, 'cain': 1782, 'flash': 1783, 'eric': 1784, 'dri': 1785, 'code': 1786, 'guard': 1787, 'albert': 1788, 'corrupt': 1789, 'statu': 1790, 'manipul': 1791, 'dancer': 1792, 'gain': 1793, 'awkward': 1794, 'sourc': 1795, 'signific': 1796, 'context': 1797, 'speech': 1798, 'corni': 1799, 'clip': 1800, '13': 1801, 'psycho': 1802, 'sean': 1803, 'anthoni': 1804, 'priest': 1805, 'w': 1806, 'theatric': 1807, 'curiou': 1808, 'religion': 1809, 'advic': 1810, 'reli': 1811, 'addict': 1812, 'flow': 1813, 'howard': 1814, 'skin': 1815, 'secur': 1816, 'specif': 1817, 'asian': 1818, 'jennif': 1819, 'promot': 1820, 'golden': 1821, 'comfort': 1822, 'organ': 1823, 'core': 1824, 'luke': 1825, 'lucki': 1826, 'cash': 1827, 'cheat': 1828, 'associ': 1829, 'lower': 1830, 'dislik': 1831, 'regret': 1832, 'degre': 1833, 'contribut': 1834, 'devic': 1835, 'frequent': 1836, 'spell': 1837, 'frankli': 1838, 'wing': 1839, 'balanc': 1840, 'print': 1841, 'sake': 1842, 'lake': 1843, 'forgiv': 1844, 'mass': 1845, 'thoma': 1846, 'betti': 1847, 'unexpect': 1848, 'gordon': 1849, 'crack': 1850, 'categori': 1851, 'invit': 1852, 'unfold': 1853, 'grown': 1854, 'amateur': 1855, 'construct': 1856, 'depend': 1857, 'intellectu': 1858, 'condit': 1859, 'walter': 1860, 'honor': 1861, 'anna': 1862, 'grew': 1863, 'matur': 1864, 'veteran': 1865, 'mirror': 1866, 'sudden': 1867, 'spectacular': 1868, 'sole': 1869, 'overli': 1870, 'experienc': 1871, 'meanwhil': 1872, 'grip': 1873, 'robin': 1874, 'card': 1875, 'liner': 1876, 'demonstr': 1877, 'gift': 1878, 'freedom': 1879, 'crappi': 1880, 'unabl': 1881, 'sheriff': 1882, 'oliv': 1883, 'brilliantli': 1884, 'section': 1885, 'circumst': 1886, 'subtitl': 1887, 'drew': 1888, 'colour': 1889, 'theori': 1890, 'path': 1891, 'cook': 1892, 'parker': 1893, 'sheer': 1894, 'laughter': 1895, 'altern': 1896, 'pile': 1897, 'matt': 1898, 'defin': 1899, 'lawyer': 1900, 'accident': 1901, 'wander': 1902, 'relief': 1903, 'hall': 1904, 'sinatra': 1905, 'treatment': 1906, 'hank': 1907, 'dragon': 1908, 'captiv': 1909, 'halloween': 1910, 'gratuit': 1911, 'moor': 1912, 'unintent': 1913, 'k': 1914, 'barbara': 1915, 'cowboy': 1916, 'kung': 1917, 'jacki': 1918, 'wayn': 1919, 'wound': 1920, 'broadway': 1921, 'spoof': 1922, 'statement': 1923, 'surreal': 1924, 'winter': 1925, 'canadian': 1926, 'fish': 1927, 'fare': 1928, 'cheer': 1929, 'gonna': 1930, 'treasur': 1931, 'compos': 1932, 'emerg': 1933, 'unrealist': 1934, 'victor': 1935, 'sensit': 1936, 'woodi': 1937, 'driven': 1938, 'neighbor': 1939, 'ran': 1940, 'sympathet': 1941, 'overlook': 1942, 'expos': 1943, 'glass': 1944, 'authent': 1945, 'menac': 1946, 'topic': 1947, 'gross': 1948, 'chief': 1949, 'ancient': 1950, 'handsom': 1951, 'michel': 1952, 'pleasant': 1953, 'stranger': 1954, 'network': 1955, 'russel': 1956, 'nevertheless': 1957, 'feet': 1958, 'contemporari': 1959, 'comedian': 1960, 'built': 1961, 'cinderella': 1962, 'letter': 1963, 'earn': 1964, 'consider': 1965, 'underr': 1966, 'blockbust': 1967, 'gori': 1968, 'miser': 1969, 'endless': 1970, 'brook': 1971, 'switch': 1972, 'solv': 1973, 'edward': 1974, 'victoria': 1975, 'convict': 1976, 'virgin': 1977, 'bullet': 1978, 'joseph': 1979, 'chosen': 1980, 'scenario': 1981, '0': 1982, 'cynic': 1983, 'scale': 1984, 'alex': 1985, 'curs': 1986, 'sword': 1987, 'gut': 1988, 'outrag': 1989, 'com': 1990, 'uk': 1991, 'screenwrit': 1992, 'juli': 1993, 'proper': 1994, 'driver': 1995, 'wrap': 1996, 'monkey': 1997, 'substanc': 1998, 'par': 1999, 'court': 2000, 'remov': 2001, 'indic': 2002, 'bird': 2003, 'advertis': 2004, 'rental': 2005, 'grave': 2006, 'roy': 2007, 'naiv': 2008, 'loser': 2009, 'inevit': 2010, 'consequ': 2011, 'nanci': 2012, 'bridg': 2013, 'brave': 2014, 'le': 2015, 'slap': 2016, 'fatal': 2017, 'germani': 2018, 'invis': 2019, 'provok': 2020, 'ador': 2021, 'loui': 2022, 'anger': 2023, 'footbal': 2024, 'alcohol': 2025, 'anderson': 2026, 'chan': 2027, 'willi': 2028, 'stumbl': 2029, 'ryan': 2030, 'professor': 2031, 'australian': 2032, 'assassin': 2033, 'sharp': 2034, 'patrick': 2035, '1930': 2036, 'bat': 2037, 'ape': 2038, 'saturday': 2039, 'eight': 2040, 'trilog': 2041, 'heck': 2042, 'liber': 2043, 'refresh': 2044, 'lousi': 2045, 'strongli': 2046, 'deni': 2047, 'cell': 2048, 'amateurish': 2049, 'sin': 2050, 'san': 2051, 'resid': 2052, 'justifi': 2053, 'vagu': 2054, 'creator': 2055, 'reput': 2056, 'defeat': 2057, 'terrifi': 2058, 'indi': 2059, 'sympathi': 2060, 'mini': 2061, 'endur': 2062, 'expert': 2063, 'task': 2064, 'tabl': 2065, 'prevent': 2066, 'tediou': 2067, 'offend': 2068, 'imit': 2069, 'rival': 2070, 'trial': 2071, 'che': 2072, 'employ': 2073, 'basebal': 2074, 'dig': 2075, 'europ': 2076, 'pitch': 2077, 'beach': 2078, 'complaint': 2079, 'max': 2080, 'fairi': 2081, 'weekend': 2082, 'risk': 2083, 'murphi': 2084, 'format': 2085, 'purchas': 2086, 'nois': 2087, 'reminisc': 2088, 'glimps': 2089, 'hype': 2090, 'bite': 2091, 'harsh': 2092, 'powel': 2093, 'tini': 2094, 'titan': 2095, 'strip': 2096, '14': 2097, 'till': 2098, 'prime': 2099, 'north': 2100, 'asleep': 2101, 'fals': 2102, 'texa': 2103, 'descript': 2104, 'destruct': 2105, 'revel': 2106, 'africa': 2107, 'spin': 2108, 'surfac': 2109, 'inner': 2110, 'excess': 2111, 'uninterest': 2112, 'semi': 2113, 'arrest': 2114, 'sitcom': 2115, 'controversi': 2116, 'massiv': 2117, 'twin': 2118, 'makeup': 2119, 'maintain': 2120, 'argu': 2121, 'hitchcock': 2122, 'dinosaur': 2123, 'ludicr': 2124, 'reject': 2125, 'stare': 2126, 'melodrama': 2127, 'expens': 2128, 'kim': 2129, 'ideal': 2130, 'insist': 2131, 'ga': 2132, 'ala': 2133, 'supernatur': 2134, 'host': 2135, 'subplot': 2136, 'nail': 2137, 'forest': 2138, 'erot': 2139, 'atroci': 2140, 'press': 2141, 'columbo': 2142, 'dude': 2143, 'identifi': 2144, 'notch': 2145, 'presum': 2146, 'cant': 2147, 'forgett': 2148, 'closer': 2149, 'crude': 2150, 'plagu': 2151, 'guest': 2152, 'method': 2153, 'character': 2154, 'landscap': 2155, 'ear': 2156, 'lion': 2157, 'beast': 2158, 'foster': 2159, 'border': 2160, 'princess': 2161, 'jungl': 2162, 'aunt': 2163, 'bound': 2164, 'previous': 2165, 'urban': 2166, 'damag': 2167, 'pacino': 2168, 'birth': 2169, 'storytel': 2170, 'accus': 2171, 'guid': 2172, 'chose': 2173, 'jess': 2174, 'thirti': 2175, 'nude': 2176, 'propaganda': 2177, 'doll': 2178, 'emma': 2179, 'pet': 2180, 'mainstream': 2181, '25': 2182, 'mate': 2183, 'whoever': 2184, 'warrior': 2185, 'exact': 2186, 'upset': 2187, 'size': 2188, 'deadli': 2189, 'gritti': 2190, 'friday': 2191, 'latest': 2192, 'poster': 2193, 'merit': 2194, 'cooper': 2195, 'popul': 2196, 'ton': 2197, 'contest': 2198, 'rough': 2199, 'wilson': 2200, 'warner': 2201, 'blend': 2202, 'citizen': 2203, 'buff': 2204, 'contact': 2205, 'settl': 2206, 'sun': 2207, '1990': 2208, 'corps': 2209, 'select': 2210, 'overcom': 2211, 'bu': 2212, 'pitt': 2213, 'metal': 2214, 'rat': 2215, 'alic': 2216, 'mgm': 2217, 'widow': 2218, 'environ': 2219, 'particip': 2220, 'lift': 2221, 'link': 2222, 'revolut': 2223, 'guilti': 2224, 'ted': 2225, 'moron': 2226, 'corpor': 2227, 'exagger': 2228, 'afternoon': 2229, 'accompani': 2230, 'matrix': 2231, 'johnson': 2232, 'corner': 2233, 'prostitut': 2234, '1960': 2235, 'sincer': 2236, 'instal': 2237, 'holm': 2238, 'doom': 2239, 'multipl': 2240, 'clair': 2241, 'hood': 2242, 'leagu': 2243, 'friendli': 2244, 'string': 2245, 'sunday': 2246, 'aka': 2247, 'advis': 2248, 'lugosi': 2249, 'hip': 2250, 'campi': 2251, 'junk': 2252, 'grim': 2253, 'defend': 2254, 'examin': 2255, 'irish': 2256, 'blah': 2257, 'confid': 2258, 'shut': 2259, 'pro': 2260, 'varieti': 2261, 'tight': 2262, 'shake': 2263, 'rachel': 2264, 'icon': 2265, 'goal': 2266, 'mexican': 2267, 'medic': 2268, 'attach': 2269, 'jaw': 2270, 'directli': 2271, 'sullivan': 2272, 'denni': 2273, 'courag': 2274, 'duke': 2275, 'truck': 2276, 'dean': 2277, 'legendari': 2278, 'terrorist': 2279, 'breast': 2280, 'vietnam': 2281, 'sarah': 2282, 'sentenc': 2283, 'prior': 2284, 'bourn': 2285, 'yell': 2286, 'split': 2287, 'proceed': 2288, 'donald': 2289, 'nose': 2290, 'behav': 2291, 'un': 2292, 'entri': 2293, 'hong': 2294, 'forth': 2295, 'swim': 2296, 'stolen': 2297, 'unconvinc': 2298, 'gather': 2299, 'concentr': 2300, 'borrow': 2301, 'buri': 2302, 'jerk': 2303, 'everywher': 2304, 'confess': 2305, 'lifetim': 2306, 'crush': 2307, 'julia': 2308, 'spite': 2309, 'california': 2310, 'pan': 2311, 'deliveri': 2312, 'turkey': 2313, 'lip': 2314, 'proud': 2315, 'quest': 2316, 'downright': 2317, 'hoffman': 2318, 'offici': 2319, 'freeman': 2320, 'flight': 2321, 'china': 2322, 'reward': 2323, 'fabul': 2324, 'sir': 2325, 'betray': 2326, 'jail': 2327, 'jon': 2328, 'notori': 2329, 'lazi': 2330, 'inept': 2331, 'sink': 2332, 'fade': 2333, 'worthwhil': 2334, 'encourag': 2335, 'bag': 2336, 'susan': 2337, 'teeth': 2338, 'cousin': 2339, 'survivor': 2340, 'lisa': 2341, 'relev': 2342, 'storm': 2343, 'shower': 2344, 'imageri': 2345, 'bell': 2346, 'retard': 2347, 'branagh': 2348, 'trade': 2349, 'finger': 2350, 'toler': 2351, 'shark': 2352, 'facial': 2353, 'mexico': 2354, 'quirki': 2355, 'bride': 2356, 'hugh': 2357, 'stab': 2358, 'tremend': 2359, 'summari': 2360, 'alright': 2361, 'hyster': 2362, 'pose': 2363, 'blown': 2364, 'ha': 2365, 'von': 2366, 'bitter': 2367, 'ned': 2368, 'scheme': 2369, 'afterward': 2370, 'larri': 2371, 'ron': 2372, 'address': 2373, 'bone': 2374, 'cruel': 2375, 'christ': 2376, 'feed': 2377, 'pursu': 2378, 'thumb': 2379, 'distinct': 2380, 'tour': 2381, 'snake': 2382, 'swear': 2383, 'traci': 2384, 'beg': 2385, 'screw': 2386, 'stomach': 2387, 'mechan': 2388, 'obscur': 2389, 'photo': 2390, 'chair': 2391, 'occas': 2392, 'raw': 2393, 'resist': 2394, 'sidney': 2395, 'heavili': 2396, 'southern': 2397, 'chain': 2398, 'render': 2399, 'cabin': 2400, 'hardi': 2401, 'gruesom': 2402, 'holiday': 2403, 'necessarili': 2404, 'argument': 2405, 'understood': 2406, 'philip': 2407, 'satan': 2408, 'india': 2409, 'racist': 2410, 'indulg': 2411, 'belov': 2412, 'midnight': 2413, 'integr': 2414, 'forgot': 2415, 'tongu': 2416, 'lay': 2417, 'obnoxi': 2418, 'fourth': 2419, 'stalk': 2420, 'pregnant': 2421, 'outfit': 2422, 'restor': 2423, 'garden': 2424, 'slapstick': 2425, 'inhabit': 2426, 'carol': 2427, 'ticket': 2428, '17': 2429, 'magazin': 2430, 'deeper': 2431, 'devot': 2432, 'incid': 2433, 'brad': 2434, 'shoe': 2435, 'lincoln': 2436, 'anticip': 2437, 'guarante': 2438, 'lili': 2439, 'divorc': 2440, 'underground': 2441, 'elizabeth': 2442, 'maria': 2443, 'sandler': 2444, 'disbelief': 2445, 'benefit': 2446, 'explod': 2447, 'amazingli': 2448, 'mildli': 2449, 'cring': 2450, 'capit': 2451, 'creation': 2452, 'bbc': 2453, 'princip': 2454, 'greater': 2455, 'slave': 2456, 'funnier': 2457, 'lesli': 2458, 'extraordinari': 2459, 'introduct': 2460, 'halfway': 2461, 'tap': 2462, 'enhanc': 2463, 'wreck': 2464, 'punish': 2465, 'transfer': 2466, 'text': 2467, 'extent': 2468, 'advantag': 2469, 'overwhelm': 2470, 'jessica': 2471, 'lane': 2472, 'plant': 2473, 'east': 2474, 'preview': 2475, 'deliber': 2476, 'lo': 2477, 'error': 2478, 'horrif': 2479, 'dynam': 2480, 'appli': 2481, 'vacat': 2482, 'miscast': 2483, 'vincent': 2484, 'miller': 2485, 'basi': 2486, 'sophist': 2487, 'ensu': 2488, '2000': 2489, 'homosexu': 2490, 'measur': 2491, 'mansion': 2492, 'uncomfort': 2493, 'sleazi': 2494, 'reed': 2495, 'via': 2496, 'spoken': 2497, 'steel': 2498, 'elev': 2499, 'extend': 2500, 'bollywood': 2501, 'daili': 2502, 'fix': 2503, 'breathtak': 2504, 'mous': 2505, 'assign': 2506, 'beer': 2507, 'alter': 2508, 'overact': 2509, 'melt': 2510, 'blair': 2511, 'conceiv': 2512, 'cathol': 2513, 'hippi': 2514, 'stanley': 2515, 'savag': 2516, 'dentist': 2517, 'goofi': 2518, 'inspector': 2519, 'sacrific': 2520, 'subsequ': 2521, 'succe': 2522, 'oppos': 2523, 'properli': 2524, 'everyday': 2525, 'burt': 2526, 'nowaday': 2527, 'carpent': 2528, 'block': 2529, 'neck': 2530, 'laura': 2531, 'circl': 2532, 'massacr': 2533, 'pool': 2534, 'access': 2535, 'seagal': 2536, 'grey': 2537, 'lesser': 2538, 'fallen': 2539, 'concert': 2540, 'portrait': 2541, 'christi': 2542, 'mob': 2543, 'fay': 2544, 'usa': 2545, 'sinist': 2546, 'chees': 2547, 'isol': 2548, 'competit': 2549, 'relax': 2550, 'jake': 2551, 'react': 2552, 'jewish': 2553, 'immens': 2554, 'creep': 2555, '2006': 2556, 'nonetheless': 2557, 'ironi': 2558, 'suitabl': 2559, 'nine': 2560, 'stink': 2561, 'spiritu': 2562, 'appal': 2563, 'lyric': 2564, 'chop': 2565, 'needless': 2566, 'shirt': 2567, 'rage': 2568, 'showcas': 2569, 'franchis': 2570, 'retir': 2571, 'spring': 2572, 'nut': 2573, 'adopt': 2574, 'luci': 2575, 'user': 2576, 'sold': 2577, 'reduc': 2578, 'navi': 2579, 'nurs': 2580, 'stanwyck': 2581, 'asham': 2582, 'per': 2583, 'zone': 2584, 'uninspir': 2585, 'bulli': 2586, 'jay': 2587, 'digit': 2588, 'bath': 2589, 'laid': 2590, 'broadcast': 2591, 'illustr': 2592, 'amongst': 2593, 'sutherland': 2594, '2001': 2595, 'oddli': 2596, 'upper': 2597, '1940': 2598, 'throat': 2599, 'stylish': 2600, 'baker': 2601, 'aspir': 2602, 'brando': 2603, 'disguis': 2604, 'fulfil': 2605, 'endear': 2606, 'em': 2607, 'nobl': 2608, 'thief': 2609, 'wwii': 2610, '18': 2611, 'neighborhood': 2612, 'pound': 2613, 'wanna': 2614, 'pride': 2615, 'impli': 2616, '16': 2617, 'shift': 2618, 'albeit': 2619, 'dawn': 2620, 'prop': 2621, 'coher': 2622, 'cinematograph': 2623, 'distribut': 2624, 'tens': 2625, 'shoulder': 2626, 'bo': 2627, 'dinner': 2628, 'bett': 2629, 'rochest': 2630, 'diseas': 2631, 'knife': 2632, 'wash': 2633, 'rebel': 2634, 'forti': 2635, 'shout': 2636, 'surf': 2637, 'snow': 2638, 'contract': 2639, 'poignant': 2640, 'matthau': 2641, 'function': 2642, 'silenc': 2643, 'henc': 2644, 'height': 2645, 'cancel': 2646, 'elvira': 2647, 'instinct': 2648, 'proof': 2649, 'chuck': 2650, 'internet': 2651, 'eeri': 2652, 'silver': 2653, 'heat': 2654, 'mindless': 2655, 'cannib': 2656, 'horrend': 2657, 'duti': 2658, 'reunion': 2659, 'derek': 2660, 'widmark': 2661, 'musician': 2662, 'elvi': 2663, 'premier': 2664, 'innov': 2665, 'greatli': 2666, 'neat': 2667, 'etern': 2668, 'repetit': 2669, 'torn': 2670, 'mill': 2671, 'alik': 2672, 'incoher': 2673, 'pie': 2674, 'glori': 2675, 'absorb': 2676, 'spielberg': 2677, 'wealthi': 2678, 'fbi': 2679, 'bang': 2680, 'blank': 2681, 'lovabl': 2682, 'britain': 2683, 'homag': 2684, 'infam': 2685, 'racism': 2686, 'precis': 2687, 'horrifi': 2688, 'nelson': 2689, 'trite': 2690, 'announc': 2691, 'redempt': 2692, 'burton': 2693, 'diamond': 2694, 'itali': 2695, 'crisi': 2696, 'resolut': 2697, 'ensembl': 2698, 'happili': 2699, 'wilder': 2700, 'parallel': 2701, 'pat': 2702, 'chaplin': 2703, 'dedic': 2704, 'flop': 2705, 'hammer': 2706, 'helen': 2707, 'streisand': 2708, 'factori': 2709, 'oil': 2710, 'carter': 2711, 'broke': 2712, 'mar': 2713, 'plastic': 2714, 'st': 2715, 'conclud': 2716, 'cube': 2717, 'disagre': 2718, 'triumph': 2719, 'climb': 2720, 'rocket': 2721, 'vega': 2722, 'march': 2723, 'fighter': 2724, 'row': 2725, 'own': 2726, 'bush': 2727, 'weight': 2728, 'chuckl': 2729, 'sensibl': 2730, 'kurt': 2731, 'enorm': 2732, 'unforgett': 2733, 'boot': 2734, 'spare': 2735, 'thug': 2736, 'dane': 2737, 'mst3k': 2738, 'luca': 2739, 'meaning': 2740, 'dump': 2741, 'lust': 2742, 'wherea': 2743, 'engin': 2744, 'threat': 2745, 'adequ': 2746, 'brand': 2747, 'rap': 2748, 'karloff': 2749, 'caricatur': 2750, 'bobbi': 2751, 'dear': 2752, 'stress': 2753, 'butt': 2754, 'fifti': 2755, 'arnold': 2756, 'difficulti': 2757, 'hamlet': 2758, 'arrog': 2759, 'journalist': 2760, 'ego': 2761, 'barri': 2762, 'secretari': 2763, 'polish': 2764, 'homeless': 2765, 'ralph': 2766, 'flynn': 2767, 'fest': 2768, 'swing': 2769, 'elabor': 2770, 'arrang': 2771, 'puppet': 2772, 'grate': 2773, 'induc': 2774, 'tool': 2775, 'unbear': 2776, 'float': 2777, 'conspiraci': 2778, 'simpson': 2779, 'fanci': 2780, 'resort': 2781, 'spike': 2782, 'basement': 2783, 'choreograph': 2784, 'pig': 2785, 'muppet': 2786, 'cruis': 2787, 'tribut': 2788, 'phillip': 2789, 'exercis': 2790, 'guilt': 2791, 'boll': 2792, 'toilet': 2793, 'slip': 2794, 'fianc': 2795, 'file': 2796, '24': 2797, 'puzzl': 2798, 'medium': 2799, 'ham': 2800, 'item': 2801, 'babe': 2802, 'stan': 2803, 'ward': 2804, 'editor': 2805, 'document': 2806, 'scarecrow': 2807, 'layer': 2808, 'korean': 2809, 'tower': 2810, 'larger': 2811, 'orient': 2812, 'territori': 2813, 'inexplic': 2814, 'portion': 2815, 'spark': 2816, 'librari': 2817, 'persona': 2818, 'superfici': 2819, 'assur': 2820, 'doc': 2821, 'minim': 2822, 'catherin': 2823, 'transit': 2824, 'denzel': 2825, 'slaughter': 2826, 'philosoph': 2827, 'glover': 2828, 'pg': 2829, 'jeremi': 2830, 'jet': 2831, 'dorothi': 2832, 'walken': 2833, 'sneak': 2834, 'ban': 2835, 'curti': 2836, 'owe': 2837, 'shi': 2838, 'boredom': 2839, 'financi': 2840, 'wolf': 2841, 'cusack': 2842, 'profound': 2843, 'hudson': 2844, 'metaphor': 2845, 'eleph': 2846, 'backdrop': 2847, 'multi': 2848, 'whale': 2849, 'ambigu': 2850, 'notion': 2851, 'union': 2852, '2005': 2853, 'gadget': 2854, 'implaus': 2855, 'stiff': 2856, 'hack': 2857, 'birthday': 2858, 'elsewher': 2859, 'viru': 2860, 'ultra': 2861, 'rave': 2862, 'reader': 2863, 'bibl': 2864, 'slight': 2865, 'deriv': 2866, 'superhero': 2867, 'urg': 2868, 'canada': 2869, 'lloyd': 2870, 'disc': 2871, 'eastwood': 2872, 'poison': 2873, '1st': 2874, 'squar': 2875, 'newspap': 2876, 'hawk': 2877, 'pad': 2878, 'afford': 2879, 'distanc': 2880, 'eva': 2881, 'skit': 2882, 'heston': 2883, 'sadist': 2884, 'charisma': 2885, 'cure': 2886, 'montag': 2887, 'health': 2888, 'essenc': 2889, 'huh': 2890, 'drown': 2891, 'button': 2892, 'spread': 2893, 'restaur': 2894, 'companion': 2895, 'peak': 2896, 'lab': 2897, 'muslim': 2898, 'maniac': 2899, 'scoobi': 2900, 'dealt': 2901, 'gradual': 2902, 'estat': 2903, 'invest': 2904, 'fetch': 2905, 'godfath': 2906, 'countless': 2907, 'servant': 2908, 'kane': 2909, 'ritter': 2910, 'gothic': 2911, 'alli': 2912, 'subtleti': 2913, 'cup': 2914, 'tea': 2915, 'miik': 2916, 'salli': 2917, 'briefli': 2918, 'iii': 2919, 'electr': 2920, 'elect': 2921, 'heroic': 2922, 'charismat': 2923, 'ingredi': 2924, 'toss': 2925, 'nuanc': 2926, 'bud': 2927, 'admittedli': 2928, 'tender': 2929, 'wannab': 2930, 'neil': 2931, 'grandmoth': 2932, 'cole': 2933, 'resourc': 2934, 'reel': 2935, 'pit': 2936, 'reev': 2937, 'label': 2938, 'shall': 2939, 'mild': 2940, 'mafia': 2941, 'carrey': 2942, 'stronger': 2943, 'kubrick': 2944, 'stood': 2945, 'punk': 2946, 'dawson': 2947, 'poverti': 2948, 'gate': 2949, 'pauli': 2950, 'easier': 2951, 'cox': 2952, 'outcom': 2953, 'smooth': 2954, 'fond': 2955, 'assault': 2956, 'terri': 2957, 'smash': 2958, 'useless': 2959, 'burst': 2960, 'ian': 2961, 'astair': 2962, 'updat': 2963, 'cardboard': 2964, 'tag': 2965, 'bakshi': 2966, 'melodramat': 2967, 'samurai': 2968, '2002': 2969, 'exchang': 2970, 'fist': 2971, 'rex': 2972, 'divers': 2973, 'increasingli': 2974, 'qualifi': 2975, 'vari': 2976, 'coincid': 2977, 'sketch': 2978, 'vulner': 2979, 'resolv': 2980, 'scratch': 2981, 'brillianc': 2982, 'blast': 2983, 'be': 2984, 'conveni': 2985, 'insert': 2986, 'suspend': 2987, 'tame': 2988, 'reynold': 2989, 'luckili': 2990, 'templ': 2991, 'walker': 2992, 'matthew': 2993, 'fisher': 2994, 'ambiti': 2995, 'seventi': 2996, 'farm': 2997, 'strictli': 2998, 'coach': 2999, 'hamilton': 3000, 'meat': 3001, 'jami': 3002, 'nuclear': 3003, 'pin': 3004, 'soprano': 3005, 'gotta': 3006, 'butcher': 3007, 'worthless': 3008, 'monk': 3009, 'recreat': 3010, 'eccentr': 3011, 'struck': 3012, 'timeless': 3013, 'kudo': 3014, 'grasp': 3015, 'empir': 3016, 'clock': 3017, 'instantli': 3018, 'cave': 3019, 'revers': 3020, 'closet': 3021, 'discoveri': 3022, 'convolut': 3023, 'ninja': 3024, 'joey': 3025, 'spooki': 3026, 'brosnan': 3027, 'communist': 3028, 'pal': 3029, 'sloppi': 3030, 'partli': 3031, 'fifteen': 3032, 'mitchel': 3033, 'selfish': 3034, 'sidekick': 3035, 'miracl': 3036, 'cliff': 3037, 'norman': 3038, 'eighti': 3039, 'seller': 3040, 'wipe': 3041, 'inconsist': 3042, 'declar': 3043, 'bleak': 3044, 'evok': 3045, 'clown': 3046, 'importantli': 3047, 'gray': 3048, 'ho': 3049, 'destin': 3050, 'farc': 3051, 'cheek': 3052, 'aforement': 3053, 'psychiatrist': 3054, 'australia': 3055, 'lifestyl': 3056, 'superbl': 3057, 'debat': 3058, 'enthusiast': 3059, 'seed': 3060, 'stoog': 3061, 'flawless': 3062, '45': 3063, 'chew': 3064, 'piano': 3065, 'websit': 3066, 'directori': 3067, 'soviet': 3068, 'abc': 3069, 'drivel': 3070, 'kitchen': 3071, 'dash': 3072, 'regardless': 3073, 'splatter': 3074, 'pressur': 3075, 'incompet': 3076, 'dire': 3077, 'wick': 3078, 'slice': 3079, 'wrestl': 3080, 'anni': 3081, 'emili': 3082, 'akshay': 3083, 'bash': 3084, 'increas': 3085, 'chapter': 3086, 'helicopt': 3087, 'curios': 3088, 'flower': 3089, 'prize': 3090, 'cameron': 3091, 'distant': 3092, 'doo': 3093, 'duo': 3094, 'boil': 3095, 'jar': 3096, 'seduc': 3097, 'beaten': 3098, 'suppli': 3099, 'pleasantli': 3100, 'blob': 3101, 'judi': 3102, 'ken': 3103, 'mann': 3104, 'cagney': 3105, 'lou': 3106, 'glow': 3107, 'dave': 3108, 'recov': 3109, 'cia': 3110, 'artifici': 3111, 'ellen': 3112, 'psychot': 3113, 'perri': 3114, 'glenn': 3115, 'francisco': 3116, 'hop': 3117, 'ranger': 3118, 'craven': 3119, 'splendid': 3120, 'goldberg': 3121, 'favour': 3122, 'craig': 3123, 'panic': 3124, 'combat': 3125, 'drunken': 3126, 'laurel': 3127, 'eleg': 3128, 'turner': 3129, 'web': 3130, 'falk': 3131, 'philosophi': 3132, 'wizard': 3133, 'gentl': 3134, 'modesti': 3135, 'hatr': 3136, 'fx': 3137, 'shortli': 3138, 'alexand': 3139, 'greek': 3140, 'ruth': 3141, 'min': 3142, 'rid': 3143, '20th': 3144, 'slightest': 3145, 'plausibl': 3146, 'graduat': 3147, 'flip': 3148, 'gandhi': 3149, 'we': 3150, 'unpleas': 3151, 'jealou': 3152, 'harm': 3153, 'holi': 3154, 'legal': 3155, 'manhattan': 3156, 'fund': 3157, 'lend': 3158, 'knight': 3159, 'futurist': 3160, 'tall': 3161, 'preciou': 3162, 'dracula': 3163, 'ocean': 3164, 'felix': 3165, 'scientif': 3166, 'tank': 3167, 'digniti': 3168, 'forbidden': 3169, 'childish': 3170, 'nod': 3171, 'mock': 3172, 'overdon': 3173, 'reviv': 3174, 'thread': 3175, 'explicit': 3176, 'bless': 3177, 'ami': 3178, 'giallo': 3179, 'repeatedli': 3180, 'mel': 3181, 'broad': 3182, 'torment': 3183, '2004': 3184, 'pirat': 3185, 'awaken': 3186, 'fever': 3187, 'verhoeven': 3188, 'thick': 3189, 'elderli': 3190, 'margaret': 3191, 'yesterday': 3192, 'unwatch': 3193, 'awe': 3194, '99': 3195, 'eve': 3196, 'nerv': 3197, 'automat': 3198, 'kay': 3199, 'bin': 3200, 'launch': 3201, 'eas': 3202, 'ambit': 3203, 'rivet': 3204, 'ah': 3205, 'acclaim': 3206, 'custom': 3207, 'griffith': 3208, 'royal': 3209, 'timothi': 3210, 'absenc': 3211, 'roman': 3212, 'publish': 3213, 'romero': 3214, 'stiller': 3215, 'politician': 3216, 'uniform': 3217, 'lean': 3218, 'pierc': 3219, 'sunshin': 3220, 'darker': 3221, 'crook': 3222, 'phrase': 3223, 'foul': 3224, 'bathroom': 3225, 'antic': 3226, 'tomato': 3227, 'pulp': 3228, 'purpl': 3229, 'stinker': 3230, 'homicid': 3231, 'termin': 3232, 'warren': 3233, 'wallac': 3234, 'transport': 3235, 'gabriel': 3236, 'marin': 3237, 'contrari': 3238, 'choreographi': 3239, 'horrid': 3240, 'awak': 3241, '2003': 3242, 'pray': 3243, 'brazil': 3244, 'ought': 3245, 'evolv': 3246, 'coloni': 3247, 'prom': 3248, 'juvenil': 3249, 'donna': 3250, 'saint': 3251, 'packag': 3252, 'viciou': 3253, 'rambo': 3254, 'karen': 3255, 'eyr': 3256, 'revolutionari': 3257, 'kenneth': 3258, 'album': 3259, 'sixti': 3260, 'q': 3261, 'li': 3262, 'hollow': 3263, 'overr': 3264, 'blade': 3265, 'twelv': 3266, 'boast': 3267, 'ireland': 3268, 'stole': 3269, 'option': 3270, 'conserv': 3271, 'defi': 3272, 'beatti': 3273, 'kapoor': 3274, 'nerd': 3275, 'mildr': 3276, 'candid': 3277, 'ramon': 3278, 'dose': 3279, 'mummi': 3280, 'flame': 3281, 'confirm': 3282, 'natali': 3283, 'trio': 3284, 'collabor': 3285, 'fulci': 3286, 'detract': 3287, 'protest': 3288, 'kirk': 3289, 'funer': 3290, 'astonish': 3291, 'jazz': 3292, 'global': 3293, 'altman': 3294, 'mystic': 3295, 'enterpris': 3296, 'shade': 3297, 'bull': 3298, 'spit': 3299, 'destini': 3300, 'delici': 3301, 'racial': 3302, 'yellow': 3303, 'nicholson': 3304, 'whip': 3305, 'leap': 3306, 'bottl': 3307, 'blake': 3308, 'tommi': 3309, 'audio': 3310, 'staff': 3311, 'adolesc': 3312, 'altogeth': 3313, 'visibl': 3314, 'inherit': 3315, 'pseudo': 3316, 'todd': 3317, 'threw': 3318, 'reunit': 3319, 'vivid': 3320, 'merci': 3321, 'popcorn': 3322, 'harder': 3323, 'swedish': 3324, 'meaningless': 3325, 'neo': 3326, 'fonda': 3327, 'enchant': 3328, 'bedroom': 3329, 'synopsi': 3330, 'bust': 3331, 'reserv': 3332, 'ruthless': 3333, 'fanat': 3334, 'atlanti': 3335, 'edi': 3336, 'await': 3337, 'respond': 3338, 'kennedi': 3339, 'suspici': 3340, 'tip': 3341, 'leonard': 3342, 'uneven': 3343, 'moodi': 3344, 'voight': 3345, 'madonna': 3346, 'wire': 3347, 'lawrenc': 3348, 'exhibit': 3349, 'jew': 3350, 'roommat': 3351, 'lemmon': 3352, 'decor': 3353, 'befriend': 3354, 'crocodil': 3355, 'dimens': 3356, 'ventur': 3357, 'bold': 3358, '2007': 3359, 'abysm': 3360, 'rural': 3361, 'incident': 3362, 'chao': 3363, 'clumsi': 3364, 'clint': 3365, 'carl': 3366, 'garner': 3367, 'centr': 3368, 'unsettl': 3369, 'bargain': 3370, 'palma': 3371, 'bradi': 3372, 'holli': 3373, 'voyag': 3374, 'audit': 3375, 'hart': 3376, 'daddi': 3377, 'wealth': 3378, 'tiger': 3379, 'characterist': 3380, 'humili': 3381, 'nearbi': 3382, 'immigr': 3383, 'mall': 3384, 'neglect': 3385, 'trail': 3386, 'versu': 3387, 'ant': 3388, 'echo': 3389, 'poetic': 3390, 'troop': 3391, 'elimin': 3392, '2nd': 3393, 'cari': 3394, 'lit': 3395, 'cuba': 3396, 'cd': 3397, 'imperson': 3398, 'timon': 3399, 'acknowledg': 3400, 'jeffrey': 3401, 'paus': 3402, 'mickey': 3403, 'prejudic': 3404, 'repuls': 3405, 'pun': 3406, 'marshal': 3407, 'solo': 3408, 'mistaken': 3409, 'celluloid': 3410, 'collaps': 3411, 'infect': 3412, 'domest': 3413, 'homer': 3414, 'saga': 3415, 'equip': 3416, 'sore': 3417, 'coat': 3418, 'promin': 3419, 'gear': 3420, 'chest': 3421, 'interrupt': 3422, 'coffe': 3423, 'hbo': 3424, 'cake': 3425, 'milk': 3426, 'harvey': 3427, 'undoubtedli': 3428, 'inappropri': 3429, 'apolog': 3430, 'ginger': 3431, 'leon': 3432, 'olivi': 3433, 'assembl': 3434, '1996': 3435, 'pant': 3436, 'inan': 3437, 'tribe': 3438, 'polanski': 3439, 'airplan': 3440, 'colonel': 3441, 'vulgar': 3442, 'exot': 3443, 'aveng': 3444, 'furthermor': 3445, 'humbl': 3446, 'institut': 3447, 'highest': 3448, 'retain': 3449, 'solut': 3450, 'pen': 3451, 'primari': 3452, 'instant': 3453, 'brooklyn': 3454, 'colleagu': 3455, 'maggi': 3456, 'pot': 3457, 'jenni': 3458, 'consum': 3459, 'trace': 3460, 'devast': 3461, 'embrac': 3462, 'florida': 3463, 'godzilla': 3464, 'dian': 3465, 'cope': 3466, 'gender': 3467, '3rd': 3468, 'principl': 3469, 'illog': 3470, 'strain': 3471, 'poke': 3472, 'linda': 3473, 'seduct': 3474, 'disabl': 3475, 'descend': 3476, 'ya': 3477, 'outer': 3478, 'bowl': 3479, 'wive': 3480, 'smaller': 3481, 'dutch': 3482, '1999': 3483, 'rick': 3484, 'sale': 3485, 'cue': 3486, 'dud': 3487, 'scope': 3488, 'predecessor': 3489, 'rabbit': 3490, 'primarili': 3491, 'hal': 3492, 'glamor': 3493, 'inferior': 3494, 'devoid': 3495, 'bubbl': 3496, 'blatant': 3497, 'vast': 3498, 'mixtur': 3499, 'beneath': 3500, 'dive': 3501, 'lol': 3502, 'yard': 3503, 'secondli': 3504, 'gloriou': 3505, 'gundam': 3506, 'museum': 3507, 'invas': 3508, 'arab': 3509, 'z': 3510, 'streep': 3511, 'alert': 3512, 'countrysid': 3513, 'breed': 3514, 'myer': 3515, 'et': 3516, 'simplist': 3517, 'casual': 3518, 'aggress': 3519, 'grinch': 3520, 'garbo': 3521, 'alfr': 3522, 'hideou': 3523, 'shelf': 3524, 'trademark': 3525, 'talki': 3526, 'disjoint': 3527, 'pearl': 3528, 'shirley': 3529, 'domino': 3530, 'april': 3531, 'senseless': 3532, 'hopeless': 3533, 'illeg': 3534, 'disgrac': 3535, 'applaud': 3536, 'robinson': 3537, 'oz': 3538, 'maci': 3539, 'defens': 3540, 'boom': 3541, 'sh': 3542, 'slide': 3543, 'stack': 3544, 'mail': 3545, 'rendit': 3546, 'hardcor': 3547, 'robberi': 3548, 'experiment': 3549, 'stellar': 3550, 'stir': 3551, 'acid': 3552, 'vanish': 3553, 'loyal': 3554, 'unhappi': 3555, 'uwe': 3556, 'khan': 3557, 'obtain': 3558, 'mayor': 3559, 'rifl': 3560, 'dismiss': 3561, 'emphasi': 3562, 'tenant': 3563, 'amanda': 3564, 'counter': 3565, 'declin': 3566, 'soccer': 3567, 'span': 3568, 'grandfath': 3569, 'fri': 3570, 'diana': 3571, 'topless': 3572, 'scroog': 3573, 'psychic': 3574, 'recruit': 3575, 'blew': 3576, 'spider': 3577, 'berlin': 3578, 'wont': 3579, 'tempt': 3580, 'craze': 3581, 'incomprehens': 3582, 'dicken': 3583, 'hartley': 3584, 'porno': 3585, 'ethnic': 3586, 'riot': 3587, 'intim': 3588, 'wet': 3589, 'ration': 3590, 'trashi': 3591, 'sympath': 3592, 'revolt': 3593, 'resurrect': 3594, 'sibl': 3595, 'justin': 3596, 'parad': 3597, 'lumet': 3598, 'shed': 3599, 'woo': 3600, 'shaw': 3601, 'niro': 3602, 'bitch': 3603, 'faster': 3604, 'goer': 3605, 'weakest': 3606, 'enlighten': 3607, 'gap': 3608, 'hesit': 3609, 'unreal': 3610, 'patriot': 3611, 'region': 3612, 'wheel': 3613, 'choru': 3614, 'dealer': 3615, 'lena': 3616, 'biographi': 3617, 'immort': 3618, 'rider': 3619, 'ensur': 3620, 'eager': 3621, 'steam': 3622, 'wendi': 3623, 'andr': 3624, 'slick': 3625, 'honesti': 3626, 'hopper': 3627, 'feminist': 3628, 'jonathan': 3629, 'mario': 3630, 'partial': 3631, 'worm': 3632, 'commend': 3633, 'nephew': 3634, 'ballet': 3635, 'farmer': 3636, '00': 3637, 'util': 3638, 'kingdom': 3639, 'vice': 3640, 'owen': 3641, 'wore': 3642, 'sandra': 3643, 'skull': 3644, 'psychopath': 3645, 'similarli': 3646, 'repress': 3647, 'prequel': 3648, 'mutant': 3649, 'snap': 3650, 'hung': 3651, 'confin': 3652, 'blunt': 3653, 'charlott': 3654, 'victori': 3655, 'properti': 3656, 'safeti': 3657, 'sappi': 3658, 'franco': 3659, 'leo': 3660, 'composit': 3661, 'morri': 3662, 'nostalg': 3663, 'macarthur': 3664, 'farrel': 3665, 'recycl': 3666, 'heartbreak': 3667, 'bumbl': 3668, 'acquir': 3669, 'nervou': 3670, 'thru': 3671, 'deed': 3672, 'valuabl': 3673, 'montana': 3674, 'hyde': 3675, 'miseri': 3676, 'whoopi': 3677, 'del': 3678, 'compass': 3679, 'bonu': 3680, 'drain': 3681, 'exit': 3682, 'tad': 3683, 'kyle': 3684, 'cg': 3685, 'dalton': 3686, 'latin': 3687, 'strand': 3688, 'rope': 3689, 'repli': 3690, 'despair': 3691, 'pattern': 3692, '1972': 3693, 'drum': 3694, 'rambl': 3695, 'compens': 3696, 'tail': 3697, 'bow': 3698, 'campbel': 3699, 'dust': 3700, 'rocki': 3701, 'bergman': 3702, 'speci': 3703, 'emperor': 3704, 'snl': 3705, 'orson': 3706, 'roth': 3707, '35': 3708, 'gimmick': 3709, 'bleed': 3710, 'mistress': 3711, 'martian': 3712, 'oppress': 3713, 'percept': 3714, 'downhil': 3715, 'carradin': 3716, 'rapist': 3717, 'gal': 3718, 'pour': 3719, 'romp': 3720, 'radic': 3721, 'tonight': 3722, 'wacki': 3723, 'olli': 3724, 'slug': 3725, 'rotten': 3726, 'chess': 3727, 'da': 3728, 'contempl': 3729, 'airport': 3730, 'heal': 3731, 'programm': 3732, 'edgar': 3733, 'arguabl': 3734, 'mislead': 3735, 'pursuit': 3736, 'tackl': 3737, '1983': 3738, 'dazzl': 3739, 'taught': 3740, 'banal': 3741, 'belt': 3742, 'paltrow': 3743, 'pervert': 3744, 'melodi': 3745, 'arc': 3746, 'champion': 3747, 'attorney': 3748, 'tooth': 3749, 'shelley': 3750, 'pervers': 3751, 'slash': 3752, 'stilt': 3753, 'unpredict': 3754, 'preach': 3755, 'graham': 3756, 'sensat': 3757, 'orang': 3758, 'duval': 3759, 'passeng': 3760, 'vengeanc': 3761, 'closest': 3762, 'franki': 3763, 'chicken': 3764, 'raymond': 3765, 'vocal': 3766, 'bela': 3767, 'mesmer': 3768, 'conneri': 3769, 'plight': 3770, 'uplift': 3771, 'employe': 3772, 'gambl': 3773, 'marti': 3774, 'cleverli': 3775, 'rubi': 3776, 'virginia': 3777, 'tiresom': 3778, 'maid': 3779, 'dixon': 3780, 'poem': 3781, 'convincingli': 3782, 'scottish': 3783, 'inject': 3784, 'suffic': 3785, 'secretli': 3786, 'clone': 3787, 'quarter': 3788, 'mute': 3789, 'engross': 3790, '1968': 3791, 'volum': 3792, 'crystal': 3793, 'sirk': 3794, 'profan': 3795, 'climact': 3796, 'numb': 3797, 'gerard': 3798, 'extens': 3799, 'habit': 3800, 'giggl': 3801, 'abraham': 3802, 'swallow': 3803, 'calm': 3804, 'yawn': 3805, 'paranoia': 3806, 'outing': 3807, 'bay': 3808, 'monologu': 3809, 'pokemon': 3810, 'whine': 3811, 'tube': 3812, 'iran': 3813, 'lundgren': 3814, 'amitabh': 3815, 'poetri': 3816, 'franci': 3817, 'trend': 3818, 'surpass': 3819, 'im': 3820, 'lowest': 3821, 'backward': 3822, 'linger': 3823, 'bend': 3824, 'profess': 3825, 'fed': 3826, 'taxi': 3827, 'grotesqu': 3828, 'spock': 3829, 'dispos': 3830, 'chicago': 3831, 'austen': 3832, 'meander': 3833, 'expand': 3834, 'junior': 3835, 'ethan': 3836, 'nichola': 3837, 'richardson': 3838, 'septemb': 3839, 'frankenstein': 3840, 'underst': 3841, 'abort': 3842, 'earl': 3843, 'plod': 3844, 'mundan': 3845, 'greedi': 3846, 'eugen': 3847, 'catchi': 3848, 'sue': 3849, 'nostalgia': 3850, 'tourist': 3851, 'instrument': 3852, 'waitress': 3853, 'myth': 3854, 'hum': 3855, 'rubber': 3856, 'cannon': 3857, 'stallon': 3858, 'literatur': 3859, 'descent': 3860, 'muddl': 3861, 'econom': 3862, 'dysfunct': 3863, 'rant': 3864, 'compliment': 3865, 'simplic': 3866, 'spoke': 3867, 'lure': 3868, 'household': 3869, 'der': 3870, 'omen': 3871, 'coast': 3872, 'phantom': 3873, 'louis': 3874, 'lang': 3875, 'recognit': 3876, 'eaten': 3877, 'sissi': 3878, 'alongsid': 3879, 'june': 3880, 'stale': 3881, 'hello': 3882, 'bacal': 3883, 'cent': 3884, 'occupi': 3885, 'mortal': 3886, 'crucial': 3887, 'map': 3888, 'furi': 3889, 'irrelev': 3890, 'recognis': 3891, 'damon': 3892, 'firstli': 3893, 'mankind': 3894, 'equival': 3895, 'duck': 3896, 'deaf': 3897, 'phoni': 3898, 'dictat': 3899, 'randi': 3900, 'dement': 3901, 'molli': 3902, 'insur': 3903, 'flee': 3904, 'carel': 3905, 'wisdom': 3906, 'freez': 3907, '1973': 3908, 'lengthi': 3909, 'damm': 3910, 'cyborg': 3911, 'onlin': 3912, 'labor': 3913, 'bump': 3914, 'bike': 3915, 'distinguish': 3916, 'likewis': 3917, 'twilight': 3918, 'heel': 3919, 'rude': 3920, 'newli': 3921, 'reign': 3922, 'ashley': 3923, 'biko': 3924, 'rooney': 3925, 'dreari': 3926, 'buffalo': 3927, 'loyalti': 3928, 'daisi': 3929, 'drake': 3930, 'blackmail': 3931, 'grayson': 3932, 'antwon': 3933, 'proce': 3934, 'worn': 3935, 'butler': 3936, 'chronicl': 3937, 'boxer': 3938, 'ridden': 3939, 'pink': 3940, 'prey': 3941, 'vein': 3942, 'approv': 3943, 'provoc': 3944, 'attribut': 3945, 'analysi': 3946, 'interior': 3947, 'barrymor': 3948, 'startl': 3949, 'inher': 3950, 'emphas': 3951, 'keith': 3952, 'tunnel': 3953, 'nineti': 3954, 'basketbal': 3955, 'incorpor': 3956, 'sailor': 3957, 'exposur': 3958, 'baddi': 3959, 'unorigin': 3960, 'fleet': 3961, 'meyer': 3962, 'julian': 3963, 'underli': 3964, 'mighti': 3965, 'improvis': 3966, 'nicol': 3967, 'condemn': 3968, 'millionair': 3969, 'predat': 3970, 'unrel': 3971, 'degrad': 3972, 'meg': 3973, 'robbin': 3974, 'drift': 3975, 'simmon': 3976, 'belushi': 3977, 'substitut': 3978, 'er': 3979, 'bunni': 3980, 'barrel': 3981, 'carla': 3982, 'stalker': 3983, 'indiffer': 3984, 'hypnot': 3985, 'othello': 3986, 'undeni': 3987, 'elm': 3988, 'walsh': 3989, 'mormon': 3990, 'vital': 3991, 'mtv': 3992, 'unawar': 3993, 'shove': 3994, 'alarm': 3995, 'greed': 3996, 'enthusiasm': 3997, 'edgi': 3998, 'warmth': 3999, 'alison': 4000, 'agenda': 4001, 'exquisit': 4002, 'marion': 4003, 'priceless': 4004, 'lampoon': 4005, 'disord': 4006, 'roof': 4007, 'firm': 4008, 'errol': 4009, 'watson': 4010, 'palac': 4011, 'nyc': 4012, 'dolph': 4013, 'reid': 4014, '3d': 4015, 'rukh': 4016, 'novak': 4017, 'hay': 4018, 'pamela': 4019, 'drip': 4020, 'thompson': 4021, 'simultan': 4022, 'gestur': 4023, 'peril': 4024, 'eastern': 4025, 'iraq': 4026, 'petti': 4027, 'nun': 4028, 'coup': 4029, 'israel': 4030, '1933': 4031, 'randomli': 4032, 'glanc': 4033, 'profit': 4034, 'unleash': 4035, 'distort': 4036, 'crown': 4037, 'peck': 4038, 'angela': 4039, 'cassidi': 4040, 'minimum': 4041, 'sergeant': 4042, 'ponder': 4043, '13th': 4044, 'showdown': 4045, 'what': 4046, 'session': 4047, 'testament': 4048, 'preserv': 4049, 'championship': 4050, 'valentin': 4051, 'spain': 4052, 'campaign': 4053, 'orlean': 4054, 'beatl': 4055, 'zizek': 4056, 'brenda': 4057, 'wig': 4058, 'crow': 4059, 'scotland': 4060, 'quinn': 4061, 'travesti': 4062, 'bro': 4063, 'stake': 4064, 'climat': 4065, 'exposit': 4066, 'empathi': 4067, 'buster': 4068, 'contradict': 4069, 'calib': 4070, 'jan': 4071, 'crawl': 4072, 'realm': 4073, 'cream': 4074, 'gentleman': 4075, 'cooki': 4076, 'mon': 4077, 'stroke': 4078, 'rout': 4079, 'reson': 4080, 'perpetu': 4081, 'regist': 4082, 'sabrina': 4083, 'kurosawa': 4084, 'shootout': 4085, 'fido': 4086, 'miyazaki': 4087, '1984': 4088, 'valley': 4089, 'unimagin': 4090, 'represent': 4091, 'han': 4092, 'din': 4093, 'restrain': 4094, 'sucker': 4095, 'shoddi': 4096, 'passabl': 4097, 'meryl': 4098, '1997': 4099, 'stargat': 4100, 'geek': 4101, 'businessman': 4102, 'mclaglen': 4103, 'demis': 4104, 'spacey': 4105, 'tacki': 4106, 'pretens': 4107, 'abomin': 4108, 'censor': 4109, 'sammi': 4110, 'baldwin': 4111, 'dana': 4112, 'painter': 4113, 'perceiv': 4114, 'monoton': 4115, 'wax': 4116, 'shaki': 4117, '1987': 4118, 'josh': 4119, 'derang': 4120, 'delic': 4121, 'traumat': 4122, 'compromis': 4123, 'absent': 4124, 'pole': 4125, 'unsatisfi': 4126, 'ross': 4127, 'femm': 4128, 'crawford': 4129, 'darren': 4130, 'ustinov': 4131, 'warrant': 4132, 'greg': 4133, 'cloud': 4134, 'distress': 4135, 'soderbergh': 4136, 'unseen': 4137, 'fuller': 4138, 'tarantino': 4139, 'expedit': 4140, 'unravel': 4141, 'fenc': 4142, 'tech': 4143, 'click': 4144, '1993': 4145, 'exclus': 4146, 'judgment': 4147, 'austin': 4148, 'norm': 4149, 'deniro': 4150, 'seal': 4151, 'nathan': 4152, 'correctli': 4153, 'verbal': 4154, 'fog': 4155, 'polici': 4156, 'deceas': 4157, 'clash': 4158, 'reluct': 4159, 'accuraci': 4160, 'wholli': 4161, 'kumar': 4162, 'dee': 4163, 'antonioni': 4164, 'jewel': 4165, 'furiou': 4166, 'valid': 4167, 'uncov': 4168, 'sid': 4169, 'anchor': 4170, 'primit': 4171, 'hallucin': 4172, 'dreck': 4173, 'sunni': 4174, 'bake': 4175, 'fart': 4176, 'temper': 4177, 'enforc': 4178, 'fought': 4179, '1971': 4180, '2008': 4181, 'patienc': 4182, 'darn': 4183, 'seldom': 4184, '3000': 4185, 'debt': 4186, 'fabric': 4187, 'roller': 4188, 'mode': 4189, '1995': 4190, 'conduct': 4191, 'malon': 4192, 'logan': 4193, 'alec': 4194, 'wretch': 4195, 'crippl': 4196, 'sustain': 4197, 'clerk': 4198, 'murray': 4199, 'vanc': 4200, 'trait': 4201, 'nicola': 4202, 'ritual': 4203, 'shanghai': 4204, 'slam': 4205, 'tax': 4206, 'pocket': 4207, 'unfair': 4208, 'joel': 4209, 'behold': 4210, 'wang': 4211, 'sand': 4212, 'sheet': 4213, 'despis': 4214, 'squad': 4215, 'penni': 4216, 'bias': 4217, 'grief': 4218, 'fundament': 4219, 'scriptwrit': 4220, 'shell': 4221, 'conscious': 4222, 'schedul': 4223, 'soup': 4224, 'preposter': 4225, 'stuart': 4226, 'phil': 4227, 'stark': 4228, 'pete': 4229, 'tactic': 4230, 'exhaust': 4231, 'sweep': 4232, 'robber': 4233, 'runner': 4234, 'clau': 4235, 'legaci': 4236, 'helpless': 4237, 'technicolor': 4238, 'divid': 4239, 'outlin': 4240, 'guitar': 4241, 'critiqu': 4242, 'rita': 4243, 'bridget': 4244, 'preston': 4245, 'canyon': 4246, 'isabel': 4247, 'jacket': 4248, 'sentinel': 4249, 'delv': 4250, 'liberti': 4251, 'invad': 4252, 'russia': 4253, 'downey': 4254, 'rehash': 4255, 'consciou': 4256, 'vomit': 4257, 'culmin': 4258, 'alley': 4259, 'restrict': 4260, 'sugar': 4261, 'drove': 4262, 'cigarett': 4263, 'jodi': 4264, 'bloom': 4265, 'passag': 4266, 'unexpectedli': 4267, 'implic': 4268, 'sniper': 4269, 'propos': 4270, 'connor': 4271, 'rear': 4272, 'flair': 4273, 'gregori': 4274, 'newman': 4275, 'lacklust': 4276, 'inabl': 4277, 'marc': 4278, 'kansa': 4279, 'palanc': 4280, 'agenc': 4281, 'alicia': 4282, 'boyl': 4283, 'awhil': 4284, 'arrow': 4285, '22': 4286, 'sharon': 4287, 'ladder': 4288, 'vet': 4289, 'mccoy': 4290, 'karl': 4291, 'delet': 4292, 'cap': 4293, 'asylum': 4294, 'foxx': 4295, 'improb': 4296, 'rod': 4297, 'rampag': 4298, 'chainsaw': 4299, '1936': 4300, 'tripe': 4301, 'wrench': 4302, 'kolchak': 4303, 'bacon': 4304, 'feat': 4305, 'rehears': 4306, 'pale': 4307, 'horn': 4308, 'aesthet': 4309, 'behaviour': 4310, 'lush': 4311, 'tendenc': 4312, 'yeti': 4313, 'financ': 4314, 'rumor': 4315, 'weav': 4316, 'aristocrat': 4317, 'filler': 4318, 'rhythm': 4319, '1988': 4320, 'el': 4321, '1920': 4322, 'coaster': 4323, 'elit': 4324, 'hungri': 4325, 'minu': 4326, 'visitor': 4327, 'prank': 4328, 'paradis': 4329, 'fright': 4330, 'conscienc': 4331, 'tomorrow': 4332, 'paramount': 4333, 'shortcom': 4334, 'suffici': 4335, 'hackney': 4336, 'underneath': 4337, '1978': 4338, 'lurk': 4339, 'basing': 4340, 'stream': 4341, 'wildli': 4342, '19th': 4343, 'suspicion': 4344, 'globe': 4345, 'spice': 4346, 'amazon': 4347, 'sung': 4348, 'loneli': 4349, 'newcom': 4350, 'thunderbird': 4351, 'wagner': 4352, 'hulk': 4353, 'scoop': 4354, 'tasteless': 4355, 'immers': 4356, 'recogniz': 4357, 'secondari': 4358, 'worship': 4359, 'dirt': 4360, 'lectur': 4361, 'straightforward': 4362, 'minist': 4363, '1989': 4364, 'quietli': 4365, 'curli': 4366, 'impos': 4367, 'posey': 4368, 'springer': 4369, 'rub': 4370, 'ingeni': 4371, '75': 4372, 'brit': 4373, 'beverli': 4374, 'abrupt': 4375, 'penn': 4376, 'heist': 4377, 'tierney': 4378, 'hopkin': 4379, 'couch': 4380, 'inmat': 4381, 'teas': 4382, '1939': 4383, 'atroc': 4384, 'leigh': 4385, 'grudg': 4386, 'en': 4387, 'chamberlain': 4388, 'iv': 4389, 'bread': 4390, 'cancer': 4391, 'literari': 4392, 'naughti': 4393, 'standout': 4394, 'ram': 4395, 'smell': 4396, 'counterpart': 4397, 'entranc': 4398, 'choppi': 4399, 'wwe': 4400, 'chavez': 4401, 'paxton': 4402, '1986': 4403, 'cattl': 4404, 'duel': 4405, 'misguid': 4406, 'yearn': 4407, 'entitl': 4408, 'morbid': 4409, 'nemesi': 4410, 'lindsay': 4411, 'sassi': 4412, 'convert': 4413, 'laurenc': 4414, 'missil': 4415, 'policeman': 4416, 'clan': 4417, 'ace': 4418, 'ratso': 4419, 'heartfelt': 4420, 'skeptic': 4421, 'moreov': 4422, 'transcend': 4423, 'geni': 4424, 'attenborough': 4425, 'enthral': 4426, 'sublim': 4427, 'variat': 4428, 'net': 4429, 'bernard': 4430, 'watcher': 4431, 'injuri': 4432, 'nolan': 4433, 'esther': 4434, 'quaid': 4435, 'rosemari': 4436, 'obstacl': 4437, 'unexplain': 4438, 'youngest': 4439, 'graini': 4440, 'tyler': 4441, 'poe': 4442, 'dont': 4443, '1979': 4444, 'kitti': 4445, 'egg': 4446, 'bean': 4447, 'kidman': 4448, 'moder': 4449, 'characteris': 4450, 'uncut': 4451, 'cruelti': 4452, 'artsi': 4453, 'mytholog': 4454, 'buzz': 4455, 'hopelessli': 4456, 'enabl': 4457, 'puppi': 4458, 'reliabl': 4459, 'setup': 4460, 'steadi': 4461, 'carlito': 4462, 'spiral': 4463, 'bye': 4464, 'facil': 4465, 'grin': 4466, 'out': 4467, 'brood': 4468, 'diari': 4469, 'hk': 4470, 'vader': 4471, 'weather': 4472, 'effici': 4473, 'bronson': 4474, 'hammi': 4475, 'spontan': 4476, 'niec': 4477, 'kline': 4478, 'heap': 4479, 'disastr': 4480, 'hain': 4481, 'patricia': 4482, 'narrow': 4483, 'christin': 4484, 'bewar': 4485, 'oblig': 4486, 'baffl': 4487, 'fuel': 4488, 'sweat': 4489, '1969': 4490, 'martha': 4491, 'bounc': 4492, 'decept': 4493, 'acquaint': 4494, 'clueless': 4495, 'brendan': 4496, 'underworld': 4497, 'athlet': 4498, 'gillian': 4499, 'preming': 4500, 'gina': 4501, 'exterior': 4502, 'despic': 4503, 'goof': 4504, 'enlist': 4505, 'viewpoint': 4506, 'loi': 4507, 'suprem': 4508, 'sleepwalk': 4509, 'harmless': 4510, 'circu': 4511, 'injur': 4512, 'angst': 4513, 'astound': 4514, 'virtu': 4515, 'tick': 4516, 'shatter': 4517, 'loath': 4518, 'scar': 4519, 'preachi': 4520, 'housewif': 4521, 'mermaid': 4522, 'fontain': 4523, 'trigger': 4524, 'headach': 4525, '73': 4526, 'rome': 4527, 'sooner': 4528, 'insipid': 4529, 'lester': 4530, 'hepburn': 4531, 'dandi': 4532, 'taboo': 4533, 'outlaw': 4534, 'uh': 4535, 'biker': 4536, 'analyz': 4537, 'candl': 4538, '19': 4539, 'mayhem': 4540, 'dilemma': 4541, 'renaiss': 4542, 'hokey': 4543, 'amor': 4544, 'glorifi': 4545, 'oldest': 4546, 'fluff': 4547, 'guin': 4548, 'hooker': 4549, 'cassavet': 4550, 'slimi': 4551, 'phenomenon': 4552, 'steer': 4553, 'idol': 4554, 'surgeri': 4555, 'zoom': 4556, 'redund': 4557, 'intric': 4558, 'stimul': 4559, 'bent': 4560, 'claustrophob': 4561, 'contempt': 4562, 'foolish': 4563, 'ariel': 4564, 'filth': 4565, 'dish': 4566, 'immatur': 4567, 'macho': 4568, 'dismal': 4569, 'gere': 4570, 'whore': 4571, 'overlong': 4572, 'boston': 4573, 'stair': 4574, 'ebert': 4575, 'salt': 4576, 'hostag': 4577, 'scorses': 4578, 'tripl': 4579, 'spade': 4580, 'camcord': 4581, 'corbett': 4582, 'sox': 4583, 'mount': 4584, 'mutual': 4585, 'cow': 4586, 'dwarf': 4587, 'corman': 4588, 'gasp': 4589, 'shred': 4590, '1976': 4591, 'nolt': 4592, 'fascist': 4593, 'harold': 4594, 'down': 4595, 'spinal': 4596, 'flag': 4597, 'cohen': 4598, 'messi': 4599, 'trivia': 4600, 'widescreen': 4601, 'frantic': 4602, 'obligatori': 4603, 'antagonist': 4604, 'naschi': 4605, 'perman': 4606, 'shield': 4607, 'keen': 4608, 'flashi': 4609, 'conquer': 4610, 'cush': 4611, 'strongest': 4612, 'margin': 4613, 'transplant': 4614, 'muscl': 4615, 'remad': 4616, 'spree': 4617, 'preced': 4618, '1981': 4619, 'astronaut': 4620, 'proport': 4621, 'gabl': 4622, 'beard': 4623, 'faint': 4624, 'assert': 4625, 'flirt': 4626, 'schlock': 4627, 'radiat': 4628, 'joker': 4629, 'rhyme': 4630, 'zane': 4631, 'alvin': 4632, 'inflict': 4633, 'off': 4634, 'departur': 4635, 'boob': 4636, 'strive': 4637, 'vaniti': 4638, 'claud': 4639, 'instruct': 4640, 'info': 4641, 'bachelor': 4642, 'resum': 4643, 'wield': 4644, 'barn': 4645, 'discern': 4646, '28': 4647, 'brush': 4648, 'mobil': 4649, '1945': 4650, 'interestingli': 4651, 'archiv': 4652, 'ritchi': 4653, 'someday': 4654, 'neurot': 4655, 'carey': 4656, 'persuad': 4657, 'sensual': 4658, 'fishburn': 4659, 'scandal': 4660, 'flock': 4661, 'repris': 4662, 'www': 4663, 'mol': 4664, 'aborigin': 4665, 'raj': 4666, 'triangl': 4667, 'divin': 4668, 'danish': 4669, 'deer': 4670, 'bitten': 4671, '95': 4672, 'hara': 4673, 'neill': 4674, 'cliffhang': 4675, 'earnest': 4676, 'jade': 4677, 'proclaim': 4678, 'pickford': 4679, 'ish': 4680, 'cycl': 4681, 'senior': 4682, 'dame': 4683, 'hapless': 4684, 'casino': 4685, 'axe': 4686, 'cb': 4687, 'recit': 4688, 'traffic': 4689, 'rot': 4690, 'hug': 4691, 'vibrant': 4692, 'dim': 4693, 'fragil': 4694, 'colin': 4695, 'dylan': 4696, 'timberlak': 4697, 'clad': 4698, 'anton': 4699, 'frontier': 4700, 'banter': 4701, 'luka': 4702, 'undermin': 4703, 'cher': 4704, 'prophet': 4705, 'mobster': 4706, 'pacif': 4707, 'harrison': 4708, 'biblic': 4709, 'submit': 4710, 'artwork': 4711, 'heartwarm': 4712, 'europa': 4713, 'carlo': 4714, 'kathryn': 4715, 'helm': 4716, 'wendigo': 4717, 'miracul': 4718, 'bate': 4719, 'hilar': 4720, 'loretta': 4721, 'melissa': 4722, 'pixar': 4723, 'parson': 4724, 'redneck': 4725, 'bikini': 4726, 'toronto': 4727, 'isra': 4728, 'orphan': 4729, 'sicken': 4730, 'antholog': 4731, 'flavor': 4732, 'token': 4733, 'vanessa': 4734, 'estrang': 4735, 'blatantli': 4736, 'jordan': 4737, 'eli': 4738, 'razor': 4739, 'feast': 4740, 'nope': 4741, 'vile': 4742, 'marlon': 4743, 'akin': 4744, 'legitim': 4745, 'milo': 4746, 'mason': 4747, 'cerebr': 4748, 'illus': 4749, 'bondag': 4750, 'alexandr': 4751, 'mathieu': 4752, 'articl': 4753, 'venom': 4754, 'lui': 4755, 'winchest': 4756, 'uma': 4757, 'seedi': 4758, 'wardrob': 4759, 'misfortun': 4760, 'northern': 4761, 'jo': 4762, 'trier': 4763, 'pc': 4764, 'static': 4765, 'http': 4766, 'lucil': 4767, 'aris': 4768, 'foil': 4769, 'breakfast': 4770, 'holocaust': 4771, 'choke': 4772, 'shepherd': 4773, 'rooki': 4774, 'electron': 4775, 'ceremoni': 4776, 'wrestler': 4777, 'leather': 4778, 'deem': 4779, 'fifth': 4780, 'retriev': 4781, 'charlton': 4782, 'shorter': 4783, 'comprehend': 4784, 'feminin': 4785, 'tack': 4786, 'highway': 4787, 'outdat': 4788, 'ideolog': 4789, 'frog': 4790, 'styliz': 4791, 'audrey': 4792, 'peer': 4793, 'clinic': 4794, 'psych': 4795, 'dudley': 4796, 'abund': 4797, 'affleck': 4798, 'turd': 4799, 'swept': 4800, 'linear': 4801, 'magician': 4802, 'gilbert': 4803, 'disregard': 4804, 'glare': 4805, 'nightclub': 4806, 'oppon': 4807, 'smack': 4808, 'huston': 4809, 'howl': 4810, 'knightley': 4811, 'cartoonish': 4812, 'gunga': 4813, 'boyer': 4814, 'btw': 4815, 'bastard': 4816, 'braveheart': 4817, '1994': 4818, 'chip': 4819, 'uniformli': 4820, 'spawn': 4821, 'evolut': 4822, 'lighter': 4823, 'plate': 4824, 'senat': 4825, 'snatch': 4826, 'compris': 4827, 'monument': 4828, 'cuban': 4829, 'phenomen': 4830, 'cemeteri': 4831, 'einstein': 4832, 'lavish': 4833, 'boo': 4834, 'bogu': 4835, 'goldsworthi': 4836, 'moe': 4837, 'sleaz': 4838, 'spine': 4839, 'newer': 4840, 'potter': 4841, 'mitch': 4842, 'toe': 4843, 'energet': 4844, 'collector': 4845, '4th': 4846, '1991': 4847, 'conrad': 4848, 'corn': 4849, 'breakdown': 4850, 'lifeless': 4851, 'durat': 4852, 'whack': 4853, 'summar': 4854, 'client': 4855, 'tara': 4856, 'greet': 4857, 'salman': 4858, 'deliver': 4859, 'jare': 4860, 'cecil': 4861, 'signal': 4862, 'bori': 4863, 'trauma': 4864, 'lex': 4865, 'kent': 4866, 'outright': 4867, '1974': 4868, 'judd': 4869, 'occup': 4870, 'bulk': 4871, 'luxuri': 4872, 'eleven': 4873, 'ie': 4874, 'fluid': 4875, 'inaccuraci': 4876, 'capot': 4877, 'neatli': 4878, 'clara': 4879, 'alleg': 4880, 'pronounc': 4881, 'appl': 4882, 'embark': 4883, 'ol': 4884, 'nina': 4885, 'spectacl': 4886, 'firmli': 4887, 'historian': 4888, 'replay': 4889, 'mcqueen': 4890, 'sorrow': 4891, 'jule': 4892, 'undead': 4893, 'randolph': 4894, 'healthi': 4895, 'evelyn': 4896, 'liu': 4897, 'gilliam': 4898, 'creek': 4899, 'wtf': 4900, 'constitut': 4901, 'armstrong': 4902, 'kazan': 4903, 'jam': 4904, 'undertak': 4905, 'belli': 4906, '1977': 4907, 'jedi': 4908, 'comb': 4909, 'abound': 4910, 'tokyo': 4911, 'meal': 4912, 'roar': 4913, 'goldblum': 4914, 'spray': 4915, 'mum': 4916, '1985': 4917, 'subtli': 4918, 'cape': 4919, 'lauren': 4920, 'kiddi': 4921, 'palm': 4922, 'sidewalk': 4923, 'sacrif': 4924, 'pioneer': 4925, 'knee': 4926, 'pepper': 4927, 'unsuspect': 4928, 'poker': 4929, 'porter': 4930, 'basket': 4931, 'propheci': 4932, 'congratul': 4933, 'truman': 4934, 'groan': 4935, 'relentless': 4936, 'genet': 4937, 'decapit': 4938, 'ash': 4939, 'lanc': 4940, 'miami': 4941, 'unattract': 4942, 'inclus': 4943, 'aussi': 4944, 'conan': 4945, 'fruit': 4946, 'galaxi': 4947, 'vignett': 4948, 'walt': 4949, 'carmen': 4950, 'comprehens': 4951, 'antonio': 4952, 'rosario': 4953, 'id': 4954, 'bait': 4955, 'blur': 4956, 'curtain': 4957, 'paula': 4958, 'bsg': 4959, 'vain': 4960, 'forgiven': 4961, 'miniseri': 4962, 'inaccur': 4963, 'turtl': 4964, 'sparkl': 4965, 'victorian': 4966, '21st': 4967, 'hostil': 4968, 'profil': 4969, 'vastli': 4970, 'assort': 4971, 'bravo': 4972, 'rapidli': 4973, 'masterson': 4974, 'playboy': 4975, 'substanti': 4976, 'omin': 4977, 'incorrect': 4978, 'scariest': 4979, 'spill': 4980, 'jill': 4981, 'handicap': 4982, 'weaker': 4983, 'optimist': 4984, 'casper': 4985, 'asset': 4986, 'epitom': 4987, 'drone': 4988, 'cypher': 4989, 'weari': 4990, 'growth': 4991, 'reincarn': 4992, 'hackman': 4993, 'dubiou': 4994, 'verg': 4995, 'mice': 4996, 'scarfac': 4997, 'motorcycl': 4998, 'bach': 4999}\n"
     ]
    }
   ],
   "source": [
    "# TODO: Use this space to determine the five most frequently appearing words in the training set.\n",
    "print(word_dict)"
   ]
  },
  {
   "cell_type": "markdown",
   "metadata": {},
   "source": [
    "### Save `word_dict`\n",
    "\n",
    "Later on when we construct an endpoint which processes a submitted review we will need to make use of the `word_dict` which we have created. As such, we will save it to a file now for future use."
   ]
  },
  {
   "cell_type": "code",
   "execution_count": 132,
   "metadata": {},
   "outputs": [],
   "source": [
    "data_dir = '../data/pytorch' # The folder we will use for storing data\n",
    "if not os.path.exists(data_dir): # Make sure that the folder exists\n",
    "    os.makedirs(data_dir)"
   ]
  },
  {
   "cell_type": "code",
   "execution_count": 133,
   "metadata": {},
   "outputs": [],
   "source": [
    "with open(os.path.join(data_dir, 'word_dict.pkl'), \"wb\") as f:\n",
    "    pickle.dump(word_dict, f)"
   ]
  },
  {
   "cell_type": "markdown",
   "metadata": {},
   "source": [
    "### Transform the reviews\n",
    "\n",
    "Now that we have our word dictionary which allows us to transform the words appearing in the reviews into integers, it is time to make use of it and convert our reviews to their integer sequence representation, making sure to pad or truncate to a fixed length, which in our case is `500`."
   ]
  },
  {
   "cell_type": "code",
   "execution_count": 134,
   "metadata": {},
   "outputs": [],
   "source": [
    "def convert_and_pad(word_dict, sentence, pad=500):\n",
    "    NOWORD = 0 # We will use 0 to represent the 'no word' category\n",
    "    INFREQ = 1 # and we use 1 to represent the infrequent words, i.e., words not appearing in word_dict\n",
    "    \n",
    "    working_sentence = [NOWORD] * pad\n",
    "    \n",
    "    for word_index, word in enumerate(sentence[:pad]):\n",
    "        if word in word_dict:\n",
    "            working_sentence[word_index] = word_dict[word]\n",
    "        else:\n",
    "            working_sentence[word_index] = INFREQ\n",
    "            \n",
    "    return working_sentence, min(len(sentence), pad)\n",
    "\n",
    "def convert_and_pad_data(word_dict, data, pad=500):\n",
    "    result = []\n",
    "    lengths = []\n",
    "    \n",
    "    for sentence in data:\n",
    "        converted, leng = convert_and_pad(word_dict, sentence, pad)\n",
    "        result.append(converted)\n",
    "        lengths.append(leng)\n",
    "        \n",
    "    return np.array(result), np.array(lengths)"
   ]
  },
  {
   "cell_type": "code",
   "execution_count": 135,
   "metadata": {},
   "outputs": [],
   "source": [
    "train_X, train_X_len = convert_and_pad_data(word_dict, train_X)\n",
    "test_X, test_X_len = convert_and_pad_data(word_dict, test_X)"
   ]
  },
  {
   "cell_type": "markdown",
   "metadata": {},
   "source": [
    "As a quick check to make sure that things are working as intended, check to see what one of the reviews in the training set looks like after having been processeed. Does this look reasonable? What is the length of a review in the training set?"
   ]
  },
  {
   "cell_type": "code",
   "execution_count": 165,
   "metadata": {},
   "outputs": [
    {
     "name": "stdout",
     "output_type": "stream",
     "text": [
      "[3154 3542  436  299 1668  516  239  663  101   99   25    1  232   21\n",
      "    1    1 2972 2752  436    2  447  428  153  143  576  318    3 2204\n",
      "  444  319  200    2  517   82  829   77    1  959    2  516   37    1\n",
      "  324  823    8   35   69    4  449 1044    1 3543   20  363  779  215\n",
      "   12 3882  106    7   77   91  329    4 1622    6  176 1778   12    1\n",
      "    2  488    0    0    0    0    0    0    0    0    0    0    0    0\n",
      "    0    0    0    0    0    0    0    0    0    0    0    0    0    0\n",
      "    0    0    0    0    0    0    0    0    0    0    0    0    0    0\n",
      "    0    0    0    0    0    0    0    0    0    0    0    0    0    0\n",
      "    0    0    0    0    0    0    0    0    0    0    0    0    0    0\n",
      "    0    0    0    0    0    0    0    0    0    0    0    0    0    0\n",
      "    0    0    0    0    0    0    0    0    0    0    0    0    0    0\n",
      "    0    0    0    0    0    0    0    0    0    0    0    0    0    0\n",
      "    0    0    0    0    0    0    0    0    0    0    0    0    0    0\n",
      "    0    0    0    0    0    0    0    0    0    0    0    0    0    0\n",
      "    0    0    0    0    0    0    0    0    0    0    0    0    0    0\n",
      "    0    0    0    0    0    0    0    0    0    0    0    0    0    0\n",
      "    0    0    0    0    0    0    0    0    0    0    0    0    0    0\n",
      "    0    0    0    0    0    0    0    0    0    0    0    0    0    0\n",
      "    0    0    0    0    0    0    0    0    0    0    0    0    0    0\n",
      "    0    0    0    0    0    0    0    0    0    0    0    0    0    0\n",
      "    0    0    0    0    0    0    0    0    0    0    0    0    0    0\n",
      "    0    0    0    0    0    0    0    0    0    0    0    0    0    0\n",
      "    0    0    0    0    0    0    0    0    0    0    0    0    0    0\n",
      "    0    0    0    0    0    0    0    0    0    0    0    0    0    0\n",
      "    0    0    0    0    0    0    0    0    0    0    0    0    0    0\n",
      "    0    0    0    0    0    0    0    0    0    0    0    0    0    0\n",
      "    0    0    0    0    0    0    0    0    0    0    0    0    0    0\n",
      "    0    0    0    0    0    0    0    0    0    0    0    0    0    0\n",
      "    0    0    0    0    0    0    0    0    0    0    0    0    0    0\n",
      "    0    0    0    0    0    0    0    0    0    0    0    0    0    0\n",
      "    0    0    0    0    0    0    0    0    0    0    0    0    0    0\n",
      "    0    0    0    0    0    0    0    0    0    0    0    0    0    0\n",
      "    0    0    0    0    0    0    0    0    0    0    0    0    0    0\n",
      "    0    0    0    0    0    0    0    0    0    0    0    0    0    0\n",
      "    0    0    0    0    0    0    0    0    0    0]\n",
      "72\n"
     ]
    }
   ],
   "source": [
    "# Use this cell to examine one of the processed reviews to make sure everything is working as intended.\n",
    "print(train_X[100])\n",
    "print(train_X_len[100])"
   ]
  },
  {
   "cell_type": "markdown",
   "metadata": {},
   "source": [
    "**Question:** In the cells above we use the `preprocess_data` and `convert_and_pad_data` methods to process both the training and testing set. Why or why not might this be a problem?"
   ]
  },
  {
   "cell_type": "markdown",
   "metadata": {},
   "source": [
    "**Answer:**\n",
    "The only potential problem I see is that test set may have too many 1's since word_dict was based on training set only"
   ]
  },
  {
   "cell_type": "markdown",
   "metadata": {},
   "source": [
    "## Step 3: Upload the data to S3\n",
    "\n",
    "As in the XGBoost notebook, we will need to upload the training dataset to S3 in order for our training code to access it. For now we will save it locally and we will upload to S3 later on.\n",
    "\n",
    "### Save the processed training dataset locally\n",
    "\n",
    "It is important to note the format of the data that we are saving as we will need to know it when we write the training code. In our case, each row of the dataset has the form `label`, `length`, `review[500]` where `review[500]` is a sequence of `500` integers representing the words in the review."
   ]
  },
  {
   "cell_type": "code",
   "execution_count": 137,
   "metadata": {},
   "outputs": [],
   "source": [
    "import pandas as pd\n",
    "    \n",
    "pd.concat([pd.DataFrame(train_y), pd.DataFrame(train_X_len), pd.DataFrame(train_X)], axis=1) \\\n",
    "        .to_csv(os.path.join(data_dir, 'train.csv'), header=False, index=False)"
   ]
  },
  {
   "cell_type": "markdown",
   "metadata": {},
   "source": [
    "### Uploading the training data\n",
    "\n",
    "\n",
    "Next, we need to upload the training data to the SageMaker default S3 bucket so that we can provide access to it while training our model."
   ]
  },
  {
   "cell_type": "code",
   "execution_count": 138,
   "metadata": {},
   "outputs": [],
   "source": [
    "import sagemaker\n",
    "\n",
    "sagemaker_session = sagemaker.Session()\n",
    "\n",
    "bucket = sagemaker_session.default_bucket()\n",
    "prefix = 'sagemaker/sentiment_rnn'\n",
    "\n",
    "role = sagemaker.get_execution_role()"
   ]
  },
  {
   "cell_type": "code",
   "execution_count": 139,
   "metadata": {},
   "outputs": [],
   "source": [
    "input_data = sagemaker_session.upload_data(path=data_dir, bucket=bucket, key_prefix=prefix)"
   ]
  },
  {
   "cell_type": "markdown",
   "metadata": {},
   "source": [
    "**NOTE:** The cell above uploads the entire contents of our data directory. This includes the `word_dict.pkl` file. This is fortunate as we will need this later on when we create an endpoint that accepts an arbitrary review. For now, we will just take note of the fact that it resides in the data directory (and so also in the S3 training bucket) and that we will need to make sure it gets saved in the model directory."
   ]
  },
  {
   "cell_type": "markdown",
   "metadata": {},
   "source": [
    "## Step 4: Build and Train the PyTorch Model\n",
    "\n",
    "In the XGBoost notebook we discussed what a model is in the SageMaker framework. In particular, a model comprises three objects\n",
    "\n",
    " - Model Artifacts,\n",
    " - Training Code, and\n",
    " - Inference Code,\n",
    " \n",
    "each of which interact with one another. In the XGBoost example we used training and inference code that was provided by Amazon. Here we will still be using containers provided by Amazon with the added benefit of being able to include our own custom code.\n",
    "\n",
    "We will start by implementing our own neural network in PyTorch along with a training script. For the purposes of this project we have provided the necessary model object in the `model.py` file, inside of the `train` folder. You can see the provided implementation by running the cell below."
   ]
  },
  {
   "cell_type": "code",
   "execution_count": 140,
   "metadata": {
    "scrolled": true
   },
   "outputs": [
    {
     "name": "stdout",
     "output_type": "stream",
     "text": [
      "\u001b[34mimport\u001b[39;49;00m \u001b[04m\u001b[36mtorch\u001b[39;49;00m\u001b[04m\u001b[36m.\u001b[39;49;00m\u001b[04m\u001b[36mnn\u001b[39;49;00m \u001b[34mas\u001b[39;49;00m \u001b[04m\u001b[36mnn\u001b[39;49;00m\r\n",
      "\r\n",
      "\u001b[34mclass\u001b[39;49;00m \u001b[04m\u001b[32mLSTMClassifier\u001b[39;49;00m(nn.Module):\r\n",
      "    \u001b[33m\"\"\"\u001b[39;49;00m\r\n",
      "\u001b[33m    This is the simple RNN model we will be using to perform Sentiment Analysis.\u001b[39;49;00m\r\n",
      "\u001b[33m    \"\"\"\u001b[39;49;00m\r\n",
      "\r\n",
      "    \u001b[34mdef\u001b[39;49;00m \u001b[32m__init__\u001b[39;49;00m(\u001b[36mself\u001b[39;49;00m, embedding_dim, hidden_dim, vocab_size):\r\n",
      "        \u001b[33m\"\"\"\u001b[39;49;00m\r\n",
      "\u001b[33m        Initialize the model by settingg up the various layers.\u001b[39;49;00m\r\n",
      "\u001b[33m        \"\"\"\u001b[39;49;00m\r\n",
      "        \u001b[36msuper\u001b[39;49;00m(LSTMClassifier, \u001b[36mself\u001b[39;49;00m).\u001b[32m__init__\u001b[39;49;00m()\r\n",
      "\r\n",
      "        \u001b[36mself\u001b[39;49;00m.embedding = nn.Embedding(vocab_size, embedding_dim, padding_idx=\u001b[34m0\u001b[39;49;00m)\r\n",
      "        \u001b[36mself\u001b[39;49;00m.lstm = nn.LSTM(embedding_dim, hidden_dim)\r\n",
      "        \u001b[36mself\u001b[39;49;00m.dense = nn.Linear(in_features=hidden_dim, out_features=\u001b[34m1\u001b[39;49;00m)\r\n",
      "        \u001b[36mself\u001b[39;49;00m.sig = nn.Sigmoid()\r\n",
      "        \r\n",
      "        \u001b[36mself\u001b[39;49;00m.word_dict = \u001b[34mNone\u001b[39;49;00m\r\n",
      "\r\n",
      "    \u001b[34mdef\u001b[39;49;00m \u001b[32mforward\u001b[39;49;00m(\u001b[36mself\u001b[39;49;00m, x):\r\n",
      "        \u001b[33m\"\"\"\u001b[39;49;00m\r\n",
      "\u001b[33m        Perform a forward pass of our model on some input.\u001b[39;49;00m\r\n",
      "\u001b[33m        \"\"\"\u001b[39;49;00m\r\n",
      "        x = x.t()\r\n",
      "        lengths = x[\u001b[34m0\u001b[39;49;00m,:]\r\n",
      "        reviews = x[\u001b[34m1\u001b[39;49;00m:,:]\r\n",
      "        embeds = \u001b[36mself\u001b[39;49;00m.embedding(reviews)\r\n",
      "        lstm_out, _ = \u001b[36mself\u001b[39;49;00m.lstm(embeds)\r\n",
      "        out = \u001b[36mself\u001b[39;49;00m.dense(lstm_out)\r\n",
      "        out = out[lengths - \u001b[34m1\u001b[39;49;00m, \u001b[36mrange\u001b[39;49;00m(\u001b[36mlen\u001b[39;49;00m(lengths))]\r\n",
      "        \u001b[34mreturn\u001b[39;49;00m \u001b[36mself\u001b[39;49;00m.sig(out.squeeze())\r\n"
     ]
    }
   ],
   "source": [
    "!pygmentize train/model.py"
   ]
  },
  {
   "cell_type": "markdown",
   "metadata": {},
   "source": [
    "The important takeaway from the implementation provided is that there are three parameters that we may wish to tweak to improve the performance of our model. These are the embedding dimension, the hidden dimension and the size of the vocabulary. We will likely want to make these parameters configurable in the training script so that if we wish to modify them we do not need to modify the script itself. We will see how to do this later on. To start we will write some of the training code in the notebook so that we can more easily diagnose any issues that arise.\n",
    "\n",
    "First we will load a small portion of the training data set to use as a sample. It would be very time consuming to try and train the model completely in the notebook as we do not have access to a gpu and the compute instance that we are using is not particularly powerful. However, we can work on a small bit of the data to get a feel for how our training script is behaving."
   ]
  },
  {
   "cell_type": "code",
   "execution_count": 141,
   "metadata": {},
   "outputs": [],
   "source": [
    "import torch\n",
    "import torch.utils.data\n",
    "\n",
    "# Read in only the first 250 rows\n",
    "train_sample = pd.read_csv(os.path.join(data_dir, 'train.csv'), header=None, names=None, nrows=250)\n",
    "\n",
    "# Turn the input pandas dataframe into tensors\n",
    "train_sample_y = torch.from_numpy(train_sample[[0]].values).float().squeeze()\n",
    "train_sample_X = torch.from_numpy(train_sample.drop([0], axis=1).values).long()\n",
    "\n",
    "# Build the dataset\n",
    "train_sample_ds = torch.utils.data.TensorDataset(train_sample_X, train_sample_y)\n",
    "# Build the dataloader\n",
    "train_sample_dl = torch.utils.data.DataLoader(train_sample_ds, batch_size=50)"
   ]
  },
  {
   "cell_type": "markdown",
   "metadata": {},
   "source": [
    "### (TODO) Writing the training method\n",
    "\n",
    "Next we need to write the training code itself. This should be very similar to training methods that you have written before to train PyTorch models. We will leave any difficult aspects such as model saving / loading and parameter loading until a little later."
   ]
  },
  {
   "cell_type": "code",
   "execution_count": 142,
   "metadata": {},
   "outputs": [],
   "source": [
    "def train(model, train_loader, epochs, optimizer, loss_fn, device):\n",
    "    for epoch in range(1, epochs + 1):\n",
    "        model.train()\n",
    "        total_loss = 0\n",
    "        for batch in train_loader:         \n",
    "            batch_X, batch_y = batch\n",
    "            \n",
    "            batch_X = batch_X.to(device)\n",
    "            batch_y = batch_y.to(device)\n",
    "            \n",
    "            # TODO: Complete this train method to train the model provided.\n",
    "            model.zero_grad()\n",
    "            output = model(batch_X)\n",
    "            loss = loss_fn(output, batch_y)\n",
    "            loss.backward()\n",
    "            optimizer.step()\n",
    "            \n",
    "            total_loss += loss.data.item()\n",
    "        print(\"Epoch: {}, BCELoss: {}\".format(epoch, total_loss / len(train_loader)))"
   ]
  },
  {
   "cell_type": "markdown",
   "metadata": {},
   "source": [
    "Supposing we have the training method above, we will test that it is working by writing a bit of code in the notebook that executes our training method on the small sample training set that we loaded earlier. The reason for doing this in the notebook is so that we have an opportunity to fix any errors that arise early when they are easier to diagnose."
   ]
  },
  {
   "cell_type": "code",
   "execution_count": 143,
   "metadata": {},
   "outputs": [
    {
     "name": "stdout",
     "output_type": "stream",
     "text": [
      "Epoch: 1, BCELoss: 0.6935758590698242\n",
      "Epoch: 2, BCELoss: 0.684501338005066\n",
      "Epoch: 3, BCELoss: 0.6762333989143372\n",
      "Epoch: 4, BCELoss: 0.6666450738906861\n",
      "Epoch: 5, BCELoss: 0.6543809294700622\n",
      "Epoch: 6, BCELoss: 0.6376793861389161\n",
      "Epoch: 7, BCELoss: 0.6156371593475342\n",
      "Epoch: 8, BCELoss: 0.5810901045799255\n",
      "Epoch: 9, BCELoss: 0.5541835069656372\n",
      "Epoch: 10, BCELoss: 0.51765296459198\n",
      "Epoch: 11, BCELoss: 0.49264557361602784\n",
      "Epoch: 12, BCELoss: 0.4503414690494537\n",
      "Epoch: 13, BCELoss: 0.3869596183300018\n",
      "Epoch: 14, BCELoss: 0.34428087472915647\n",
      "Epoch: 15, BCELoss: 0.30731395483016966\n",
      "Epoch: 16, BCELoss: 0.25485423505306243\n",
      "Epoch: 17, BCELoss: 0.22997131645679475\n",
      "Epoch: 18, BCELoss: 0.20442662239074708\n",
      "Epoch: 19, BCELoss: 0.1633816361427307\n",
      "Epoch: 20, BCELoss: 0.13273395001888275\n",
      "Epoch: 21, BCELoss: 0.10746371895074844\n",
      "Epoch: 22, BCELoss: 0.17686639949679375\n",
      "Epoch: 23, BCELoss: 0.15768639147281646\n",
      "Epoch: 24, BCELoss: 0.10295014083385468\n",
      "Epoch: 25, BCELoss: 0.10631663352251053\n",
      "Epoch: 26, BCELoss: 0.08885434046387672\n",
      "Epoch: 27, BCELoss: 0.06874738410115241\n",
      "Epoch: 28, BCELoss: 0.053532513231039046\n",
      "Epoch: 29, BCELoss: 0.03878720737993717\n",
      "Epoch: 30, BCELoss: 0.029707561433315276\n",
      "Epoch: 31, BCELoss: 0.04477350004017353\n",
      "Epoch: 32, BCELoss: 0.031094174087047576\n",
      "Epoch: 33, BCELoss: 0.03485098257660866\n",
      "Epoch: 34, BCELoss: 0.0280966155230999\n",
      "Epoch: 35, BCELoss: 0.028025025874376296\n",
      "Epoch: 36, BCELoss: 0.026777517795562745\n",
      "Epoch: 37, BCELoss: 0.018453620932996274\n",
      "Epoch: 38, BCELoss: 0.013652700278908015\n",
      "Epoch: 39, BCELoss: 0.012161008734256028\n",
      "Epoch: 40, BCELoss: 0.009414930641651154\n",
      "Epoch: 41, BCELoss: 0.008570027071982622\n",
      "Epoch: 42, BCELoss: 0.007083162944763899\n",
      "Epoch: 43, BCELoss: 0.006083079054951668\n",
      "Epoch: 44, BCELoss: 0.005373228155076504\n",
      "Epoch: 45, BCELoss: 0.004821520391851663\n",
      "Epoch: 46, BCELoss: 0.004369788384065032\n",
      "Epoch: 47, BCELoss: 0.0039795961696654555\n",
      "Epoch: 48, BCELoss: 0.0036408767104148866\n",
      "Epoch: 49, BCELoss: 0.003344772569835186\n",
      "Epoch: 50, BCELoss: 0.0030931263230741025\n"
     ]
    }
   ],
   "source": [
    "import torch.optim as optim\n",
    "from train.model import LSTMClassifier\n",
    "\n",
    "device = torch.device(\"cuda\" if torch.cuda.is_available() else \"cpu\")\n",
    "model = LSTMClassifier(32, 100, 5000).to(device)\n",
    "optimizer = optim.Adam(model.parameters())\n",
    "loss_fn = torch.nn.BCELoss()\n",
    "\n",
    "train(model, train_sample_dl, 50, optimizer, loss_fn, device)"
   ]
  },
  {
   "cell_type": "markdown",
   "metadata": {},
   "source": [
    "In order to construct a PyTorch model using SageMaker we must provide SageMaker with a training script. We may optionally include a directory which will be copied to the container and from which our training code will be run. When the training container is executed it will check the uploaded directory (if there is one) for a `requirements.txt` file and install any required Python libraries, after which the training script will be run."
   ]
  },
  {
   "cell_type": "markdown",
   "metadata": {},
   "source": [
    "### (TODO) Training the model\n",
    "\n",
    "When a PyTorch model is constructed in SageMaker, an entry point must be specified. This is the Python file which will be executed when the model is trained. Inside of the `train` directory is a file called `train.py` which has been provided and which contains most of the necessary code to train our model. The only thing that is missing is the implementation of the `train()` method which you wrote earlier in this notebook.\n",
    "\n",
    "**TODO**: Copy the `train()` method written above and paste it into the `train/train.py` file where required.\n",
    "\n",
    "The way that SageMaker passes hyperparameters to the training script is by way of arguments. These arguments can then be parsed and used in the training script. To see how this is done take a look at the provided `train/train.py` file."
   ]
  },
  {
   "cell_type": "code",
   "execution_count": 144,
   "metadata": {},
   "outputs": [],
   "source": [
    "from sagemaker.pytorch import PyTorch\n",
    "import pandas\n",
    "import numpy\n",
    "import nltk\n",
    "from bs4 import BeautifulSoup\n",
    "import html5lib\n",
    "\n",
    "estimator = PyTorch(entry_point=\"train.py\",\n",
    "                    source_dir=\"train\",\n",
    "                    role=role,\n",
    "                    framework_version='0.4.0',\n",
    "                    train_instance_count=1,\n",
    "                    train_instance_type='ml.p2.xlarge',\n",
    "                    hyperparameters={\n",
    "                        'epochs': 20,\n",
    "                        'hidden_dim': 32,\n",
    "                        'embedding_dim': 32\n",
    "                    })"
   ]
  },
  {
   "cell_type": "code",
   "execution_count": 145,
   "metadata": {},
   "outputs": [],
   "source": [
    "from sagemaker.tuner import IntegerParameter, HyperparameterTuner\n",
    "\n",
    "estimator_hyperparameter_tuner = HyperparameterTuner(estimator = estimator, # The estimator object to use as the basis for the training jobs.\n",
    "                                               objective_metric_name=\"training:loss_fn\",\n",
    "                                               objective_type='Minimize',\n",
    "                                               #objective_metric_name = 'validation:rmse', # The metric used to compare trained models.\n",
    "                                               #objective_type = 'Minimize', # Whether we wish to minimize or maximize the metric.\n",
    "                                               max_jobs = 20, # The total number of models to train\n",
    "                                               max_parallel_jobs = 1, # The number of models to train in parallel\n",
    "                                               hyperparameter_ranges = {'hidden_dim': IntegerParameter(5, 8),\n",
    "                                                                        'embedding_dim': IntegerParameter(5, 8)\n",
    "                                               })"
   ]
  },
  {
   "cell_type": "code",
   "execution_count": 146,
   "metadata": {},
   "outputs": [
    {
     "name": "stderr",
     "output_type": "stream",
     "text": [
      "'create_image_uri' will be deprecated in favor of 'ImageURIProvider' class in SageMaker Python SDK v2.\n",
      "'s3_input' class will be renamed to 'TrainingInput' in SageMaker Python SDK v2.\n",
      "'create_image_uri' will be deprecated in favor of 'ImageURIProvider' class in SageMaker Python SDK v2.\n"
     ]
    },
    {
     "name": "stdout",
     "output_type": "stream",
     "text": [
      "2021-03-08 20:30:05 Starting - Starting the training job...\n",
      "2021-03-08 20:30:08 Starting - Launching requested ML instances......\n",
      "2021-03-08 20:31:22 Starting - Preparing the instances for training.........\n",
      "2021-03-08 20:32:48 Downloading - Downloading input data......\n",
      "2021-03-08 20:34:04 Training - Training image download completed. Training in progress..\u001b[34mbash: cannot set terminal process group (-1): Inappropriate ioctl for device\u001b[0m\n",
      "\u001b[34mbash: no job control in this shell\u001b[0m\n",
      "\u001b[34m2021-03-08 20:34:05,577 sagemaker-containers INFO     Imported framework sagemaker_pytorch_container.training\u001b[0m\n",
      "\u001b[34m2021-03-08 20:34:05,604 sagemaker_pytorch_container.training INFO     Block until all host DNS lookups succeed.\u001b[0m\n",
      "\u001b[34m2021-03-08 20:34:05,834 sagemaker_pytorch_container.training INFO     Invoking user training script.\u001b[0m\n",
      "\u001b[34m2021-03-08 20:34:13,375 sagemaker-containers INFO     Module train does not provide a setup.py. \u001b[0m\n",
      "\u001b[34mGenerating setup.py\u001b[0m\n",
      "\u001b[34m2021-03-08 20:34:13,375 sagemaker-containers INFO     Generating setup.cfg\u001b[0m\n",
      "\u001b[34m2021-03-08 20:34:13,375 sagemaker-containers INFO     Generating MANIFEST.in\u001b[0m\n",
      "\u001b[34m2021-03-08 20:34:13,376 sagemaker-containers INFO     Installing module with the following command:\u001b[0m\n",
      "\u001b[34m/usr/bin/python -m pip install -U . -r requirements.txt\u001b[0m\n",
      "\u001b[34mProcessing /opt/ml/code\u001b[0m\n",
      "\u001b[34mCollecting pandas (from -r requirements.txt (line 1))\n",
      "  Downloading https://files.pythonhosted.org/packages/74/24/0cdbf8907e1e3bc5a8da03345c23cbed7044330bb8f73bb12e711a640a00/pandas-0.24.2-cp35-cp35m-manylinux1_x86_64.whl (10.0MB)\u001b[0m\n",
      "\u001b[34mCollecting numpy (from -r requirements.txt (line 2))\u001b[0m\n",
      "\u001b[34m  Downloading https://files.pythonhosted.org/packages/b5/36/88723426b4ff576809fec7d73594fe17a35c27f8d01f93637637a29ae25b/numpy-1.18.5-cp35-cp35m-manylinux1_x86_64.whl (19.9MB)\u001b[0m\n",
      "\u001b[34mCollecting nltk (from -r requirements.txt (line 3))\n",
      "  Downloading https://files.pythonhosted.org/packages/92/75/ce35194d8e3022203cca0d2f896dbb88689f9b3fce8e9f9cff942913519d/nltk-3.5.zip (1.4MB)\u001b[0m\n",
      "\u001b[34mCollecting beautifulsoup4 (from -r requirements.txt (line 4))\n",
      "  Downloading https://files.pythonhosted.org/packages/d1/41/e6495bd7d3781cee623ce23ea6ac73282a373088fcd0ddc809a047b18eae/beautifulsoup4-4.9.3-py3-none-any.whl (115kB)\u001b[0m\n",
      "\u001b[34mCollecting html5lib (from -r requirements.txt (line 5))\n",
      "  Downloading https://files.pythonhosted.org/packages/6c/dd/a834df6482147d48e225a49515aabc28974ad5a4ca3215c18a882565b028/html5lib-1.1-py2.py3-none-any.whl (112kB)\u001b[0m\n",
      "\u001b[34mCollecting pytz>=2011k (from pandas->-r requirements.txt (line 1))\u001b[0m\n",
      "\u001b[34m  Downloading https://files.pythonhosted.org/packages/70/94/784178ca5dd892a98f113cdd923372024dc04b8d40abe77ca76b5fb90ca6/pytz-2021.1-py2.py3-none-any.whl (510kB)\u001b[0m\n",
      "\u001b[34mRequirement already satisfied, skipping upgrade: python-dateutil>=2.5.0 in /usr/local/lib/python3.5/dist-packages (from pandas->-r requirements.txt (line 1)) (2.7.5)\u001b[0m\n",
      "\u001b[34mRequirement already satisfied, skipping upgrade: click in /usr/local/lib/python3.5/dist-packages (from nltk->-r requirements.txt (line 3)) (7.0)\u001b[0m\n",
      "\u001b[34mCollecting joblib (from nltk->-r requirements.txt (line 3))\n",
      "  Downloading https://files.pythonhosted.org/packages/28/5c/cf6a2b65a321c4a209efcdf64c2689efae2cb62661f8f6f4bb28547cf1bf/joblib-0.14.1-py2.py3-none-any.whl (294kB)\u001b[0m\n",
      "\u001b[34mCollecting regex (from nltk->-r requirements.txt (line 3))\n",
      "  Downloading https://files.pythonhosted.org/packages/2e/e4/3447fed9ab29944333f48730ecff4dca92f0868c5b188d6ab2b2078e32c2/regex-2020.11.13.tar.gz (694kB)\u001b[0m\n",
      "\u001b[34mCollecting tqdm (from nltk->-r requirements.txt (line 3))\n",
      "  Downloading https://files.pythonhosted.org/packages/f8/3e/2730d0effc282960dbff3cf91599ad0d8f3faedc8e75720fdf224b31ab24/tqdm-4.59.0-py2.py3-none-any.whl (74kB)\u001b[0m\n",
      "\u001b[34mCollecting soupsieve>1.2; python_version >= \"3.0\" (from beautifulsoup4->-r requirements.txt (line 4))\n",
      "  Downloading https://files.pythonhosted.org/packages/02/fb/1c65691a9aeb7bd6ac2aa505b84cb8b49ac29c976411c6ab3659425e045f/soupsieve-2.1-py3-none-any.whl\u001b[0m\n",
      "\u001b[34mCollecting webencodings (from html5lib->-r requirements.txt (line 5))\n",
      "  Downloading https://files.pythonhosted.org/packages/f4/24/2a3e3df732393fed8b3ebf2ec078f05546de641fe1b667ee316ec1dcf3b7/webencodings-0.5.1-py2.py3-none-any.whl\u001b[0m\n",
      "\u001b[34mRequirement already satisfied, skipping upgrade: six>=1.9 in /usr/local/lib/python3.5/dist-packages (from html5lib->-r requirements.txt (line 5)) (1.11.0)\u001b[0m\n",
      "\u001b[34mBuilding wheels for collected packages: nltk, train, regex\n",
      "  Running setup.py bdist_wheel for nltk: started\u001b[0m\n",
      "\u001b[34m  Running setup.py bdist_wheel for nltk: finished with status 'done'\n",
      "  Stored in directory: /root/.cache/pip/wheels/ae/8c/3f/b1fe0ba04555b08b57ab52ab7f86023639a526d8bc8d384306\n",
      "  Running setup.py bdist_wheel for train: started\n",
      "  Running setup.py bdist_wheel for train: finished with status 'done'\n",
      "  Stored in directory: /tmp/pip-ephem-wheel-cache-7yg0ia_1/wheels/35/24/16/37574d11bf9bde50616c67372a334f94fa8356bc7164af8ca3\n",
      "  Running setup.py bdist_wheel for regex: started\u001b[0m\n",
      "\u001b[34m  Running setup.py bdist_wheel for regex: finished with status 'done'\n",
      "  Stored in directory: /root/.cache/pip/wheels/27/f6/66/a4243e485a0ebc73dc59033ae26c48e82526f77dbfe158ac59\u001b[0m\n",
      "\u001b[34mSuccessfully built nltk train regex\u001b[0m\n",
      "\u001b[34mInstalling collected packages: numpy, pytz, pandas, joblib, regex, tqdm, nltk, soupsieve, beautifulsoup4, webencodings, html5lib, train\n",
      "  Found existing installation: numpy 1.15.4\u001b[0m\n",
      "\u001b[34m    Uninstalling numpy-1.15.4:\u001b[0m\n",
      "\u001b[34m      Successfully uninstalled numpy-1.15.4\u001b[0m\n",
      "\u001b[34mSuccessfully installed beautifulsoup4-4.9.3 html5lib-1.1 joblib-0.14.1 nltk-3.5 numpy-1.18.5 pandas-0.24.2 pytz-2021.1 regex-2020.11.13 soupsieve-2.1 tqdm-4.59.0 train-1.0.0 webencodings-0.5.1\u001b[0m\n",
      "\u001b[34mYou are using pip version 18.1, however version 20.3.4 is available.\u001b[0m\n",
      "\u001b[34mYou should consider upgrading via the 'pip install --upgrade pip' command.\u001b[0m\n",
      "\u001b[34m2021-03-08 20:34:38,795 sagemaker-containers INFO     Invoking user script\n",
      "\u001b[0m\n",
      "\u001b[34mTraining Env:\n",
      "\u001b[0m\n",
      "\u001b[34m{\n",
      "    \"channel_input_dirs\": {\n",
      "        \"training\": \"/opt/ml/input/data/training\"\n",
      "    },\n",
      "    \"resource_config\": {\n",
      "        \"network_interface_name\": \"eth0\",\n",
      "        \"current_host\": \"algo-1\",\n",
      "        \"hosts\": [\n",
      "            \"algo-1\"\n",
      "        ]\n",
      "    },\n",
      "    \"current_host\": \"algo-1\",\n",
      "    \"hosts\": [\n",
      "        \"algo-1\"\n",
      "    ],\n",
      "    \"additional_framework_parameters\": {},\n",
      "    \"network_interface_name\": \"eth0\",\n",
      "    \"log_level\": 20,\n",
      "    \"num_gpus\": 1,\n",
      "    \"output_data_dir\": \"/opt/ml/output/data\",\n",
      "    \"output_dir\": \"/opt/ml/output\",\n",
      "    \"input_data_config\": {\n",
      "        \"training\": {\n",
      "            \"TrainingInputMode\": \"File\",\n",
      "            \"S3DistributionType\": \"FullyReplicated\",\n",
      "            \"RecordWrapperType\": \"None\"\n",
      "        }\n",
      "    },\n",
      "    \"job_name\": \"sagemaker-pytorch-2021-03-08-20-30-05-488\",\n",
      "    \"module_name\": \"train\",\n",
      "    \"hyperparameters\": {\n",
      "        \"embedding_dim\": 32,\n",
      "        \"epochs\": 20,\n",
      "        \"hidden_dim\": 32\n",
      "    },\n",
      "    \"model_dir\": \"/opt/ml/model\",\n",
      "    \"framework_module\": \"sagemaker_pytorch_container.training:main\",\n",
      "    \"input_dir\": \"/opt/ml/input\",\n",
      "    \"num_cpus\": 4,\n",
      "    \"module_dir\": \"s3://sagemaker-us-east-1-047997999670/sagemaker-pytorch-2021-03-08-20-30-05-488/source/sourcedir.tar.gz\",\n",
      "    \"output_intermediate_dir\": \"/opt/ml/output/intermediate\",\n",
      "    \"user_entry_point\": \"train.py\",\n",
      "    \"input_config_dir\": \"/opt/ml/input/config\"\u001b[0m\n",
      "\u001b[34m}\n",
      "\u001b[0m\n",
      "\u001b[34mEnvironment variables:\n",
      "\u001b[0m\n",
      "\u001b[34mSM_NETWORK_INTERFACE_NAME=eth0\u001b[0m\n",
      "\u001b[34mSM_MODULE_NAME=train\u001b[0m\n",
      "\u001b[34mSM_CHANNEL_TRAINING=/opt/ml/input/data/training\u001b[0m\n",
      "\u001b[34mSM_HP_EPOCHS=20\u001b[0m\n",
      "\u001b[34mSM_MODEL_DIR=/opt/ml/model\u001b[0m\n",
      "\u001b[34mSM_OUTPUT_INTERMEDIATE_DIR=/opt/ml/output/intermediate\u001b[0m\n",
      "\u001b[34mSM_HP_HIDDEN_DIM=32\u001b[0m\n",
      "\u001b[34mSM_RESOURCE_CONFIG={\"current_host\":\"algo-1\",\"hosts\":[\"algo-1\"],\"network_interface_name\":\"eth0\"}\u001b[0m\n",
      "\u001b[34mSM_HOSTS=[\"algo-1\"]\u001b[0m\n",
      "\u001b[34mSM_LOG_LEVEL=20\u001b[0m\n",
      "\u001b[34mSM_CURRENT_HOST=algo-1\u001b[0m\n",
      "\u001b[34mSM_FRAMEWORK_PARAMS={}\u001b[0m\n",
      "\u001b[34mSM_FRAMEWORK_MODULE=sagemaker_pytorch_container.training:main\u001b[0m\n",
      "\u001b[34mSM_NUM_GPUS=1\u001b[0m\n",
      "\u001b[34mSM_OUTPUT_DATA_DIR=/opt/ml/output/data\u001b[0m\n",
      "\u001b[34mSM_INPUT_DIR=/opt/ml/input\u001b[0m\n",
      "\u001b[34mSM_USER_ENTRY_POINT=train.py\u001b[0m\n",
      "\u001b[34mSM_HP_EMBEDDING_DIM=32\u001b[0m\n",
      "\u001b[34mSM_HPS={\"embedding_dim\":32,\"epochs\":20,\"hidden_dim\":32}\u001b[0m\n",
      "\u001b[34mPYTHONPATH=/usr/local/bin:/usr/lib/python35.zip:/usr/lib/python3.5:/usr/lib/python3.5/plat-x86_64-linux-gnu:/usr/lib/python3.5/lib-dynload:/usr/local/lib/python3.5/dist-packages:/usr/lib/python3/dist-packages\u001b[0m\n",
      "\u001b[34mSM_NUM_CPUS=4\u001b[0m\n",
      "\u001b[34mSM_INPUT_CONFIG_DIR=/opt/ml/input/config\u001b[0m\n",
      "\u001b[34mSM_USER_ARGS=[\"--embedding_dim\",\"32\",\"--epochs\",\"20\",\"--hidden_dim\",\"32\"]\u001b[0m\n",
      "\u001b[34mSM_MODULE_DIR=s3://sagemaker-us-east-1-047997999670/sagemaker-pytorch-2021-03-08-20-30-05-488/source/sourcedir.tar.gz\u001b[0m\n",
      "\u001b[34mSM_CHANNELS=[\"training\"]\u001b[0m\n",
      "\u001b[34mSM_INPUT_DATA_CONFIG={\"training\":{\"RecordWrapperType\":\"None\",\"S3DistributionType\":\"FullyReplicated\",\"TrainingInputMode\":\"File\"}}\u001b[0m\n",
      "\u001b[34mSM_TRAINING_ENV={\"additional_framework_parameters\":{},\"channel_input_dirs\":{\"training\":\"/opt/ml/input/data/training\"},\"current_host\":\"algo-1\",\"framework_module\":\"sagemaker_pytorch_container.training:main\",\"hosts\":[\"algo-1\"],\"hyperparameters\":{\"embedding_dim\":32,\"epochs\":20,\"hidden_dim\":32},\"input_config_dir\":\"/opt/ml/input/config\",\"input_data_config\":{\"training\":{\"RecordWrapperType\":\"None\",\"S3DistributionType\":\"FullyReplicated\",\"TrainingInputMode\":\"File\"}},\"input_dir\":\"/opt/ml/input\",\"job_name\":\"sagemaker-pytorch-2021-03-08-20-30-05-488\",\"log_level\":20,\"model_dir\":\"/opt/ml/model\",\"module_dir\":\"s3://sagemaker-us-east-1-047997999670/sagemaker-pytorch-2021-03-08-20-30-05-488/source/sourcedir.tar.gz\",\"module_name\":\"train\",\"network_interface_name\":\"eth0\",\"num_cpus\":4,\"num_gpus\":1,\"output_data_dir\":\"/opt/ml/output/data\",\"output_dir\":\"/opt/ml/output\",\"output_intermediate_dir\":\"/opt/ml/output/intermediate\",\"resource_config\":{\"current_host\":\"algo-1\",\"hosts\":[\"algo-1\"],\"network_interface_name\":\"eth0\"},\"user_entry_point\":\"train.py\"}\u001b[0m\n",
      "\u001b[34mSM_OUTPUT_DIR=/opt/ml/output\n",
      "\u001b[0m\n",
      "\u001b[34mInvoking script with the following command:\n",
      "\u001b[0m\n",
      "\u001b[34m/usr/bin/python -m train --embedding_dim 32 --epochs 20 --hidden_dim 32\n",
      "\n",
      "\u001b[0m\n",
      "\u001b[34mUsing device cuda.\u001b[0m\n",
      "\u001b[34mGet train data loader.\u001b[0m\n",
      "\u001b[34mModel loaded with embedding_dim 32, hidden_dim 32, vocab_size 5000.\u001b[0m\n",
      "\u001b[34mEpoch: 1, BCELoss: 0.6885115394786913\u001b[0m\n",
      "\u001b[34mEpoch: 2, BCELoss: 0.657595025033367\u001b[0m\n",
      "\u001b[34mEpoch: 3, BCELoss: 0.5673264897599513\u001b[0m\n",
      "\u001b[34mEpoch: 4, BCELoss: 0.47562409542044815\u001b[0m\n",
      "\u001b[34mEpoch: 5, BCELoss: 0.4212310557462731\u001b[0m\n",
      "\u001b[34mEpoch: 6, BCELoss: 0.3836167886549113\u001b[0m\n",
      "\u001b[34mEpoch: 7, BCELoss: 0.34978499947762004\u001b[0m\n",
      "\u001b[34mEpoch: 8, BCELoss: 0.3227276546614511\u001b[0m\n",
      "\u001b[34mEpoch: 9, BCELoss: 0.3024622119811116\u001b[0m\n",
      "\u001b[34mEpoch: 10, BCELoss: 0.2834933850230003\u001b[0m\n",
      "\u001b[34mEpoch: 11, BCELoss: 0.2687308201376273\u001b[0m\n",
      "\u001b[34mEpoch: 12, BCELoss: 0.2583774611049769\u001b[0m\n",
      "\u001b[34mEpoch: 13, BCELoss: 0.24824935228240733\u001b[0m\n",
      "\u001b[34mEpoch: 14, BCELoss: 0.25404100120067596\u001b[0m\n",
      "\u001b[34mEpoch: 15, BCELoss: 0.24196543042757074\u001b[0m\n",
      "\u001b[34mEpoch: 16, BCELoss: 0.22560934418318224\u001b[0m\n",
      "\u001b[34mEpoch: 17, BCELoss: 0.21150775922804463\u001b[0m\n",
      "\u001b[34mEpoch: 18, BCELoss: 0.19972021695302458\u001b[0m\n",
      "\u001b[34mEpoch: 19, BCELoss: 0.19148210086384598\u001b[0m\n",
      "\n",
      "2021-03-08 20:36:09 Uploading - Uploading generated training model\n",
      "2021-03-08 20:36:09 Completed - Training job completed\n",
      "\u001b[34mEpoch: 20, BCELoss: 0.1853041846533211\u001b[0m\n",
      "\u001b[34m2021-03-08 20:36:00,441 sagemaker-containers INFO     Reporting training SUCCESS\u001b[0m\n",
      "Training seconds: 201\n",
      "Billable seconds: 201\n"
     ]
    }
   ],
   "source": [
    "estimator.fit({'training': input_data})"
   ]
  },
  {
   "cell_type": "markdown",
   "metadata": {},
   "source": [
    "## Step 5: Testing the model\n",
    "\n",
    "As mentioned at the top of this notebook, we will be testing this model by first deploying it and then sending the testing data to the deployed endpoint. We will do this so that we can make sure that the deployed model is working correctly.\n",
    "\n",
    "## Step 6: Deploy the model for testing\n",
    "\n",
    "Now that we have trained our model, we would like to test it to see how it performs. Currently our model takes input of the form `review_length, review[500]` where `review[500]` is a sequence of `500` integers which describe the words present in the review, encoded using `word_dict`. Fortunately for us, SageMaker provides built-in inference code for models with simple inputs such as this.\n",
    "\n",
    "There is one thing that we need to provide, however, and that is a function which loads the saved model. This function must be called `model_fn()` and takes as its only parameter a path to the directory where the model artifacts are stored. This function must also be present in the python file which we specified as the entry point. In our case the model loading function has been provided and so no changes need to be made.\n",
    "\n",
    "**NOTE**: When the built-in inference code is run it must import the `model_fn()` method from the `train.py` file. This is why the training code is wrapped in a main guard ( ie, `if __name__ == '__main__':` )\n",
    "\n",
    "Since we don't need to change anything in the code that was uploaded during training, we can simply deploy the current model as-is.\n",
    "\n",
    "**NOTE:** When deploying a model you are asking SageMaker to launch an compute instance that will wait for data to be sent to it. As a result, this compute instance will continue to run until *you* shut it down. This is important to know since the cost of a deployed endpoint depends on how long it has been running for.\n",
    "\n",
    "In other words **If you are no longer using a deployed endpoint, shut it down!**\n",
    "\n",
    "**TODO:** Deploy the trained model."
   ]
  },
  {
   "cell_type": "code",
   "execution_count": 148,
   "metadata": {},
   "outputs": [
    {
     "name": "stderr",
     "output_type": "stream",
     "text": [
      "Parameter image will be renamed to image_uri in SageMaker Python SDK v2.\n",
      "'create_image_uri' will be deprecated in favor of 'ImageURIProvider' class in SageMaker Python SDK v2.\n",
      "Using already existing model: sagemaker-pytorch-2021-03-08-20-30-05-488\n"
     ]
    },
    {
     "name": "stdout",
     "output_type": "stream",
     "text": [
      "-----------------!"
     ]
    }
   ],
   "source": [
    "# TODO: Deploy the trained model\n",
    "predictor = estimator.deploy(initial_instance_count=1, instance_type='ml.p2.xlarge')"
   ]
  },
  {
   "cell_type": "markdown",
   "metadata": {},
   "source": [
    "## Step 7 - Use the model for testing\n",
    "\n",
    "Once deployed, we can read in the test data and send it off to our deployed model to get some results. Once we collect all of the results we can determine how accurate our model is."
   ]
  },
  {
   "cell_type": "code",
   "execution_count": 149,
   "metadata": {},
   "outputs": [],
   "source": [
    "test_X = pd.concat([pd.DataFrame(test_X_len), pd.DataFrame(test_X)], axis=1)"
   ]
  },
  {
   "cell_type": "code",
   "execution_count": 150,
   "metadata": {},
   "outputs": [],
   "source": [
    "# We split the data into chunks and send each chunk seperately, accumulating the results.\n",
    "\n",
    "def predict(data, rows=512):\n",
    "    split_array = np.array_split(data, int(data.shape[0] / float(rows) + 1))\n",
    "    predictions = np.array([])\n",
    "    for array in split_array:\n",
    "        predictions = np.append(predictions, predictor.predict(array))\n",
    "    \n",
    "    return predictions"
   ]
  },
  {
   "cell_type": "code",
   "execution_count": 151,
   "metadata": {},
   "outputs": [],
   "source": [
    "predictions = predict(test_X.values)\n",
    "predictions = [round(num) for num in predictions]"
   ]
  },
  {
   "cell_type": "code",
   "execution_count": 152,
   "metadata": {},
   "outputs": [
    {
     "data": {
      "text/plain": [
       "0.86076"
      ]
     },
     "execution_count": 152,
     "metadata": {},
     "output_type": "execute_result"
    }
   ],
   "source": [
    "from sklearn.metrics import accuracy_score\n",
    "accuracy_score(test_y, predictions)"
   ]
  },
  {
   "cell_type": "markdown",
   "metadata": {},
   "source": [
    "**Question:** How does this model compare to the XGBoost model you created earlier? Why might these two models perform differently on this dataset? Which do *you* think is better for sentiment analysis?"
   ]
  },
  {
   "cell_type": "markdown",
   "metadata": {},
   "source": [
    "**Answer:**"
   ]
  },
  {
   "cell_type": "markdown",
   "metadata": {},
   "source": [
    "### (TODO) More testing\n",
    "\n",
    "We now have a trained model which has been deployed and which we can send processed reviews to and which returns the predicted sentiment. However, ultimately we would like to be able to send our model an unprocessed review. That is, we would like to send the review itself as a string. For example, suppose we wish to send the following review to our model."
   ]
  },
  {
   "cell_type": "code",
   "execution_count": 167,
   "metadata": {},
   "outputs": [],
   "source": [
    "test_review = 'The simplest pleasures in life are the best, and this film is one of them. Combining a rather basic storyline of love and adventure this movie transcends the usual weekend fair with wit and unmitigated charm.'"
   ]
  },
  {
   "cell_type": "markdown",
   "metadata": {},
   "source": [
    "The question we now need to answer is, how do we send this review to our model?\n",
    "\n",
    "Recall in the first section of this notebook we did a bunch of data processing to the IMDb dataset. In particular, we did two specific things to the provided reviews.\n",
    " - Removed any html tags and stemmed the input\n",
    " - Encoded the review as a sequence of integers using `word_dict`\n",
    " \n",
    "In order process the review we will need to repeat these two steps.\n",
    "\n",
    "**TODO**: Using the `review_to_words` and `convert_and_pad` methods from section one, convert `test_review` into a numpy array `test_data` suitable to send to our model. Remember that our model expects input of the form `review_length, review[500]`."
   ]
  },
  {
   "cell_type": "code",
   "execution_count": 169,
   "metadata": {},
   "outputs": [
    {
     "name": "stdout",
     "output_type": "stream",
     "text": [
      "The simplest pleasures in life are the best, and this film is one of them. Combining a rather basic storyline of love and adventure this movie transcends the usual weekend fair with wit and unmitigated charm.\n",
      "['simplest', 'pleasur', 'life', 'best', 'film', 'one', 'combin', 'rather', 'basic', 'storylin', 'love', 'adventur', 'movi', 'transcend', 'usual', 'weekend', 'fair', 'wit', 'unmitig', 'charm']\n",
      "[1, 1375, 49, 53, 3, 4, 878, 173, 392, 682, 29, 723, 2, 4423, 275, 2082, 1060, 760, 1, 580, 0, 0, 0, 0, 0, 0, 0, 0, 0, 0, 0, 0, 0, 0, 0, 0, 0, 0, 0, 0, 0, 0, 0, 0, 0, 0, 0, 0, 0, 0, 0, 0, 0, 0, 0, 0, 0, 0, 0, 0, 0, 0, 0, 0, 0, 0, 0, 0, 0, 0, 0, 0, 0, 0, 0, 0, 0, 0, 0, 0, 0, 0, 0, 0, 0, 0, 0, 0, 0, 0, 0, 0, 0, 0, 0, 0, 0, 0, 0, 0, 0, 0, 0, 0, 0, 0, 0, 0, 0, 0, 0, 0, 0, 0, 0, 0, 0, 0, 0, 0, 0, 0, 0, 0, 0, 0, 0, 0, 0, 0, 0, 0, 0, 0, 0, 0, 0, 0, 0, 0, 0, 0, 0, 0, 0, 0, 0, 0, 0, 0, 0, 0, 0, 0, 0, 0, 0, 0, 0, 0, 0, 0, 0, 0, 0, 0, 0, 0, 0, 0, 0, 0, 0, 0, 0, 0, 0, 0, 0, 0, 0, 0, 0, 0, 0, 0, 0, 0, 0, 0, 0, 0, 0, 0, 0, 0, 0, 0, 0, 0, 0, 0, 0, 0, 0, 0, 0, 0, 0, 0, 0, 0, 0, 0, 0, 0, 0, 0, 0, 0, 0, 0, 0, 0, 0, 0, 0, 0, 0, 0, 0, 0, 0, 0, 0, 0, 0, 0, 0, 0, 0, 0, 0, 0, 0, 0, 0, 0, 0, 0, 0, 0, 0, 0, 0, 0, 0, 0, 0, 0, 0, 0, 0, 0, 0, 0, 0, 0, 0, 0, 0, 0, 0, 0, 0, 0, 0, 0, 0, 0, 0, 0, 0, 0, 0, 0, 0, 0, 0, 0, 0, 0, 0, 0, 0, 0, 0, 0, 0, 0, 0, 0, 0, 0, 0, 0, 0, 0, 0, 0, 0, 0, 0, 0, 0, 0, 0, 0, 0, 0, 0, 0, 0, 0, 0, 0, 0, 0, 0, 0, 0, 0, 0, 0, 0, 0, 0, 0, 0, 0, 0, 0, 0, 0, 0, 0, 0, 0, 0, 0, 0, 0, 0, 0, 0, 0, 0, 0, 0, 0, 0, 0, 0, 0, 0, 0, 0, 0, 0, 0, 0, 0, 0, 0, 0, 0, 0, 0, 0, 0, 0, 0, 0, 0, 0, 0, 0, 0, 0, 0, 0, 0, 0, 0, 0, 0, 0, 0, 0, 0, 0, 0, 0, 0, 0, 0, 0, 0, 0, 0, 0, 0, 0, 0, 0, 0, 0, 0, 0, 0, 0, 0, 0, 0, 0, 0, 0, 0, 0, 0, 0, 0, 0, 0, 0, 0, 0, 0, 0, 0, 0, 0, 0, 0, 0, 0, 0, 0, 0, 0, 0, 0, 0, 0, 0, 0, 0, 0, 0, 0, 0, 0, 0, 0, 0, 0, 0, 0, 0, 0, 0, 0, 0, 0, 0, 0, 0, 0, 0, 0, 0, 0, 0, 0, 0, 0, 0, 0, 0, 0, 0, 0, 0, 0, 0, 0, 0, 0, 0, 0]\n"
     ]
    }
   ],
   "source": [
    "# TODO: Convert test_review into a form usable by the model and save the results in test_data\n",
    "print(test_review)\n",
    "review_words = review_to_words(test_review)\n",
    "print(review_words)\n",
    "test_data, len_data = convert_and_pad(word_dict, review_words, pad=500)\n",
    "print(test_data)"
   ]
  },
  {
   "cell_type": "markdown",
   "metadata": {},
   "source": [
    "Now that we have processed the review, we can send the resulting array to our model to predict the sentiment of the review."
   ]
  },
  {
   "cell_type": "code",
   "execution_count": 170,
   "metadata": {},
   "outputs": [
    {
     "ename": "ModelError",
     "evalue": "An error occurred (ModelError) when calling the InvokeEndpoint operation: Received server error (500) from model with message \"<!DOCTYPE HTML PUBLIC \"-//W3C//DTD HTML 3.2 Final//EN\">\n<title>500 Internal Server Error</title>\n<h1>Internal Server Error</h1>\n<p>The server encountered an internal error and was unable to complete your request.  Either the server is overloaded or there is an error in the application.</p>\n\". See https://us-east-1.console.aws.amazon.com/cloudwatch/home?region=us-east-1#logEventViewer:group=/aws/sagemaker/Endpoints/sagemaker-pytorch-2021-03-08-20-30-05-488 in account 047997999670 for more information.",
     "output_type": "error",
     "traceback": [
      "\u001b[0;31m---------------------------------------------------------------------------\u001b[0m",
      "\u001b[0;31mModelError\u001b[0m                                Traceback (most recent call last)",
      "\u001b[0;32m<ipython-input-170-61ff0951d88d>\u001b[0m in \u001b[0;36m<module>\u001b[0;34m\u001b[0m\n\u001b[0;32m----> 1\u001b[0;31m \u001b[0mpredictor\u001b[0m\u001b[0;34m.\u001b[0m\u001b[0mpredict\u001b[0m\u001b[0;34m(\u001b[0m\u001b[0mtest_data\u001b[0m\u001b[0;34m)\u001b[0m\u001b[0;34m\u001b[0m\u001b[0;34m\u001b[0m\u001b[0m\n\u001b[0m",
      "\u001b[0;32m~/anaconda3/envs/pytorch_p36/lib/python3.6/site-packages/sagemaker/predictor.py\u001b[0m in \u001b[0;36mpredict\u001b[0;34m(self, data, initial_args, target_model, target_variant)\u001b[0m\n\u001b[1;32m    111\u001b[0m \u001b[0;34m\u001b[0m\u001b[0m\n\u001b[1;32m    112\u001b[0m         \u001b[0mrequest_args\u001b[0m \u001b[0;34m=\u001b[0m \u001b[0mself\u001b[0m\u001b[0;34m.\u001b[0m\u001b[0m_create_request_args\u001b[0m\u001b[0;34m(\u001b[0m\u001b[0mdata\u001b[0m\u001b[0;34m,\u001b[0m \u001b[0minitial_args\u001b[0m\u001b[0;34m,\u001b[0m \u001b[0mtarget_model\u001b[0m\u001b[0;34m,\u001b[0m \u001b[0mtarget_variant\u001b[0m\u001b[0;34m)\u001b[0m\u001b[0;34m\u001b[0m\u001b[0;34m\u001b[0m\u001b[0m\n\u001b[0;32m--> 113\u001b[0;31m         \u001b[0mresponse\u001b[0m \u001b[0;34m=\u001b[0m \u001b[0mself\u001b[0m\u001b[0;34m.\u001b[0m\u001b[0msagemaker_session\u001b[0m\u001b[0;34m.\u001b[0m\u001b[0msagemaker_runtime_client\u001b[0m\u001b[0;34m.\u001b[0m\u001b[0minvoke_endpoint\u001b[0m\u001b[0;34m(\u001b[0m\u001b[0;34m**\u001b[0m\u001b[0mrequest_args\u001b[0m\u001b[0;34m)\u001b[0m\u001b[0;34m\u001b[0m\u001b[0;34m\u001b[0m\u001b[0m\n\u001b[0m\u001b[1;32m    114\u001b[0m         \u001b[0;32mreturn\u001b[0m \u001b[0mself\u001b[0m\u001b[0;34m.\u001b[0m\u001b[0m_handle_response\u001b[0m\u001b[0;34m(\u001b[0m\u001b[0mresponse\u001b[0m\u001b[0;34m)\u001b[0m\u001b[0;34m\u001b[0m\u001b[0;34m\u001b[0m\u001b[0m\n\u001b[1;32m    115\u001b[0m \u001b[0;34m\u001b[0m\u001b[0m\n",
      "\u001b[0;32m~/anaconda3/envs/pytorch_p36/lib/python3.6/site-packages/botocore/client.py\u001b[0m in \u001b[0;36m_api_call\u001b[0;34m(self, *args, **kwargs)\u001b[0m\n\u001b[1;32m    355\u001b[0m                     \"%s() only accepts keyword arguments.\" % py_operation_name)\n\u001b[1;32m    356\u001b[0m             \u001b[0;31m# The \"self\" in this scope is referring to the BaseClient.\u001b[0m\u001b[0;34m\u001b[0m\u001b[0;34m\u001b[0m\u001b[0;34m\u001b[0m\u001b[0m\n\u001b[0;32m--> 357\u001b[0;31m             \u001b[0;32mreturn\u001b[0m \u001b[0mself\u001b[0m\u001b[0;34m.\u001b[0m\u001b[0m_make_api_call\u001b[0m\u001b[0;34m(\u001b[0m\u001b[0moperation_name\u001b[0m\u001b[0;34m,\u001b[0m \u001b[0mkwargs\u001b[0m\u001b[0;34m)\u001b[0m\u001b[0;34m\u001b[0m\u001b[0;34m\u001b[0m\u001b[0m\n\u001b[0m\u001b[1;32m    358\u001b[0m \u001b[0;34m\u001b[0m\u001b[0m\n\u001b[1;32m    359\u001b[0m         \u001b[0m_api_call\u001b[0m\u001b[0;34m.\u001b[0m\u001b[0m__name__\u001b[0m \u001b[0;34m=\u001b[0m \u001b[0mstr\u001b[0m\u001b[0;34m(\u001b[0m\u001b[0mpy_operation_name\u001b[0m\u001b[0;34m)\u001b[0m\u001b[0;34m\u001b[0m\u001b[0;34m\u001b[0m\u001b[0m\n",
      "\u001b[0;32m~/anaconda3/envs/pytorch_p36/lib/python3.6/site-packages/botocore/client.py\u001b[0m in \u001b[0;36m_make_api_call\u001b[0;34m(self, operation_name, api_params)\u001b[0m\n\u001b[1;32m    674\u001b[0m             \u001b[0merror_code\u001b[0m \u001b[0;34m=\u001b[0m \u001b[0mparsed_response\u001b[0m\u001b[0;34m.\u001b[0m\u001b[0mget\u001b[0m\u001b[0;34m(\u001b[0m\u001b[0;34m\"Error\"\u001b[0m\u001b[0;34m,\u001b[0m \u001b[0;34m{\u001b[0m\u001b[0;34m}\u001b[0m\u001b[0;34m)\u001b[0m\u001b[0;34m.\u001b[0m\u001b[0mget\u001b[0m\u001b[0;34m(\u001b[0m\u001b[0;34m\"Code\"\u001b[0m\u001b[0;34m)\u001b[0m\u001b[0;34m\u001b[0m\u001b[0;34m\u001b[0m\u001b[0m\n\u001b[1;32m    675\u001b[0m             \u001b[0merror_class\u001b[0m \u001b[0;34m=\u001b[0m \u001b[0mself\u001b[0m\u001b[0;34m.\u001b[0m\u001b[0mexceptions\u001b[0m\u001b[0;34m.\u001b[0m\u001b[0mfrom_code\u001b[0m\u001b[0;34m(\u001b[0m\u001b[0merror_code\u001b[0m\u001b[0;34m)\u001b[0m\u001b[0;34m\u001b[0m\u001b[0;34m\u001b[0m\u001b[0m\n\u001b[0;32m--> 676\u001b[0;31m             \u001b[0;32mraise\u001b[0m \u001b[0merror_class\u001b[0m\u001b[0;34m(\u001b[0m\u001b[0mparsed_response\u001b[0m\u001b[0;34m,\u001b[0m \u001b[0moperation_name\u001b[0m\u001b[0;34m)\u001b[0m\u001b[0;34m\u001b[0m\u001b[0;34m\u001b[0m\u001b[0m\n\u001b[0m\u001b[1;32m    677\u001b[0m         \u001b[0;32melse\u001b[0m\u001b[0;34m:\u001b[0m\u001b[0;34m\u001b[0m\u001b[0;34m\u001b[0m\u001b[0m\n\u001b[1;32m    678\u001b[0m             \u001b[0;32mreturn\u001b[0m \u001b[0mparsed_response\u001b[0m\u001b[0;34m\u001b[0m\u001b[0;34m\u001b[0m\u001b[0m\n",
      "\u001b[0;31mModelError\u001b[0m: An error occurred (ModelError) when calling the InvokeEndpoint operation: Received server error (500) from model with message \"<!DOCTYPE HTML PUBLIC \"-//W3C//DTD HTML 3.2 Final//EN\">\n<title>500 Internal Server Error</title>\n<h1>Internal Server Error</h1>\n<p>The server encountered an internal error and was unable to complete your request.  Either the server is overloaded or there is an error in the application.</p>\n\". See https://us-east-1.console.aws.amazon.com/cloudwatch/home?region=us-east-1#logEventViewer:group=/aws/sagemaker/Endpoints/sagemaker-pytorch-2021-03-08-20-30-05-488 in account 047997999670 for more information."
     ]
    }
   ],
   "source": [
    "predictor.predict(test_data)"
   ]
  },
  {
   "cell_type": "markdown",
   "metadata": {},
   "source": [
    "Since the return value of our model is close to `1`, we can be certain that the review we submitted is positive."
   ]
  },
  {
   "cell_type": "markdown",
   "metadata": {},
   "source": [
    "### Delete the endpoint\n",
    "\n",
    "Of course, just like in the XGBoost notebook, once we've deployed an endpoint it continues to run until we tell it to shut down. Since we are done using our endpoint for now, we can delete it."
   ]
  },
  {
   "cell_type": "code",
   "execution_count": null,
   "metadata": {},
   "outputs": [],
   "source": [
    "estimator.delete_endpoint()"
   ]
  },
  {
   "cell_type": "markdown",
   "metadata": {},
   "source": [
    "## Step 6 (again) - Deploy the model for the web app\n",
    "\n",
    "Now that we know that our model is working, it's time to create some custom inference code so that we can send the model a review which has not been processed and have it determine the sentiment of the review.\n",
    "\n",
    "As we saw above, by default the estimator which we created, when deployed, will use the entry script and directory which we provided when creating the model. However, since we now wish to accept a string as input and our model expects a processed review, we need to write some custom inference code.\n",
    "\n",
    "We will store the code that we write in the `serve` directory. Provided in this directory is the `model.py` file that we used to construct our model, a `utils.py` file which contains the `review_to_words` and `convert_and_pad` pre-processing functions which we used during the initial data processing, and `predict.py`, the file which will contain our custom inference code. Note also that `requirements.txt` is present which will tell SageMaker what Python libraries are required by our custom inference code.\n",
    "\n",
    "When deploying a PyTorch model in SageMaker, you are expected to provide four functions which the SageMaker inference container will use.\n",
    " - `model_fn`: This function is the same function that we used in the training script and it tells SageMaker how to load our model.\n",
    " - `input_fn`: This function receives the raw serialized input that has been sent to the model's endpoint and its job is to de-serialize and make the input available for the inference code.\n",
    " - `output_fn`: This function takes the output of the inference code and its job is to serialize this output and return it to the caller of the model's endpoint.\n",
    " - `predict_fn`: The heart of the inference script, this is where the actual prediction is done and is the function which you will need to complete.\n",
    "\n",
    "For the simple website that we are constructing during this project, the `input_fn` and `output_fn` methods are relatively straightforward. We only require being able to accept a string as input and we expect to return a single value as output. You might imagine though that in a more complex application the input or output may be image data or some other binary data which would require some effort to serialize.\n",
    "\n",
    "### (TODO) Writing inference code\n",
    "\n",
    "Before writing our custom inference code, we will begin by taking a look at the code which has been provided."
   ]
  },
  {
   "cell_type": "code",
   "execution_count": null,
   "metadata": {},
   "outputs": [],
   "source": [
    "!pygmentize serve/predict.py"
   ]
  },
  {
   "cell_type": "markdown",
   "metadata": {},
   "source": [
    "As mentioned earlier, the `model_fn` method is the same as the one provided in the training code and the `input_fn` and `output_fn` methods are very simple and your task will be to complete the `predict_fn` method. Make sure that you save the completed file as `predict.py` in the `serve` directory.\n",
    "\n",
    "**TODO**: Complete the `predict_fn()` method in the `serve/predict.py` file."
   ]
  },
  {
   "cell_type": "markdown",
   "metadata": {},
   "source": [
    "### Deploying the model\n",
    "\n",
    "Now that the custom inference code has been written, we will create and deploy our model. To begin with, we need to construct a new PyTorchModel object which points to the model artifacts created during training and also points to the inference code that we wish to use. Then we can call the deploy method to launch the deployment container.\n",
    "\n",
    "**NOTE**: The default behaviour for a deployed PyTorch model is to assume that any input passed to the predictor is a `numpy` array. In our case we want to send a string so we need to construct a simple wrapper around the `RealTimePredictor` class to accomodate simple strings. In a more complicated situation you may want to provide a serialization object, for example if you wanted to sent image data."
   ]
  },
  {
   "cell_type": "code",
   "execution_count": null,
   "metadata": {},
   "outputs": [],
   "source": [
    "from sagemaker.predictor import RealTimePredictor\n",
    "from sagemaker.pytorch import PyTorchModel\n",
    "\n",
    "class StringPredictor(RealTimePredictor):\n",
    "    def __init__(self, endpoint_name, sagemaker_session):\n",
    "        super(StringPredictor, self).__init__(endpoint_name, sagemaker_session, content_type='text/plain')\n",
    "\n",
    "model = PyTorchModel(model_data=estimator.model_data,\n",
    "                     role = role,\n",
    "                     framework_version='0.4.0',\n",
    "                     entry_point='predict.py',\n",
    "                     source_dir='serve',\n",
    "                     predictor_cls=StringPredictor)\n",
    "predictor = model.deploy(initial_instance_count=1, instance_type='ml.m4.xlarge')"
   ]
  },
  {
   "cell_type": "markdown",
   "metadata": {},
   "source": [
    "### Testing the model\n",
    "\n",
    "Now that we have deployed our model with the custom inference code, we should test to see if everything is working. Here we test our model by loading the first `250` positive and negative reviews and send them to the endpoint, then collect the results. The reason for only sending some of the data is that the amount of time it takes for our model to process the input and then perform inference is quite long and so testing the entire data set would be prohibitive."
   ]
  },
  {
   "cell_type": "code",
   "execution_count": null,
   "metadata": {},
   "outputs": [],
   "source": [
    "import glob\n",
    "\n",
    "def test_reviews(data_dir='../data/aclImdb', stop=250):\n",
    "    \n",
    "    results = []\n",
    "    ground = []\n",
    "    \n",
    "    # We make sure to test both positive and negative reviews    \n",
    "    for sentiment in ['pos', 'neg']:\n",
    "        \n",
    "        path = os.path.join(data_dir, 'test', sentiment, '*.txt')\n",
    "        files = glob.glob(path)\n",
    "        \n",
    "        files_read = 0\n",
    "        \n",
    "        print('Starting ', sentiment, ' files')\n",
    "        \n",
    "        # Iterate through the files and send them to the predictor\n",
    "        for f in files:\n",
    "            with open(f) as review:\n",
    "                # First, we store the ground truth (was the review positive or negative)\n",
    "                if sentiment == 'pos':\n",
    "                    ground.append(1)\n",
    "                else:\n",
    "                    ground.append(0)\n",
    "                # Read in the review and convert to 'utf-8' for transmission via HTTP\n",
    "                review_input = review.read().encode('utf-8')\n",
    "                # Send the review to the predictor and store the results\n",
    "                results.append(float(predictor.predict(review_input)))\n",
    "                \n",
    "            # Sending reviews to our endpoint one at a time takes a while so we\n",
    "            # only send a small number of reviews\n",
    "            files_read += 1\n",
    "            if files_read == stop:\n",
    "                break\n",
    "            \n",
    "    return ground, results"
   ]
  },
  {
   "cell_type": "code",
   "execution_count": null,
   "metadata": {},
   "outputs": [],
   "source": [
    "ground, results = test_reviews()"
   ]
  },
  {
   "cell_type": "code",
   "execution_count": null,
   "metadata": {},
   "outputs": [],
   "source": [
    "from sklearn.metrics import accuracy_score\n",
    "accuracy_score(ground, results)"
   ]
  },
  {
   "cell_type": "markdown",
   "metadata": {},
   "source": [
    "As an additional test, we can try sending the `test_review` that we looked at earlier."
   ]
  },
  {
   "cell_type": "code",
   "execution_count": null,
   "metadata": {},
   "outputs": [],
   "source": [
    "predictor.predict(test_review)"
   ]
  },
  {
   "cell_type": "markdown",
   "metadata": {},
   "source": [
    "Now that we know our endpoint is working as expected, we can set up the web page that will interact with it. If you don't have time to finish the project now, make sure to skip down to the end of this notebook and shut down your endpoint. You can deploy it again when you come back."
   ]
  },
  {
   "cell_type": "markdown",
   "metadata": {},
   "source": [
    "## Step 7 (again): Use the model for the web app\n",
    "\n",
    "> **TODO:** This entire section and the next contain tasks for you to complete, mostly using the AWS console.\n",
    "\n",
    "So far we have been accessing our model endpoint by constructing a predictor object which uses the endpoint and then just using the predictor object to perform inference. What if we wanted to create a web app which accessed our model? The way things are set up currently makes that not possible since in order to access a SageMaker endpoint the app would first have to authenticate with AWS using an IAM role which included access to SageMaker endpoints. However, there is an easier way! We just need to use some additional AWS services.\n",
    "\n",
    "<img src=\"Web App Diagram.svg\">\n",
    "\n",
    "The diagram above gives an overview of how the various services will work together. On the far right is the model which we trained above and which is deployed using SageMaker. On the far left is our web app that collects a user's movie review, sends it off and expects a positive or negative sentiment in return.\n",
    "\n",
    "In the middle is where some of the magic happens. We will construct a Lambda function, which you can think of as a straightforward Python function that can be executed whenever a specified event occurs. We will give this function permission to send and recieve data from a SageMaker endpoint.\n",
    "\n",
    "Lastly, the method we will use to execute the Lambda function is a new endpoint that we will create using API Gateway. This endpoint will be a url that listens for data to be sent to it. Once it gets some data it will pass that data on to the Lambda function and then return whatever the Lambda function returns. Essentially it will act as an interface that lets our web app communicate with the Lambda function.\n",
    "\n",
    "### Setting up a Lambda function\n",
    "\n",
    "The first thing we are going to do is set up a Lambda function. This Lambda function will be executed whenever our public API has data sent to it. When it is executed it will receive the data, perform any sort of processing that is required, send the data (the review) to the SageMaker endpoint we've created and then return the result.\n",
    "\n",
    "#### Part A: Create an IAM Role for the Lambda function\n",
    "\n",
    "Since we want the Lambda function to call a SageMaker endpoint, we need to make sure that it has permission to do so. To do this, we will construct a role that we can later give the Lambda function.\n",
    "\n",
    "Using the AWS Console, navigate to the **IAM** page and click on **Roles**. Then, click on **Create role**. Make sure that the **AWS service** is the type of trusted entity selected and choose **Lambda** as the service that will use this role, then click **Next: Permissions**.\n",
    "\n",
    "In the search box type `sagemaker` and select the check box next to the **AmazonSageMakerFullAccess** policy. Then, click on **Next: Review**.\n",
    "\n",
    "Lastly, give this role a name. Make sure you use a name that you will remember later on, for example `LambdaSageMakerRole`. Then, click on **Create role**.\n",
    "\n",
    "#### Part B: Create a Lambda function\n",
    "\n",
    "Now it is time to actually create the Lambda function.\n",
    "\n",
    "Using the AWS Console, navigate to the AWS Lambda page and click on **Create a function**. When you get to the next page, make sure that **Author from scratch** is selected. Now, name your Lambda function, using a name that you will remember later on, for example `sentiment_analysis_func`. Make sure that the **Python 3.6** runtime is selected and then choose the role that you created in the previous part. Then, click on **Create Function**.\n",
    "\n",
    "On the next page you will see some information about the Lambda function you've just created. If you scroll down you should see an editor in which you can write the code that will be executed when your Lambda function is triggered. In our example, we will use the code below. \n",
    "\n",
    "```python\n",
    "# We need to use the low-level library to interact with SageMaker since the SageMaker API\n",
    "# is not available natively through Lambda.\n",
    "import boto3\n",
    "\n",
    "def lambda_handler(event, context):\n",
    "\n",
    "    # The SageMaker runtime is what allows us to invoke the endpoint that we've created.\n",
    "    runtime = boto3.Session().client('sagemaker-runtime')\n",
    "\n",
    "    # Now we use the SageMaker runtime to invoke our endpoint, sending the review we were given\n",
    "    response = runtime.invoke_endpoint(EndpointName = '**ENDPOINT NAME HERE**',    # The name of the endpoint we created\n",
    "                                       ContentType = 'text/plain',                 # The data format that is expected\n",
    "                                       Body = event['body'])                       # The actual review\n",
    "\n",
    "    # The response is an HTTP response whose body contains the result of our inference\n",
    "    result = response['Body'].read().decode('utf-8')\n",
    "\n",
    "    return {\n",
    "        'statusCode' : 200,\n",
    "        'headers' : { 'Content-Type' : 'text/plain', 'Access-Control-Allow-Origin' : '*' },\n",
    "        'body' : result\n",
    "    }\n",
    "```\n",
    "\n",
    "Once you have copy and pasted the code above into the Lambda code editor, replace the `**ENDPOINT NAME HERE**` portion with the name of the endpoint that we deployed earlier. You can determine the name of the endpoint using the code cell below."
   ]
  },
  {
   "cell_type": "code",
   "execution_count": null,
   "metadata": {},
   "outputs": [],
   "source": [
    "predictor.endpoint"
   ]
  },
  {
   "cell_type": "markdown",
   "metadata": {},
   "source": [
    "Once you have added the endpoint name to the Lambda function, click on **Save**. Your Lambda function is now up and running. Next we need to create a way for our web app to execute the Lambda function.\n",
    "\n",
    "### Setting up API Gateway\n",
    "\n",
    "Now that our Lambda function is set up, it is time to create a new API using API Gateway that will trigger the Lambda function we have just created.\n",
    "\n",
    "Using AWS Console, navigate to **Amazon API Gateway** and then click on **Get started**.\n",
    "\n",
    "On the next page, make sure that **New API** is selected and give the new api a name, for example, `sentiment_analysis_api`. Then, click on **Create API**.\n",
    "\n",
    "Now we have created an API, however it doesn't currently do anything. What we want it to do is to trigger the Lambda function that we created earlier.\n",
    "\n",
    "Select the **Actions** dropdown menu and click **Create Method**. A new blank method will be created, select its dropdown menu and select **POST**, then click on the check mark beside it.\n",
    "\n",
    "For the integration point, make sure that **Lambda Function** is selected and click on the **Use Lambda Proxy integration**. This option makes sure that the data that is sent to the API is then sent directly to the Lambda function with no processing. It also means that the return value must be a proper response object as it will also not be processed by API Gateway.\n",
    "\n",
    "Type the name of the Lambda function you created earlier into the **Lambda Function** text entry box and then click on **Save**. Click on **OK** in the pop-up box that then appears, giving permission to API Gateway to invoke the Lambda function you created.\n",
    "\n",
    "The last step in creating the API Gateway is to select the **Actions** dropdown and click on **Deploy API**. You will need to create a new Deployment stage and name it anything you like, for example `prod`.\n",
    "\n",
    "You have now successfully set up a public API to access your SageMaker model. Make sure to copy or write down the URL provided to invoke your newly created public API as this will be needed in the next step. This URL can be found at the top of the page, highlighted in blue next to the text **Invoke URL**."
   ]
  },
  {
   "cell_type": "markdown",
   "metadata": {},
   "source": [
    "## Step 4: Deploying our web app\n",
    "\n",
    "Now that we have a publicly available API, we can start using it in a web app. For our purposes, we have provided a simple static html file which can make use of the public api you created earlier.\n",
    "\n",
    "In the `website` folder there should be a file called `index.html`. Download the file to your computer and open that file up in a text editor of your choice. There should be a line which contains **\\*\\*REPLACE WITH PUBLIC API URL\\*\\***. Replace this string with the url that you wrote down in the last step and then save the file.\n",
    "\n",
    "Now, if you open `index.html` on your local computer, your browser will behave as a local web server and you can use the provided site to interact with your SageMaker model.\n",
    "\n",
    "If you'd like to go further, you can host this html file anywhere you'd like, for example using github or hosting a static site on Amazon's S3. Once you have done this you can share the link with anyone you'd like and have them play with it too!\n",
    "\n",
    "> **Important Note** In order for the web app to communicate with the SageMaker endpoint, the endpoint has to actually be deployed and running. This means that you are paying for it. Make sure that the endpoint is running when you want to use the web app but that you shut it down when you don't need it, otherwise you will end up with a surprisingly large AWS bill.\n",
    "\n",
    "**TODO:** Make sure that you include the edited `index.html` file in your project submission."
   ]
  },
  {
   "cell_type": "markdown",
   "metadata": {},
   "source": [
    "Now that your web app is working, trying playing around with it and see how well it works.\n",
    "\n",
    "**Question**: Give an example of a review that you entered into your web app. What was the predicted sentiment of your example review?"
   ]
  },
  {
   "cell_type": "markdown",
   "metadata": {},
   "source": [
    "**Answer:**"
   ]
  },
  {
   "cell_type": "markdown",
   "metadata": {},
   "source": [
    "### Delete the endpoint\n",
    "\n",
    "Remember to always shut down your endpoint if you are no longer using it. You are charged for the length of time that the endpoint is running so if you forget and leave it on you could end up with an unexpectedly large bill."
   ]
  },
  {
   "cell_type": "code",
   "execution_count": null,
   "metadata": {},
   "outputs": [],
   "source": [
    "predictor.delete_endpoint()"
   ]
  },
  {
   "cell_type": "code",
   "execution_count": null,
   "metadata": {},
   "outputs": [],
   "source": []
  }
 ],
 "metadata": {
  "kernelspec": {
   "display_name": "conda_pytorch_p36",
   "language": "python",
   "name": "conda_pytorch_p36"
  },
  "language_info": {
   "codemirror_mode": {
    "name": "ipython",
    "version": 3
   },
   "file_extension": ".py",
   "mimetype": "text/x-python",
   "name": "python",
   "nbconvert_exporter": "python",
   "pygments_lexer": "ipython3",
   "version": "3.6.10"
  }
 },
 "nbformat": 4,
 "nbformat_minor": 2
}
